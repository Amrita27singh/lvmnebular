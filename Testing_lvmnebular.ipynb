{
 "cells": [
  {
   "cell_type": "code",
   "execution_count": 1,
   "metadata": {},
   "outputs": [],
   "source": [
    "import lvmnebular\n",
    "import numpy as np"
   ]
  },
  {
   "cell_type": "code",
   "execution_count": 3,
   "metadata": {},
   "outputs": [
    {
     "name": "stdout",
     "output_type": "stream",
     "text": [
      "Loading simulation: /home/amrita/LVM/lvmnebular/Bubble_v2_1e-10\n",
      "\n"
     ]
    }
   ],
   "source": [
    "u=lvmnebular.simulation()\n",
    "u.loadsim('Bubble_v2_1e-10',900)\n",
    "\n",
    "#u.bin(rbinmax=240, drbin=10)"
   ]
  },
  {
   "cell_type": "code",
   "execution_count": 9,
   "metadata": {},
   "outputs": [],
   "source": [
    "u.fitlines(sys_vel=20, lines0= np.array([9069, 7319, 7330, 6731, 6716, 6584, 6563, 6548, 6312, 5755, 5007, 4959, 4861, 4363, 4069, 4076, 3970, 3729, 3726]), loadfile=True)"
   ]
  },
  {
   "cell_type": "code",
   "execution_count": 10,
   "metadata": {},
   "outputs": [
    {
     "name": "stdout",
     "output_type": "stream",
     "text": [
      "warng _ManageAtomicData: rec data not available for Al2\n",
      "warng _ManageAtomicData: rec data not available for Ar2\n",
      "warng _ManageAtomicData: rec data not available for Ar3\n",
      "warng _ManageAtomicData: rec data not available for Ar4\n",
      "warng _ManageAtomicData: rec data not available for Ar5\n",
      "warng _ManageAtomicData: rec data not available for Ba2\n",
      "warng _ManageAtomicData: rec data not available for Ba4\n",
      "ERROR None: No data for this case B\n",
      "ERROR None: No data for this case B\n",
      "warng _ManageAtomicData: rec data not available for Ca5\n",
      "warng _ManageAtomicData: rec data not available for Cl2\n",
      "warng _ManageAtomicData: rec data not available for Cl3\n",
      "warng _ManageAtomicData: rec data not available for Cl4\n",
      "warng _ManageAtomicData: rec data not available for Fe3\n",
      "warng _ManageAtomicData: rec data not available for K4\n",
      "warng _ManageAtomicData: rec data not available for K5\n",
      "warng _ManageAtomicData: rec data not available for Mg5\n",
      "warng _ManageAtomicData: rec data not available for Mg7\n",
      "ERROR None: No data for this case B\n",
      "warng _ManageAtomicData: rec data not available for Na4\n",
      "warng _ManageAtomicData: rec data not available for Na6\n",
      "warng _ManageAtomicData: rec data not available for Ne3\n",
      "warng _ManageAtomicData: rec data not available for Ne4\n",
      "warng _ManageAtomicData: rec data not available for Ne5\n",
      "warng _ManageAtomicData: rec data not available for Ne6\n",
      "warng _ManageAtomicData: rec data not available for Ni3\n",
      "ERROR None: No data for this case B\n",
      "warng _ManageAtomicData: rec data not available for S2\n",
      "warng _ManageAtomicData: rec data not available for S3\n",
      "warng _ManageAtomicData: rec data not available for S4\n",
      "warng _ManageAtomicData: rec data not available for Si2\n",
      "warng _ManageAtomicData: rec data not available for Si3\n",
      "warng _ManageAtomicData: rec data not available for Xe3\n",
      "warng _ManageAtomicData: rec data not available for Xe4\n",
      "warng _ManageAtomicData: rec data not available for Xe6\n",
      "warng _ManageAtomicData: rec data not available for Kr3\n",
      "warng _ManageAtomicData: rec data not available for Kr4\n",
      "warng _ManageAtomicData: rec data not available for Kr5\n",
      "warng _ManageAtomicData: rec data not available for Se3\n",
      "warng _ManageAtomicData: rec data not available for Se4\n",
      "warng _ManageAtomicData: rec data not available for Br3\n",
      "warng _ManageAtomicData: rec data not available for Br4\n",
      "warng _ManageAtomicData: rec data not available for Rb4\n",
      "warng _ManageAtomicData: rec data not available for Rb5\n",
      "warng _ManageAtomicData: rec data not available for Rb6\n",
      "warng _ManageAtomicData: rec data not available for Fe4\n",
      "warng _ManageAtomicData: rec data not available for Fe5\n",
      "warng _ManageAtomicData: rec data not available for Fe6\n",
      "warng _ManageAtomicData: rec data not available for Fe7\n",
      "warng _ManageAtomicData: rec data not available for Fe2\n",
      "warng _ManageAtomicData: rec data not available for P2\n",
      "warng _ManageAtomicData: rec data not available for Te3\n",
      "warng _ManageAtomicData: rec data not available for Kr6\n",
      "warng _ManageAtomicData: rec data not available for Br5\n",
      "[ 8453.10527726  8406.67065975  8414.88485053  8406.67065975\n",
      "  8436.36286471  8428.04503351  8453.10610293  8453.10527726\n",
      "  8429.19856941  8427.96268932  8438.75231604  8408.8062626\n",
      "  8442.33852392  8406.67065975  8416.36470272  8418.58494204\n",
      "  8414.88485053  8414.88485053  8410.53085487  8595.46592063\n",
      "  8521.74169725  8504.03164926  8526.56971852  8534.90106313\n",
      "  8471.20511979  8525.23709603  8446.33866807  8574.88111787\n",
      "  8457.89637752  8496.3121627   8427.88103661  8467.40063505\n",
      "  8424.42372545  8485.36469649  8439.94771867  8430.68009913\n",
      "  8452.03229064  8880.13093528  8745.34668647  8680.08028075\n",
      "  8683.64231045  8761.84709126  8757.99732066  8622.37122613\n",
      "  8719.37744466  8558.94243861  8741.76104143  8558.85884819\n",
      "  8833.85293045  8612.6082176   8689.83556481  8522.90637613\n",
      "  8621.44509807  8491.49930126  8612.6082176   8505.81866272\n",
      "  8676.26593362  8556.51824101  8514.42002927  8517.74700412\n",
      "  8578.52466014  8833.59406657  8955.90663832  8941.83619179\n",
      "  8921.77173759  8945.76597161  8945.76597161  8948.5627002\n",
      "  8902.88341518  8957.04402503  8803.79349586  8954.76982911\n",
      "  8763.81560452  8962.38266187  8798.63534621  8885.16406763\n",
      "  8900.27487551  8960.9820081   8739.7973504   8892.71661886\n",
      "  8662.88860715  8852.68076573  8653.24873429  8885.16406763\n",
      "  8710.73922702  8953.37147164  8819.97225206  8720.61207493\n",
      "  8686.10110273  8730.24241869  8850.00047705  8367.57179243\n",
      "  8554.26461906  8735.44443429  8798.63534621  8797.60422003\n",
      "  8708.2713723   8525.24530592  8541.0781377   8787.55769767\n",
      "  8691.02426172  8925.52050367  8738.09004883  8962.20762118\n",
      "  8687.45887068  8966.05880021  8599.49871671  8931.79793402\n",
      "  8237.14243153  8803.62150885  8621.27828001  8964.83318029\n",
      "  8824.71201617  8939.43416309  8900.27487551  8904.18839685\n",
      "  8901.40519706  8920.46451082  8842.48491423  8955.90663832\n",
      "  8688.56268222  8907.84169998  8962.12010597  8945.76597161\n",
      "  8945.76597161  8959.5820655   8879.00374458            nan\n",
      "            nan  9310.14604212  8321.29943863  8103.01659547\n",
      "  8317.8257416   8644.09900862            nan 29053.64483627\n",
      "  8185.56300815 15188.45274645  8436.08319476  7927.6357944\n",
      "  8594.37460787  8171.3345916   8653.24873429  8838.25487945\n",
      "  8618.83600178            nan  8524.15646234 37309.13348719\n",
      "  8025.56340953            nan  8520.41058367  8377.74104363\n",
      "  8754.14882322  8395.84218479  8833.68035116  8430.39870464\n",
      "  8850.00047705  8389.77586773  8785.06807164  8240.50861227\n",
      "  8628.52600647 12779.05058646  8344.88875553  8610.17022911\n",
      "  8747.82505575  8763.81560452  8724.19086681  8566.13396274\n",
      "  8272.10480375]\n"
     ]
    }
   ],
   "source": [
    "u.runpyneb(niter=4, bin=False, pertsim=False)"
   ]
  }
 ],
 "metadata": {
  "kernelspec": {
   "display_name": "Python 3.9.12 ('base')",
   "language": "python",
   "name": "python3"
  },
  "language_info": {
   "codemirror_mode": {
    "name": "ipython",
    "version": 3
   },
   "file_extension": ".py",
   "mimetype": "text/x-python",
   "name": "python",
   "nbconvert_exporter": "python",
   "pygments_lexer": "ipython3",
   "version": "3.9.12"
  },
  "orig_nbformat": 4,
  "vscode": {
   "interpreter": {
    "hash": "b943106136f0b7237aa45b13de07160508680759cd2ff79bd892a553daeee42a"
   }
  }
 },
 "nbformat": 4,
 "nbformat_minor": 2
}
