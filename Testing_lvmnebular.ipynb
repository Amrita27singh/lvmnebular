{
 "cells": [
  {
   "cell_type": "code",
   "execution_count": 1,
   "metadata": {},
   "outputs": [],
   "source": [
    "import lvmnebular\n",
    "import numpy as np"
   ]
  },
  {
   "cell_type": "code",
   "execution_count": 2,
   "metadata": {},
   "outputs": [
    {
     "name": "stdout",
     "output_type": "stream",
     "text": [
      "Loading simulation: /home/amrita/LVM/lvmnebular/Bubble_v2_5e-14\n",
      "\n"
     ]
    }
   ],
   "source": [
    "u=lvmnebular.simulation()\n",
    "u.loadsim('Bubble_v2_5e-14',900)\n",
    "\n",
    "#u.bin(rbinmax=240, drbin=10)"
   ]
  },
  {
   "cell_type": "code",
   "execution_count": 3,
   "metadata": {},
   "outputs": [
    {
     "name": "stdout",
     "output_type": "stream",
     "text": [
      "Fitting Emmission Lines: ['9069' '7319' '7320' '7330' '6731' '6717' '6584' '6563' '6548' '6312'\n",
      " '5755' '5007' '4959' '4861' '4363' '4069' '4076' '3970' '3729' '3726']\n"
     ]
    }
   ],
   "source": [
    "u.fitlines(sys_vel=20, lines0= np.array([9069, 7319, 7320, 7330, 6731, 6717, 6584, 6563, 6548, 6312, 5755, 5007, 4959, 4861, 4363, 4069, 4076, 3970, 3729, 3726]), loadfile=True, plot=False)"
   ]
  },
  {
   "cell_type": "code",
   "execution_count": 4,
   "metadata": {},
   "outputs": [
    {
     "name": "stdout",
     "output_type": "stream",
     "text": [
      "warng _ManageAtomicData: rec data not available for Al2\n",
      "warng _ManageAtomicData: rec data not available for Ar2\n",
      "warng _ManageAtomicData: rec data not available for Ar3\n",
      "warng _ManageAtomicData: rec data not available for Ar4\n",
      "warng _ManageAtomicData: rec data not available for Ar5\n",
      "warng _ManageAtomicData: rec data not available for Ba2\n",
      "warng _ManageAtomicData: rec data not available for Ba4\n",
      "ERROR None: No data for this case B\n",
      "ERROR None: No data for this case B\n",
      "warng _ManageAtomicData: rec data not available for Ca5\n",
      "warng _ManageAtomicData: rec data not available for Cl2\n",
      "warng _ManageAtomicData: rec data not available for Cl3\n",
      "warng _ManageAtomicData: rec data not available for Cl4\n",
      "warng _ManageAtomicData: rec data not available for Fe3\n",
      "warng _ManageAtomicData: rec data not available for K4\n",
      "warng _ManageAtomicData: rec data not available for K5\n",
      "warng _ManageAtomicData: rec data not available for Mg5\n",
      "warng _ManageAtomicData: rec data not available for Mg7\n",
      "ERROR None: No data for this case B\n",
      "warng _ManageAtomicData: rec data not available for Na4\n",
      "warng _ManageAtomicData: rec data not available for Na6\n",
      "warng _ManageAtomicData: rec data not available for Ne3\n",
      "warng _ManageAtomicData: rec data not available for Ne4\n",
      "warng _ManageAtomicData: rec data not available for Ne5\n",
      "warng _ManageAtomicData: rec data not available for Ne6\n",
      "warng _ManageAtomicData: rec data not available for Ni3\n",
      "ERROR None: No data for this case B\n",
      "warng _ManageAtomicData: rec data not available for S2\n",
      "warng _ManageAtomicData: rec data not available for S3\n",
      "warng _ManageAtomicData: rec data not available for S4\n",
      "warng _ManageAtomicData: rec data not available for Si2\n",
      "warng _ManageAtomicData: rec data not available for Si3\n",
      "warng _ManageAtomicData: rec data not available for Xe3\n",
      "warng _ManageAtomicData: rec data not available for Xe4\n",
      "warng _ManageAtomicData: rec data not available for Xe6\n",
      "warng _ManageAtomicData: rec data not available for Kr3\n",
      "warng _ManageAtomicData: rec data not available for Kr4\n",
      "warng _ManageAtomicData: rec data not available for Kr5\n",
      "warng _ManageAtomicData: rec data not available for Se3\n",
      "warng _ManageAtomicData: rec data not available for Se4\n",
      "warng _ManageAtomicData: rec data not available for Br3\n",
      "warng _ManageAtomicData: rec data not available for Br4\n",
      "warng _ManageAtomicData: rec data not available for Rb4\n",
      "warng _ManageAtomicData: rec data not available for Rb5\n",
      "warng _ManageAtomicData: rec data not available for Rb6\n",
      "warng _ManageAtomicData: rec data not available for Fe4\n",
      "warng _ManageAtomicData: rec data not available for Fe5\n",
      "warng _ManageAtomicData: rec data not available for Fe6\n",
      "warng _ManageAtomicData: rec data not available for Fe7\n",
      "warng _ManageAtomicData: rec data not available for Fe2\n",
      "warng _ManageAtomicData: rec data not available for P2\n",
      "warng _ManageAtomicData: rec data not available for Te3\n",
      "warng _ManageAtomicData: rec data not available for Kr6\n",
      "warng _ManageAtomicData: rec data not available for Br5\n"
     ]
    },
    {
     "name": "stderr",
     "output_type": "stream",
     "text": [
      "/home/amrita/LVM/lvmnebular/lvmnebular.py:272: RuntimeWarning: Mean of empty slice\n",
      "  self.TeO2 = np.nanmean(TO2, axis=1)\n",
      "/home/amrita/miniconda3/lib/python3.9/site-packages/numpy/lib/nanfunctions.py:1879: RuntimeWarning: Degrees of freedom <= 0 for slice.\n",
      "  var = nanvar(a, axis=axis, dtype=dtype, out=out, ddof=ddof,\n",
      "/home/amrita/LVM/lvmnebular/lvmnebular.py:279: RuntimeWarning: divide by zero encountered in true_divide\n",
      "  self.linefitdict['TeO2_snr']=self.TeO2/self.TeO2err\n"
     ]
    },
    {
     "name": "stdout",
     "output_type": "stream",
     "text": [
      "[ 8451.91725133  8480.35198538  8782.15988299  8546.91559833\n",
      "  8760.42011453  8361.82086982  8270.15778348  8957.74645969\n",
      "  8630.94744952  8459.21826727  8362.69374018  8525.00292466\n",
      "  8796.46251615  8837.11683899  8487.16220156  8630.69393344\n",
      "  8529.1493921   8758.13099907  8748.37157077  8754.60537653\n",
      "  9017.72038204  9047.0058595   8648.13183906  8642.31822018\n",
      "  8516.42160499  8992.18892194  8999.70114405  8911.22684896\n",
      "  8923.3787297   9030.48797653  8730.40988622  8608.14091482\n",
      "  8736.00622947  8660.05167109  8531.46852119  8557.15881892\n",
      "  8592.09328023  8901.4223136   8866.78930403  8965.40516524\n",
      "  8981.57265567  8827.8770802   8925.14951117  8943.2961597\n",
      "  8852.48160258  8464.23250717  9005.36521284  8541.09765251\n",
      "  8906.11750323  8849.17004367  8784.19156928  8824.00635236\n",
      "  8725.55071899  8552.3534651   8709.015814    8991.16549384\n",
      "  9246.4629002   8713.21255605  8557.20180644  8339.34425269\n",
      "  8856.95252562  8814.7175383   9105.38512786  9258.7896962\n",
      "  9419.22116669  9197.83854414  9239.60863587  8998.63868264\n",
      "  8869.88583382  9369.00982742  9067.51115049  9067.24904082\n",
      "  9135.0084743   9404.93240205  8790.45524672  8953.11967833\n",
      "  9367.92372675  9069.95714949  8972.449472    9013.93325232\n",
      "  8977.12464488  9270.11232768  8791.94910293  9207.84126225\n",
      "  9068.67893115  9144.21807243  8973.99326731  9016.59721898\n",
      "  8815.59334118  8983.70508355  9136.30355649 29858.36726333\n",
      " 11918.0849426  10326.95000865  8601.01333231  9463.15259739\n",
      "  8859.02072597  7908.88327456  7921.30855375  8965.96734204\n",
      "  9040.55401714  9172.50115125 10832.5014862   9062.50892953\n",
      "  8885.19254446  9388.15561839  8688.14472423  8925.16257551\n",
      " 41541.80337454  8868.38196114  9106.12576924  9343.47357522\n",
      "  8909.5833419   9102.8389623   9123.7242999   9045.01334033\n",
      "  8899.30127766  9096.54593083  9144.26102956  9048.86188194\n",
      " 10383.34129128  9050.62623211  9278.43068281  9578.38073465\n",
      "  9171.86065156  9014.45461545  8612.51846102            nan\n",
      "  6541.77496535 24544.50733897 42597.30254658 34586.12083345\n",
      " 25667.77864364 18334.03569237 12164.08199766            nan\n",
      "            nan 69099.80365121  9950.64429257            nan\n",
      "  8158.96903403 23400.90324423 10240.45615195            nan\n",
      "  9210.54538309 15834.27486426 10509.7235271   5806.44022366\n",
      " 27113.59424476            nan 10792.60938826 41602.17591439\n",
      "  8744.93178036 13566.52202035  9281.04337978 14636.08449039\n",
      "  8891.76118212 14243.67235204  8580.28583995 25216.20014002\n",
      "  9412.90456919 15171.86013502 24906.4829797   8651.33832024\n",
      "  9408.1734849   9134.42344638  8852.47256954 10965.92739324\n",
      " 30960.55236875]\n"
     ]
    },
    {
     "name": "stderr",
     "output_type": "stream",
     "text": [
      "/home/amrita/LVM/lvmnebular/lvmnebular.py:292: RuntimeWarning: Mean of empty slice\n",
      "  self.TeO3 = np.nanmean(TO3, axis=1)\n",
      "/home/amrita/LVM/lvmnebular/lvmnebular.py:299: RuntimeWarning: divide by zero encountered in true_divide\n",
      "  self.linefitdict['TeO3_snr']=self.TeO3/self.TeO3err\n",
      "/home/amrita/LVM/lvmnebular/lvmnebular.py:311: RuntimeWarning: Mean of empty slice\n",
      "  self.TeN2 = np.nanmean(TN2, axis=1)\n",
      "/home/amrita/LVM/lvmnebular/lvmnebular.py:313: RuntimeWarning: divide by zero encountered in true_divide\n",
      "  self.TeN2snr=self.TeN2/self.TeN2err\n"
     ]
    },
    {
     "name": "stdout",
     "output_type": "stream",
     "text": [
      "[ 49.25407304  59.63655208  27.04009775  48.51660948  46.95630196\n",
      "  60.47034247  41.19748034  55.93812941  36.96381629  31.07260323\n",
      "  34.62230101  79.5893778   50.8609295   58.12495546  28.51353601\n",
      "  46.74425882  33.18460489  60.51833991  46.52709713  43.00265116\n",
      "  41.08655182  45.73149449  35.22050673  82.28588511  55.5477013\n",
      "  61.71369449  42.29526115  56.96822726  48.95498932  39.8666387\n",
      "  43.01368242  46.19677835  86.32278412  44.65890271  43.32158107\n",
      "  44.13346287  63.98783034  41.05562293  49.08779952  68.38985606\n",
      "  71.59210944  43.51386974 101.79380941  51.58839136  36.90106019\n",
      "  50.0451334   75.37207344  81.84476391  74.37246332  50.88244391\n",
      "  52.34745691  54.03502773  88.46012364  62.95522791  63.36111286\n",
      "  47.74759054  91.00188347  82.83998113  55.96485193  41.82338266\n",
      "  55.85848708  60.66637235  61.96759753  91.27376724  51.63222079\n",
      "  60.61083765  40.51351578  63.11658052  58.21892488  67.13176693\n",
      "  71.21917679  61.13091968  54.06601575  74.95238697  76.76231931\n",
      "  46.99545899  89.48845409  65.53217954  58.01566289  61.80133501\n",
      "  68.83245606  88.30939674  61.63741129  56.73522055  57.74111386\n",
      "  53.32061779  86.31746059  79.79589524  51.78320057  78.96774047\n",
      "  55.34985945   3.1895666   19.47465456  26.70271512  34.94434227\n",
      "  41.75015232  40.45315314   7.6398966   20.82905564  45.93830527\n",
      "  14.58608264  58.09765956  34.14972964  45.3530109   26.12741402\n",
      "  68.25274402  14.62101179  44.77323412   4.16431223  48.24438343\n",
      "  27.66653917  60.73390497  42.43223221  84.30567947  51.38388552\n",
      "  84.78220252  59.59042909  71.70559759  50.03101243  73.94772018\n",
      "  26.81173239  57.55261363  62.06337882  73.84144211  54.34815492\n",
      "  57.3318601   39.79565038          nan          nan          nan\n",
      "   2.04307342   2.12204905   1.89392554          nan          nan\n",
      "          nan   5.90595017          nan   4.51894177          nan\n",
      "  14.91865933   1.9616306   15.71655742          nan  16.80427291\n",
      "          nan   7.33314117          nan          inf          inf\n",
      "  11.36923898   1.42173088  25.03983351   8.12573248  26.92843671\n",
      "   6.27234357  43.46682239   4.24454407  34.66006296   2.42054519\n",
      "  14.52994531          inf   3.53080789  13.08357154  33.81706538\n",
      "  40.02306371  20.84253494  17.70318372   3.04411037]\n"
     ]
    },
    {
     "name": "stderr",
     "output_type": "stream",
     "text": [
      "/home/amrita/LVM/lvmnebular/lvmnebular.py:333: RuntimeWarning: Mean of empty slice\n",
      "  self.TeS2 = np.nanmean(TS2, axis=1)\n",
      "/home/amrita/LVM/lvmnebular/lvmnebular.py:358: RuntimeWarning: invalid value encountered in true_divide\n",
      "  self.linefitdict['TeS3_snr']=self.TeS3/self.TeS3err\n"
     ]
    },
    {
     "name": "stdout",
     "output_type": "stream",
     "text": [
      "fiber_id [1]      delta_ra [1]     ... Temp_std_S3 TeS3_snr\n",
      "------------ --------------------- ... ----------- --------\n",
      "           0 1.546738304939677e-27 ...         0.0       --\n",
      "           1      18.4999999504005 ...         0.0       --\n",
      "           2   -18.499999950445808 ...         0.0       --\n",
      "           3     36.99999960315852 ...         0.0       --\n",
      "           4     -36.9999996031917 ...         0.0       --\n",
      "           5     18.49999995040049 ...         0.0       --\n",
      "           6   -18.499999950445808 ...         0.0       --\n",
      "           7     36.99999960315134 ...         0.0       --\n",
      "           8 7.848256766560548e-15 ...         0.0       --\n",
      "           9     -36.9999996031917 ...         0.0       --\n",
      "         ...                   ... ...         ...      ...\n",
      "         158    -166.4999638364341 ...         0.0       --\n",
      "         159    147.99997460119522 ...         0.0       --\n",
      "         160   -147.99997460135333 ...         0.0       --\n",
      "         161    129.49998298477573 ...         0.0       --\n",
      "         162     92.49999379912343 ...         0.0       --\n",
      "         163     55.49999866060994 ...         0.0       --\n",
      "         164    18.499999950389142 ...         0.0       --\n",
      "         165    -18.49999995026261 ...         0.0       --\n",
      "         166    -55.49999866072095 ...         0.0       --\n",
      "         167    -92.49999379914668 ...         0.0       --\n",
      "         168   -129.49998298485644 ...         0.0       --\n",
      "Length = 169 rows\n"
     ]
    },
    {
     "name": "stderr",
     "output_type": "stream",
     "text": [
      "/home/amrita/LVM/lvmnebular/lvmnebular.py:377: RuntimeWarning: Mean of empty slice\n",
      "  self.neO2 = np.nanmean(NO2, axis=1)\n",
      "/home/amrita/LVM/lvmnebular/lvmnebular.py:389: RuntimeWarning: Mean of empty slice\n",
      "  self.neS2 = np.nanmean(NS2, axis=1)\n"
     ]
    }
   ],
   "source": [
    "u.runpyneb(niter=10, bin=False, pertsim=False)"
   ]
  }
 ],
 "metadata": {
  "kernelspec": {
   "display_name": "Python 3.9.12 ('base')",
   "language": "python",
   "name": "python3"
  },
  "language_info": {
   "codemirror_mode": {
    "name": "ipython",
    "version": 3
   },
   "file_extension": ".py",
   "mimetype": "text/x-python",
   "name": "python",
   "nbconvert_exporter": "python",
   "pygments_lexer": "ipython3",
   "version": "3.9.12"
  },
  "orig_nbformat": 4,
  "vscode": {
   "interpreter": {
    "hash": "b943106136f0b7237aa45b13de07160508680759cd2ff79bd892a553daeee42a"
   }
  }
 },
 "nbformat": 4,
 "nbformat_minor": 2
}
