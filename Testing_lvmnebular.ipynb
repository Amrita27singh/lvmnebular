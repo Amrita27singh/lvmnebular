{
 "cells": [
  {
   "cell_type": "code",
   "execution_count": 1,
   "metadata": {},
   "outputs": [],
   "source": [
    "import lvmnebular\n",
    "import numpy as np"
   ]
  },
  {
   "cell_type": "code",
   "execution_count": 3,
   "metadata": {},
   "outputs": [
    {
     "name": "stdout",
     "output_type": "stream",
     "text": [
      "Loading simulation: /home/amrita/LVM/lvmnebular/Bubble_v2_1e-10\n",
      "\n"
     ]
    }
   ],
   "source": [
    "u=lvmnebular.simulation()\n",
    "u.loadsim('Bubble_v2_1e-10',900)\n",
    "\n",
    "#u.bin(rbinmax=240, drbin=10)"
   ]
  },
  {
   "cell_type": "code",
   "execution_count": 8,
   "metadata": {},
   "outputs": [
    {
     "ename": "NameError",
     "evalue": "name 'TSrue' is not defined",
     "output_type": "error",
     "traceback": [
      "\u001b[0;31m---------------------------------------------------------------------------\u001b[0m",
      "\u001b[0;31mNameError\u001b[0m                                 Traceback (most recent call last)",
      "\u001b[0;32m/tmp/ipykernel_591109/1303325662.py\u001b[0m in \u001b[0;36m<cell line: 1>\u001b[0;34m()\u001b[0m\n\u001b[0;32m----> 1\u001b[0;31m \u001b[0mu\u001b[0m\u001b[0;34m.\u001b[0m\u001b[0mfitlines\u001b[0m\u001b[0;34m(\u001b[0m\u001b[0msys_vel\u001b[0m\u001b[0;34m=\u001b[0m\u001b[0;36m20\u001b[0m\u001b[0;34m,\u001b[0m \u001b[0mlines0\u001b[0m\u001b[0;34m=\u001b[0m \u001b[0mnp\u001b[0m\u001b[0;34m.\u001b[0m\u001b[0marray\u001b[0m\u001b[0;34m(\u001b[0m\u001b[0;34m[\u001b[0m\u001b[0;36m9069\u001b[0m\u001b[0;34m,\u001b[0m \u001b[0;36m7319\u001b[0m\u001b[0;34m,\u001b[0m \u001b[0;36m7330\u001b[0m\u001b[0;34m,\u001b[0m \u001b[0;36m6731\u001b[0m\u001b[0;34m,\u001b[0m \u001b[0;36m6716\u001b[0m\u001b[0;34m,\u001b[0m \u001b[0;36m6584\u001b[0m\u001b[0;34m,\u001b[0m \u001b[0;36m6563\u001b[0m\u001b[0;34m,\u001b[0m \u001b[0;36m6548\u001b[0m\u001b[0;34m,\u001b[0m \u001b[0;36m6312\u001b[0m\u001b[0;34m,\u001b[0m \u001b[0;36m5755\u001b[0m\u001b[0;34m,\u001b[0m \u001b[0;36m5007\u001b[0m\u001b[0;34m,\u001b[0m \u001b[0;36m4959\u001b[0m\u001b[0;34m,\u001b[0m \u001b[0;36m4861\u001b[0m\u001b[0;34m,\u001b[0m \u001b[0;36m4363\u001b[0m\u001b[0;34m,\u001b[0m \u001b[0;36m4069\u001b[0m\u001b[0;34m,\u001b[0m \u001b[0;36m4076\u001b[0m\u001b[0;34m,\u001b[0m \u001b[0;36m3970\u001b[0m\u001b[0;34m,\u001b[0m \u001b[0;36m3729\u001b[0m\u001b[0;34m,\u001b[0m \u001b[0;36m3726\u001b[0m\u001b[0;34m]\u001b[0m\u001b[0;34m)\u001b[0m\u001b[0;34m,\u001b[0m \u001b[0mloadfile\u001b[0m\u001b[0;34m=\u001b[0m\u001b[0mTSrue\u001b[0m\u001b[0;34m)\u001b[0m\u001b[0;34m\u001b[0m\u001b[0;34m\u001b[0m\u001b[0m\n\u001b[0m",
      "\u001b[0;31mNameError\u001b[0m: name 'TSrue' is not defined"
     ]
    }
   ],
   "source": [
    "u.fitlines(sys_vel=20, lines0= np.array([9069, 7319, 7330, 6731, 6716, 6584, 6563, 6548, 6312, 5755, 5007, 4959, 4861, 4363, 4069, 4076, 3970, 3729, 3726]), loadfile=True)"
   ]
  },
  {
   "cell_type": "code",
   "execution_count": 7,
   "metadata": {},
   "outputs": [
    {
     "name": "stdout",
     "output_type": "stream",
     "text": [
      "warng _ManageAtomicData: rec data not available for Al2\n",
      "warng _ManageAtomicData: rec data not available for Ar2\n",
      "warng _ManageAtomicData: rec data not available for Ar3\n",
      "warng _ManageAtomicData: rec data not available for Ar4\n",
      "warng _ManageAtomicData: rec data not available for Ar5\n",
      "warng _ManageAtomicData: rec data not available for Ba2\n",
      "warng _ManageAtomicData: rec data not available for Ba4\n",
      "ERROR None: No data for this case B\n",
      "ERROR None: No data for this case B\n",
      "warng _ManageAtomicData: rec data not available for Ca5\n",
      "warng _ManageAtomicData: rec data not available for Cl2\n",
      "warng _ManageAtomicData: rec data not available for Cl3\n",
      "warng _ManageAtomicData: rec data not available for Cl4\n",
      "warng _ManageAtomicData: rec data not available for Fe3\n",
      "warng _ManageAtomicData: rec data not available for K4\n",
      "warng _ManageAtomicData: rec data not available for K5\n",
      "warng _ManageAtomicData: rec data not available for Mg5\n",
      "warng _ManageAtomicData: rec data not available for Mg7\n",
      "ERROR None: No data for this case B\n",
      "warng _ManageAtomicData: rec data not available for Na4\n",
      "warng _ManageAtomicData: rec data not available for Na6\n",
      "warng _ManageAtomicData: rec data not available for Ne3\n",
      "warng _ManageAtomicData: rec data not available for Ne4\n",
      "warng _ManageAtomicData: rec data not available for Ne5\n",
      "warng _ManageAtomicData: rec data not available for Ne6\n",
      "warng _ManageAtomicData: rec data not available for Ni3\n",
      "ERROR None: No data for this case B\n",
      "warng _ManageAtomicData: rec data not available for S2\n",
      "warng _ManageAtomicData: rec data not available for S3\n",
      "warng _ManageAtomicData: rec data not available for S4\n",
      "warng _ManageAtomicData: rec data not available for Si2\n",
      "warng _ManageAtomicData: rec data not available for Si3\n",
      "warng _ManageAtomicData: rec data not available for Xe3\n",
      "warng _ManageAtomicData: rec data not available for Xe4\n",
      "warng _ManageAtomicData: rec data not available for Xe6\n",
      "warng _ManageAtomicData: rec data not available for Kr3\n",
      "warng _ManageAtomicData: rec data not available for Kr4\n",
      "warng _ManageAtomicData: rec data not available for Kr5\n",
      "warng _ManageAtomicData: rec data not available for Se3\n",
      "warng _ManageAtomicData: rec data not available for Se4\n",
      "warng _ManageAtomicData: rec data not available for Br3\n",
      "warng _ManageAtomicData: rec data not available for Br4\n",
      "warng _ManageAtomicData: rec data not available for Rb4\n",
      "warng _ManageAtomicData: rec data not available for Rb5\n",
      "warng _ManageAtomicData: rec data not available for Rb6\n",
      "warng _ManageAtomicData: rec data not available for Fe4\n",
      "warng _ManageAtomicData: rec data not available for Fe5\n",
      "warng _ManageAtomicData: rec data not available for Fe6\n",
      "warng _ManageAtomicData: rec data not available for Fe7\n",
      "warng _ManageAtomicData: rec data not available for Fe2\n",
      "warng _ManageAtomicData: rec data not available for P2\n",
      "warng _ManageAtomicData: rec data not available for Te3\n",
      "warng _ManageAtomicData: rec data not available for Kr6\n",
      "warng _ManageAtomicData: rec data not available for Br5\n"
     ]
    },
    {
     "name": "stderr",
     "output_type": "stream",
     "text": [
      "/home/amrita/LVM/lvmnebular/lvmnebular.py:274: RuntimeWarning: Mean of empty slice\n",
      "  self.TeO2 = np.nanmean(TO2, axis=1)\n",
      "/home/amrita/miniconda3/lib/python3.9/site-packages/numpy/lib/nanfunctions.py:1879: RuntimeWarning: Degrees of freedom <= 0 for slice.\n",
      "  var = nanvar(a, axis=axis, dtype=dtype, out=out, ddof=ddof,\n"
     ]
    },
    {
     "name": "stdout",
     "output_type": "stream",
     "text": [
      "[ 8450.71243958  8406.42424406  8413.81671538  8406.58851798\n",
      "  8437.55759037  8426.23423639  8453.10527726  8455.33494258\n",
      "  8431.58599139  8433.85060623  8438.75231604  8410.44802961\n",
      "  8442.33852392  8407.7387949   8420.96966077  8418.33824701\n",
      "  8414.88485053  8412.09148775  8410.12081344  8596.64189239\n",
      "  8516.83196592  8502.62004265  8527.65241084  8535.98498276\n",
      "  8468.64145328  8525.23709603  8446.83407321  8576.09563196\n",
      "  8457.89570628  8496.39446554  8425.5759363   8472.2805404\n",
      "  8423.10768447  8489.50937001  8438.75231604  8431.58599139\n",
      "  8450.7117691   8881.34547333  8745.34668647  8680.67380218\n",
      "  8684.7441832   8765.1848783   8756.45762301  8622.37122613\n",
      "  8719.37744466  8557.77246976  8742.87112343  8559.11030853\n",
      "  8837.47737561  8608.90885573  8689.92045017  8523.23925854\n",
      "  8622.37122613  8490.25566508  8612.6082176   8507.14683378\n",
      "  8676.26593362  8560.19600768  8515.58407132  8516.83196592\n",
      "  8578.52466014  8835.06060803  8955.90663832  8943.23367547\n",
      "  8921.59739643  8944.63044959  8945.76597161  8949.69949575\n",
      "  8905.57964338  8955.90663832  8806.3726561   8955.90663832\n",
      "  8762.70369961  8955.90663832  8797.51902357  8889.06873153\n",
      "  8900.27487551  8962.38266187  8738.34614155  8893.84566057\n",
      "  8665.34183446  8853.97766991  8652.74103833  8885.16406763\n",
      "  8708.2713723   8947.16432907  8819.97225206  8719.37744466\n",
      "  8688.56268222  8729.1342865   8847.32181256  8405.46246048\n",
      "  8551.8486335   8734.07980649  8801.12764836  8796.35907877\n",
      "  8706.99559563  8519.08001982  8531.2350787   8790.99056204\n",
      "  8684.74697042  8930.31555552  8735.01973917  8958.44396763\n",
      "  8687.2057627   8966.05880021  8607.73224061  8930.57649651\n",
      "  8239.19300879  8807.49164175  8619.930474    8959.5820655\n",
      "  8819.97225206  8942.09815345  8900.27487551  8901.40519706\n",
      "  8906.62369329  8919.33220042  8846.112766    8955.90663832\n",
      "  8689.92045017  8909.2329465   8962.12010597  8944.63044959\n",
      "  8945.76597161  8958.44467879  8876.49002788 32483.67037813\n",
      "            nan  8873.77439841  8368.57035701  8129.04736581\n",
      "  8363.72962787  8819.49666914            nan 23248.48655316\n",
      "  8164.01972169 14823.24297707  8445.9593014   7996.73373658\n",
      "  8583.67975186  8194.13194955  8652.02455019  8947.01369357\n",
      "  8626.16463486            nan  8524.07852517 19997.26363979\n",
      "  8002.66371385            nan  8515.71141912  8313.13159022\n",
      "  8755.26016357  8404.46000427  8829.97032257  8438.75366996\n",
      "  8844.99010184  8395.85834011  8785.06807164  8225.28366726\n",
      "  8619.93324077 11117.04185484  8337.70170655  8609.91857877\n",
      "  8751.41407093  8761.33442584  8723.08273462  8567.47331804\n",
      "  8308.34683412]\n"
     ]
    },
    {
     "name": "stderr",
     "output_type": "stream",
     "text": [
      "/home/amrita/LVM/lvmnebular/lvmnebular.py:285: RuntimeWarning: Mean of empty slice\n",
      "  self.TeO3 = np.nanmean(TO3, axis=1)\n",
      "/home/amrita/LVM/lvmnebular/lvmnebular.py:295: RuntimeWarning: Mean of empty slice\n",
      "  self.TeN2 = np.nanmean(TN2, axis=1)\n",
      "/home/amrita/LVM/lvmnebular/lvmnebular.py:308: RuntimeWarning: Mean of empty slice\n",
      "  self.TeS2 = np.nanmean(TS2, axis=1)\n"
     ]
    }
   ],
   "source": [
    "u.runpyneb(niter=4, bin=False, pertsim=False)"
   ]
  }
 ],
 "metadata": {
  "kernelspec": {
   "display_name": "Python 3.9.12 ('base')",
   "language": "python",
   "name": "python3"
  },
  "language_info": {
   "codemirror_mode": {
    "name": "ipython",
    "version": 3
   },
   "file_extension": ".py",
   "mimetype": "text/x-python",
   "name": "python",
   "nbconvert_exporter": "python",
   "pygments_lexer": "ipython3",
   "version": "3.9.12"
  },
  "orig_nbformat": 4,
  "vscode": {
   "interpreter": {
    "hash": "b943106136f0b7237aa45b13de07160508680759cd2ff79bd892a553daeee42a"
   }
  }
 },
 "nbformat": 4,
 "nbformat_minor": 2
}
