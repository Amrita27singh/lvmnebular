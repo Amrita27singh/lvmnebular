{
 "cells": [
  {
   "cell_type": "code",
   "execution_count": 1,
   "metadata": {},
   "outputs": [],
   "source": [
    "import lvmnebular\n",
    "import numpy as np"
   ]
  },
  {
   "cell_type": "code",
   "execution_count": 2,
   "metadata": {},
   "outputs": [
    {
     "name": "stdout",
     "output_type": "stream",
     "text": [
      "Loading simulation: /home/amrita/LVM/lvmnebular/Bubble_v2_5e-14\n",
      "\n"
     ]
    }
   ],
   "source": [
    "u=lvmnebular.simulation()\n",
    "u.loadsim('Bubble_v2_5e-14',900)\n",
    "\n",
    "#u.bin(rbinmax=240, drbin=10)"
   ]
  },
  {
   "cell_type": "code",
   "execution_count": 3,
   "metadata": {},
   "outputs": [
    {
     "name": "stdout",
     "output_type": "stream",
     "text": [
      "Fitting Emmission Lines: ['9069' '7320' '7330' '6731' '6717' '6584' '6563' '6548' '6312' '5755'\n",
      " '5007' '4959' '4861' '4363' '4069' '4076' '3970' '3729' '3726']\n"
     ]
    }
   ],
   "source": [
    "u.fitlines(sys_vel=20, lines0= np.array([9069, 7320, 7330, 6731, 6717, 6584, 6563, 6548, 6312, 5755, 5007, 4959, 4861, 4363, 4069, 4076, 3970, 3729, 3726]), loadfile=False, plot=True)"
   ]
  },
  {
   "cell_type": "code",
   "execution_count": 4,
   "metadata": {},
   "outputs": [
    {
     "name": "stdout",
     "output_type": "stream",
     "text": [
      "warng _ManageAtomicData: rec data not available for Al2\n",
      "warng _ManageAtomicData: rec data not available for Ar2\n",
      "warng _ManageAtomicData: rec data not available for Ar3\n",
      "warng _ManageAtomicData: rec data not available for Ar4\n",
      "warng _ManageAtomicData: rec data not available for Ar5\n",
      "warng _ManageAtomicData: rec data not available for Ba2\n",
      "warng _ManageAtomicData: rec data not available for Ba4\n",
      "ERROR None: No data for this case B\n",
      "ERROR None: No data for this case B\n",
      "warng _ManageAtomicData: rec data not available for Ca5\n",
      "warng _ManageAtomicData: rec data not available for Cl2\n",
      "warng _ManageAtomicData: rec data not available for Cl3\n",
      "warng _ManageAtomicData: rec data not available for Cl4\n",
      "warng _ManageAtomicData: rec data not available for Fe3\n",
      "warng _ManageAtomicData: rec data not available for K4\n",
      "warng _ManageAtomicData: rec data not available for K5\n",
      "warng _ManageAtomicData: rec data not available for Mg5\n",
      "warng _ManageAtomicData: rec data not available for Mg7\n",
      "ERROR None: No data for this case B\n",
      "warng _ManageAtomicData: rec data not available for Na4\n",
      "warng _ManageAtomicData: rec data not available for Na6\n",
      "warng _ManageAtomicData: rec data not available for Ne3\n",
      "warng _ManageAtomicData: rec data not available for Ne4\n",
      "warng _ManageAtomicData: rec data not available for Ne5\n",
      "warng _ManageAtomicData: rec data not available for Ne6\n",
      "warng _ManageAtomicData: rec data not available for Ni3\n",
      "ERROR None: No data for this case B\n",
      "warng _ManageAtomicData: rec data not available for S2\n",
      "warng _ManageAtomicData: rec data not available for S3\n",
      "warng _ManageAtomicData: rec data not available for S4\n",
      "warng _ManageAtomicData: rec data not available for Si2\n",
      "warng _ManageAtomicData: rec data not available for Si3\n",
      "warng _ManageAtomicData: rec data not available for Xe3\n",
      "warng _ManageAtomicData: rec data not available for Xe4\n",
      "warng _ManageAtomicData: rec data not available for Xe6\n",
      "warng _ManageAtomicData: rec data not available for Kr3\n",
      "warng _ManageAtomicData: rec data not available for Kr4\n",
      "warng _ManageAtomicData: rec data not available for Kr5\n",
      "warng _ManageAtomicData: rec data not available for Se3\n",
      "warng _ManageAtomicData: rec data not available for Se4\n",
      "warng _ManageAtomicData: rec data not available for Br3\n",
      "warng _ManageAtomicData: rec data not available for Br4\n",
      "warng _ManageAtomicData: rec data not available for Rb4\n",
      "warng _ManageAtomicData: rec data not available for Rb5\n",
      "warng _ManageAtomicData: rec data not available for Rb6\n",
      "warng _ManageAtomicData: rec data not available for Fe4\n",
      "warng _ManageAtomicData: rec data not available for Fe5\n",
      "warng _ManageAtomicData: rec data not available for Fe6\n",
      "warng _ManageAtomicData: rec data not available for Fe7\n",
      "warng _ManageAtomicData: rec data not available for Fe2\n",
      "warng _ManageAtomicData: rec data not available for P2\n",
      "warng _ManageAtomicData: rec data not available for Te3\n",
      "warng _ManageAtomicData: rec data not available for Kr6\n",
      "warng _ManageAtomicData: rec data not available for Br5\n"
     ]
    },
    {
     "name": "stderr",
     "output_type": "stream",
     "text": [
      "/home/amrita/LVM/lvmnebular/lvmnebular.py:275: RuntimeWarning: Mean of empty slice\n",
      "  self.TeO2 = np.nanmean(TO2, axis=1)\n",
      "/home/amrita/miniconda3/lib/python3.9/site-packages/numpy/lib/nanfunctions.py:1879: RuntimeWarning: Degrees of freedom <= 0 for slice.\n",
      "  var = nanvar(a, axis=axis, dtype=dtype, out=out, ddof=ddof,\n"
     ]
    },
    {
     "name": "stdout",
     "output_type": "stream",
     "text": [
      "[ 8595.88608982  8552.37429409  8772.79085537  8712.42377553\n",
      "  8865.84855919  8436.07621036  8187.3519609   8939.82870586\n",
      "  8632.3573817   8623.33268402  8324.10070269  8627.55912327\n",
      "  8727.95056951  8868.54445591  8598.92045623  8640.3885468\n",
      "  8419.61772156  8634.57273564  8857.92340402  8745.7003778\n",
      "  9199.90081318  9136.04870609  8664.88747908  8548.76457344\n",
      "  8576.53521513  8951.06749241  8962.83936647  8974.70934799\n",
      "  8818.37249252  8782.0732388   8805.30118601  8669.62236573\n",
      "  8774.79300399  8677.44421135  8382.15577576  8563.04938045\n",
      "  8668.70535896  9022.19273249  8809.98543648  8971.37276932\n",
      "  8977.68677486  8755.89646314  8952.51937717  9086.75773978\n",
      "  8855.85764087  8569.62843149  8950.17107416  8645.49980543\n",
      "  8953.22769385  8835.66648373  8787.41382921  8878.52140667\n",
      "  8766.19356447  8636.68201093  8764.07757622  8923.71790835\n",
      "  9086.17040687  8700.93075219  8816.0373367   8464.26503645\n",
      "  8696.33574229  8780.61052713  9120.64069553  9239.76515228\n",
      "  9259.43506699  9245.58493048  9390.09014708  8957.85379946\n",
      "  8904.7237963   9298.78632992  9090.40838037  9017.91602829\n",
      "  9181.04641691  9466.73358107  8848.75065893  9116.39974045\n",
      "  9268.93768304  8972.88485661  9039.40483713  8954.06045042\n",
      "  9158.45280687  9227.36096771  8923.21355066  9130.57522174\n",
      "  9011.86509684  9051.22378175  8849.30705507  9124.80914008\n",
      "  8817.29218545  8835.26089916  8879.47499123 23773.58762338\n",
      " 10853.19060333 10205.84054433  8660.20526804  9649.99884465\n",
      "  9138.77459852 10912.50723225  7504.16548921  9136.5030689\n",
      "  9113.62988699  9135.53301018 11266.99268142  9271.47683187\n",
      "  9160.19889341  9372.83513231  8956.51213931  8930.79603615\n",
      " 46861.53781     9063.70308694  8501.81372983  9349.0289014\n",
      "  8945.45301315  8976.25496364  9225.93779779  9238.27078632\n",
      "  9052.65821277  9041.80636668  9057.12126116  9011.6930571\n",
      " 10449.80031433  8868.72689745  9373.50943477  9628.46648718\n",
      "  9148.7553642   9101.00167954  8735.57995355            nan\n",
      " 25782.32010409 15576.2825168  43074.19506906 27862.87529992\n",
      " 22418.03135869 18111.19984701            nan 31391.22425621\n",
      " 69099.80365121 15479.53969898  9701.64969741 87684.95615994\n",
      "  8104.82085578 15339.8628566   9471.85460155 52425.87610541\n",
      "  8911.26625721            nan  9898.58493089            nan\n",
      "            nan            nan 10237.89953682 21623.27565287\n",
      "  9083.97660905 14126.00205395  9220.82822376 13786.71419822\n",
      "  8870.96911997 12339.0939131   8660.05475619 22217.51677566\n",
      "  9899.13269755            nan 18685.69030493  8597.01756431\n",
      "  8885.74017868  9049.83853426  8840.03650863 12126.20952566\n",
      " 46958.081715  ]\n"
     ]
    },
    {
     "name": "stderr",
     "output_type": "stream",
     "text": [
      "/home/amrita/LVM/lvmnebular/lvmnebular.py:294: RuntimeWarning: Mean of empty slice\n",
      "  self.TeO3 = np.nanmean(TO3, axis=1)\n",
      "/home/amrita/LVM/lvmnebular/lvmnebular.py:311: RuntimeWarning: Mean of empty slice\n",
      "  self.TeN2 = np.nanmean(TN2, axis=1)\n",
      "/home/amrita/LVM/lvmnebular/lvmnebular.py:330: RuntimeWarning: Mean of empty slice\n",
      "  self.TeS2 = np.nanmean(TS2, axis=1)\n",
      "/home/amrita/LVM/lvmnebular/lvmnebular.py:370: RuntimeWarning: Mean of empty slice\n",
      "  self.neO2 = np.nanmean(NO2, axis=1)\n"
     ]
    },
    {
     "name": "stdout",
     "output_type": "stream",
     "text": [
      "[  85.99702108   99.03849748   82.47791715  100.6576956   103.52050751\n",
      "   91.53852723  107.73435474  102.81513289  106.95750032   97.08456449\n",
      "   96.43280454   94.87552753   80.62870614  106.81209172   99.21761029\n",
      "   96.97985811   97.94600191  111.3177412    91.15446726   92.09300564\n",
      "   96.14234543  102.64756274   97.24648537   93.22130369   82.36940038\n",
      "   83.88077335   85.6011847    78.72066185   88.41022629   93.96306418\n",
      "   94.65343735  100.28343056   80.40018968   97.83878896   89.44819284\n",
      "   94.77239747   95.01593449   92.97302835   84.40760686   90.45033404\n",
      "  104.7731071    91.22865011   90.44878454  114.35617781   97.20357296\n",
      "   96.2285569    94.82224943   91.67283762   94.73613547   93.7710692\n",
      "  105.67330539  117.38294153   94.44825142   88.56413386  102.02679981\n",
      "   96.61838183   85.56801589   97.49086352   82.2270791    97.10211196\n",
      "   80.7042573    76.25097975   84.12816281   91.34996879   83.24121761\n",
      "   93.0773454    71.08922848   91.11536492  107.06305025   96.09260767\n",
      "   92.36538338  100.73723112   95.4998237    94.9419957    84.19965099\n",
      "   99.3231731   100.899615     99.56970028   90.16714761   86.32440759\n",
      "   98.37836246   99.85905574   95.46525476   85.66018852   94.60295584\n",
      "   82.39595676   95.56093612   99.9326731    88.84233111   88.16849602\n",
      "   71.4487621            nan   37.88011518   83.89413492   94.46710915\n",
      "  102.69635105   72.68867021  115.21943305   52.2879048    77.26712351\n",
      "   82.78152004   83.40087245   81.26504344   93.98702171   97.00879744\n",
      "   98.47999788  116.40634801   85.46374702  138.13672513   82.72585554\n",
      "   69.2051729    90.63424117   83.83385303   77.10462098  102.21142637\n",
      "   90.19892893   93.66258962   86.53020307   93.4128309    98.89965053\n",
      "   65.3602037   102.03719018   92.61423557   84.93166655   77.55408252\n",
      "   79.91756787  103.6279386            nan           nan           nan\n",
      " 3827.29426575  320.10336311  916.14461912           nan           nan\n",
      "           nan   29.16907862 2400.00635028   62.07871737           nan\n",
      "   99.40177868 1463.32419932   75.97378351  140.02753925   65.23970985\n",
      "           nan   88.35830001           nan  410.80648948           nan\n",
      "   56.28853876  687.47023701   82.76611718  116.16129512   84.86281592\n",
      "   75.00784956   96.84086435           nan   86.3640251  3855.7598569\n",
      "   74.26712325           nan  256.22947147   80.23701084   75.29088443\n",
      "   99.61841431   92.81788859  114.59447711  145.21733177]\n",
      "[1.50140594e+03 1.55049616e+03 1.52709024e+03 1.48220875e+03\n",
      " 1.55047841e+03 1.48029471e+03 1.55291152e+03 1.44780051e+03\n",
      " 1.48789293e+03 1.48919999e+03 1.45509381e+03 1.47381779e+03\n",
      " 1.52656112e+03 1.45553232e+03 1.54836921e+03 1.51266554e+03\n",
      " 1.52218102e+03 1.47491677e+03 1.54701033e+03 1.56933462e+03\n",
      " 1.51726102e+03 1.54229456e+03 1.54080959e+03 1.51610532e+03\n",
      " 1.44937586e+03 1.56856445e+03 1.47130671e+03 1.55688477e+03\n",
      " 1.52322488e+03 1.52314076e+03 1.47717812e+03 1.48587072e+03\n",
      " 1.47969288e+03 1.51629374e+03 1.50944418e+03 1.49090722e+03\n",
      " 1.49114760e+03 1.60743010e+03 1.57343463e+03 1.54020432e+03\n",
      " 1.55657263e+03 1.56486912e+03 1.54966757e+03 1.54351517e+03\n",
      " 1.53016001e+03 1.54825564e+03 1.55421784e+03 1.51803217e+03\n",
      " 1.58112974e+03 1.60074453e+03 1.51447912e+03 1.56213675e+03\n",
      " 1.48984870e+03 1.50894460e+03 1.58251835e+03 1.48022929e+03\n",
      " 1.60405849e+03 1.52866351e+03 1.48606450e+03 1.51581069e+03\n",
      " 1.53127586e+03 1.62134373e+03 1.61719972e+03 1.64083675e+03\n",
      " 1.55340698e+03 1.58199750e+03 1.67909236e+03 1.52737422e+03\n",
      " 1.57634163e+03 1.58630282e+03 1.55998939e+03 1.55091383e+03\n",
      " 1.56975506e+03 1.63980555e+03 1.59109264e+03 1.62214292e+03\n",
      " 1.50973055e+03 1.52028185e+03 1.51871087e+03 1.57507410e+03\n",
      " 1.54988346e+03 1.58045601e+03 1.56971925e+03 1.55972318e+03\n",
      " 1.52734375e+03 1.62828992e+03 1.57515997e+03 1.54922059e+03\n",
      " 1.49873150e+03 1.55620345e+03 1.52159517e+03 6.63319719e+03\n",
      " 1.56360472e+03 1.52142034e+03 1.63208930e+03 1.64216319e+03\n",
      " 1.51967512e+03 1.71625014e+03 1.95491718e+03 1.62021427e+03\n",
      " 1.64976122e+03 1.62307068e+03 1.54566828e+03 1.53498681e+03\n",
      " 1.58761557e+03 1.59065437e+03 1.68293784e+03 1.51980472e+03\n",
      " 2.51258130e+03 1.67287989e+03 1.60192686e+03 1.63738964e+03\n",
      " 1.61592032e+03 1.57704603e+03 1.64014765e+03 1.53872165e+03\n",
      " 1.64946150e+03 1.58694422e+03 1.63009447e+03 1.58088766e+03\n",
      " 1.68106153e+03 1.60648389e+03 1.55388208e+03 1.60450225e+03\n",
      " 1.56456189e+03 1.62666872e+03 1.58129015e+03            nan\n",
      "            nan            nan 4.22102994e+03 2.62629132e+03\n",
      " 2.92752279e+03            nan            nan            nan\n",
      " 2.10953584e+03            nan 1.84784619e+03 3.58180765e+06\n",
      " 1.71129854e+03 1.37708919e+04 1.60750076e+03 1.59377615e+03\n",
      " 1.73860439e+03            nan 1.73215144e+03            nan\n",
      " 3.45355751e+03            nan 1.56292418e+03 6.08181574e+02\n",
      " 1.69014964e+03 2.73641684e+03 1.63954386e+03 1.93888541e+03\n",
      " 1.62804552e+03 1.84053285e+03 1.57674496e+03 3.19681447e+03\n",
      " 1.55922925e+03 1.90475566e+03 1.81218221e+03 1.74950752e+03\n",
      " 1.58068050e+03 1.58684189e+03 1.70812847e+03 1.55142689e+03\n",
      " 3.15390382e+03]\n"
     ]
    },
    {
     "name": "stderr",
     "output_type": "stream",
     "text": [
      "/home/amrita/LVM/lvmnebular/lvmnebular.py:382: RuntimeWarning: Mean of empty slice\n",
      "  self.neS2 = np.nanmean(NS2, axis=1)\n"
     ]
    }
   ],
   "source": [
    "u.runpyneb(niter=10, bin=False, pertsim=False)"
   ]
  }
 ],
 "metadata": {
  "kernelspec": {
   "display_name": "Python 3.9.12 ('base')",
   "language": "python",
   "name": "python3"
  },
  "language_info": {
   "codemirror_mode": {
    "name": "ipython",
    "version": 3
   },
   "file_extension": ".py",
   "mimetype": "text/x-python",
   "name": "python",
   "nbconvert_exporter": "python",
   "pygments_lexer": "ipython3",
   "version": "3.9.12"
  },
  "orig_nbformat": 4,
  "vscode": {
   "interpreter": {
    "hash": "b943106136f0b7237aa45b13de07160508680759cd2ff79bd892a553daeee42a"
   }
  }
 },
 "nbformat": 4,
 "nbformat_minor": 2
}
