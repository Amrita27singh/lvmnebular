{
 "cells": [
  {
   "cell_type": "code",
   "execution_count": 3,
   "metadata": {},
   "outputs": [],
   "source": [
    "import lvmnebular\n",
    "import numpy as np"
   ]
  },
  {
   "cell_type": "code",
   "execution_count": 4,
   "metadata": {},
   "outputs": [
    {
     "name": "stdout",
     "output_type": "stream",
     "text": [
      "Loading simulation: /home/amrita/LVM/lvmnebular/Bubble_v2_5e-14\n",
      "\n"
     ]
    }
   ],
   "source": [
    "u=lvmnebular.simulation()\n",
    "u.loadsim('Bubble_v2_5e-14',900)\n",
    "\n",
    "#u.bin(rbinmax=240, drbin=10)"
   ]
  },
  {
   "cell_type": "code",
   "execution_count": 5,
   "metadata": {},
   "outputs": [
    {
     "name": "stdout",
     "output_type": "stream",
     "text": [
      "Fitting Emmission Lines: ['9069' '7319' '7330' '6731' '6717' '6584' '6563' '6548' '6312' '5755'\n",
      " '5007' '4959' '4861' '4363' '4069' '4076' '3970' '3729' '3726']\n"
     ]
    },
    {
     "ename": "FileNotFoundError",
     "evalue": "[Errno 2] No such file or directory: '/home/amrita/LVM/lvmnebular/Bubble_v2_5e-14/Bubble_v2_5e-14_linefits.fits'",
     "output_type": "error",
     "traceback": [
      "\u001b[0;31m---------------------------------------------------------------------------\u001b[0m",
      "\u001b[0;31mFileNotFoundError\u001b[0m                         Traceback (most recent call last)",
      "\u001b[0;32m/tmp/ipykernel_608995/2524980363.py\u001b[0m in \u001b[0;36m<cell line: 1>\u001b[0;34m()\u001b[0m\n\u001b[0;32m----> 1\u001b[0;31m \u001b[0mu\u001b[0m\u001b[0;34m.\u001b[0m\u001b[0mfitlines\u001b[0m\u001b[0;34m(\u001b[0m\u001b[0msys_vel\u001b[0m\u001b[0;34m=\u001b[0m\u001b[0;36m20\u001b[0m\u001b[0;34m,\u001b[0m \u001b[0mlines0\u001b[0m\u001b[0;34m=\u001b[0m \u001b[0mnp\u001b[0m\u001b[0;34m.\u001b[0m\u001b[0marray\u001b[0m\u001b[0;34m(\u001b[0m\u001b[0;34m[\u001b[0m\u001b[0;36m9069\u001b[0m\u001b[0;34m,\u001b[0m \u001b[0;36m7319\u001b[0m\u001b[0;34m,\u001b[0m \u001b[0;36m7330\u001b[0m\u001b[0;34m,\u001b[0m \u001b[0;36m6731\u001b[0m\u001b[0;34m,\u001b[0m \u001b[0;36m6717\u001b[0m\u001b[0;34m,\u001b[0m \u001b[0;36m6584\u001b[0m\u001b[0;34m,\u001b[0m \u001b[0;36m6563\u001b[0m\u001b[0;34m,\u001b[0m \u001b[0;36m6548\u001b[0m\u001b[0;34m,\u001b[0m \u001b[0;36m6312\u001b[0m\u001b[0;34m,\u001b[0m \u001b[0;36m5755\u001b[0m\u001b[0;34m,\u001b[0m \u001b[0;36m5007\u001b[0m\u001b[0;34m,\u001b[0m \u001b[0;36m4959\u001b[0m\u001b[0;34m,\u001b[0m \u001b[0;36m4861\u001b[0m\u001b[0;34m,\u001b[0m \u001b[0;36m4363\u001b[0m\u001b[0;34m,\u001b[0m \u001b[0;36m4069\u001b[0m\u001b[0;34m,\u001b[0m \u001b[0;36m4076\u001b[0m\u001b[0;34m,\u001b[0m \u001b[0;36m3970\u001b[0m\u001b[0;34m,\u001b[0m \u001b[0;36m3729\u001b[0m\u001b[0;34m,\u001b[0m \u001b[0;36m3726\u001b[0m\u001b[0;34m]\u001b[0m\u001b[0;34m)\u001b[0m\u001b[0;34m,\u001b[0m \u001b[0mloadfile\u001b[0m\u001b[0;34m=\u001b[0m\u001b[0;32mTrue\u001b[0m\u001b[0;34m)\u001b[0m\u001b[0;34m\u001b[0m\u001b[0;34m\u001b[0m\u001b[0m\n\u001b[0m",
      "\u001b[0;32m~/LVM/lvmnebular/lvmnebular.py\u001b[0m in \u001b[0;36mfitlines\u001b[0;34m(self, sys_vel, lines0, bin, pertsim, loadfile)\u001b[0m\n\u001b[1;32m    142\u001b[0m         \u001b[0;32mif\u001b[0m \u001b[0mloadfile\u001b[0m\u001b[0;34m:\u001b[0m\u001b[0;34m\u001b[0m\u001b[0;34m\u001b[0m\u001b[0m\n\u001b[1;32m    143\u001b[0m \u001b[0;34m\u001b[0m\u001b[0m\n\u001b[0;32m--> 144\u001b[0;31m             \u001b[0mtabledata\u001b[0m\u001b[0;34m=\u001b[0m\u001b[0mfits\u001b[0m\u001b[0;34m.\u001b[0m\u001b[0mopen\u001b[0m\u001b[0;34m(\u001b[0m\u001b[0mself\u001b[0m\u001b[0;34m.\u001b[0m\u001b[0mlinefitfile\u001b[0m\u001b[0;34m)\u001b[0m\u001b[0;34m\u001b[0m\u001b[0;34m\u001b[0m\u001b[0m\n\u001b[0m\u001b[1;32m    145\u001b[0m             \u001b[0mt\u001b[0m\u001b[0;34m=\u001b[0m\u001b[0mTable\u001b[0m\u001b[0;34m.\u001b[0m\u001b[0mread\u001b[0m\u001b[0;34m(\u001b[0m\u001b[0mtabledata\u001b[0m\u001b[0;34m)\u001b[0m\u001b[0;34m\u001b[0m\u001b[0;34m\u001b[0m\u001b[0m\n\u001b[1;32m    146\u001b[0m             \u001b[0mself\u001b[0m\u001b[0;34m.\u001b[0m\u001b[0mlinefitdict\u001b[0m\u001b[0;34m=\u001b[0m\u001b[0mt\u001b[0m\u001b[0;34m\u001b[0m\u001b[0;34m\u001b[0m\u001b[0m\n",
      "\u001b[0;32m~/miniconda3/lib/python3.9/site-packages/astropy/io/fits/hdu/hdulist.py\u001b[0m in \u001b[0;36mfitsopen\u001b[0;34m(name, mode, memmap, save_backup, cache, lazy_load_hdus, ignore_missing_simple, **kwargs)\u001b[0m\n\u001b[1;32m    174\u001b[0m         \u001b[0;32mraise\u001b[0m \u001b[0mValueError\u001b[0m\u001b[0;34m(\u001b[0m\u001b[0;34mf'Empty filename: {name!r}'\u001b[0m\u001b[0;34m)\u001b[0m\u001b[0;34m\u001b[0m\u001b[0;34m\u001b[0m\u001b[0m\n\u001b[1;32m    175\u001b[0m \u001b[0;34m\u001b[0m\u001b[0m\n\u001b[0;32m--> 176\u001b[0;31m     return HDUList.fromfile(name, mode, memmap, save_backup, cache,\n\u001b[0m\u001b[1;32m    177\u001b[0m                             lazy_load_hdus, ignore_missing_simple, **kwargs)\n\u001b[1;32m    178\u001b[0m \u001b[0;34m\u001b[0m\u001b[0m\n",
      "\u001b[0;32m~/miniconda3/lib/python3.9/site-packages/astropy/io/fits/hdu/hdulist.py\u001b[0m in \u001b[0;36mfromfile\u001b[0;34m(cls, fileobj, mode, memmap, save_backup, cache, lazy_load_hdus, ignore_missing_simple, **kwargs)\u001b[0m\n\u001b[1;32m    409\u001b[0m         \"\"\"\n\u001b[1;32m    410\u001b[0m \u001b[0;34m\u001b[0m\u001b[0m\n\u001b[0;32m--> 411\u001b[0;31m         return cls._readfrom(fileobj=fileobj, mode=mode, memmap=memmap,\n\u001b[0m\u001b[1;32m    412\u001b[0m                              \u001b[0msave_backup\u001b[0m\u001b[0;34m=\u001b[0m\u001b[0msave_backup\u001b[0m\u001b[0;34m,\u001b[0m \u001b[0mcache\u001b[0m\u001b[0;34m=\u001b[0m\u001b[0mcache\u001b[0m\u001b[0;34m,\u001b[0m\u001b[0;34m\u001b[0m\u001b[0;34m\u001b[0m\u001b[0m\n\u001b[1;32m    413\u001b[0m                              \u001b[0mignore_missing_simple\u001b[0m\u001b[0;34m=\u001b[0m\u001b[0mignore_missing_simple\u001b[0m\u001b[0;34m,\u001b[0m\u001b[0;34m\u001b[0m\u001b[0;34m\u001b[0m\u001b[0m\n",
      "\u001b[0;32m~/miniconda3/lib/python3.9/site-packages/astropy/io/fits/hdu/hdulist.py\u001b[0m in \u001b[0;36m_readfrom\u001b[0;34m(cls, fileobj, data, mode, memmap, cache, lazy_load_hdus, ignore_missing_simple, **kwargs)\u001b[0m\n\u001b[1;32m   1069\u001b[0m             \u001b[0;32mif\u001b[0m \u001b[0;32mnot\u001b[0m \u001b[0misinstance\u001b[0m\u001b[0;34m(\u001b[0m\u001b[0mfileobj\u001b[0m\u001b[0;34m,\u001b[0m \u001b[0m_File\u001b[0m\u001b[0;34m)\u001b[0m\u001b[0;34m:\u001b[0m\u001b[0;34m\u001b[0m\u001b[0;34m\u001b[0m\u001b[0m\n\u001b[1;32m   1070\u001b[0m                 \u001b[0;31m# instantiate a FITS file object (ffo)\u001b[0m\u001b[0;34m\u001b[0m\u001b[0;34m\u001b[0m\u001b[0m\n\u001b[0;32m-> 1071\u001b[0;31m                 \u001b[0mfileobj\u001b[0m \u001b[0;34m=\u001b[0m \u001b[0m_File\u001b[0m\u001b[0;34m(\u001b[0m\u001b[0mfileobj\u001b[0m\u001b[0;34m,\u001b[0m \u001b[0mmode\u001b[0m\u001b[0;34m=\u001b[0m\u001b[0mmode\u001b[0m\u001b[0;34m,\u001b[0m \u001b[0mmemmap\u001b[0m\u001b[0;34m=\u001b[0m\u001b[0mmemmap\u001b[0m\u001b[0;34m,\u001b[0m \u001b[0mcache\u001b[0m\u001b[0;34m=\u001b[0m\u001b[0mcache\u001b[0m\u001b[0;34m)\u001b[0m\u001b[0;34m\u001b[0m\u001b[0;34m\u001b[0m\u001b[0m\n\u001b[0m\u001b[1;32m   1072\u001b[0m             \u001b[0;31m# The Astropy mode is determined by the _File initializer if the\u001b[0m\u001b[0;34m\u001b[0m\u001b[0;34m\u001b[0m\u001b[0m\n\u001b[1;32m   1073\u001b[0m             \u001b[0;31m# supplied mode was None\u001b[0m\u001b[0;34m\u001b[0m\u001b[0;34m\u001b[0m\u001b[0m\n",
      "\u001b[0;32m~/miniconda3/lib/python3.9/site-packages/astropy/utils/decorators.py\u001b[0m in \u001b[0;36mwrapper\u001b[0;34m(*args, **kwargs)\u001b[0m\n\u001b[1;32m    544\u001b[0m                     \u001b[0mwarnings\u001b[0m\u001b[0;34m.\u001b[0m\u001b[0mwarn\u001b[0m\u001b[0;34m(\u001b[0m\u001b[0mmsg\u001b[0m\u001b[0;34m,\u001b[0m \u001b[0mwarning_type\u001b[0m\u001b[0;34m,\u001b[0m \u001b[0mstacklevel\u001b[0m\u001b[0;34m=\u001b[0m\u001b[0;36m2\u001b[0m\u001b[0;34m)\u001b[0m\u001b[0;34m\u001b[0m\u001b[0;34m\u001b[0m\u001b[0m\n\u001b[1;32m    545\u001b[0m \u001b[0;34m\u001b[0m\u001b[0m\n\u001b[0;32m--> 546\u001b[0;31m             \u001b[0;32mreturn\u001b[0m \u001b[0mfunction\u001b[0m\u001b[0;34m(\u001b[0m\u001b[0;34m*\u001b[0m\u001b[0margs\u001b[0m\u001b[0;34m,\u001b[0m \u001b[0;34m**\u001b[0m\u001b[0mkwargs\u001b[0m\u001b[0;34m)\u001b[0m\u001b[0;34m\u001b[0m\u001b[0;34m\u001b[0m\u001b[0m\n\u001b[0m\u001b[1;32m    547\u001b[0m \u001b[0;34m\u001b[0m\u001b[0m\n\u001b[1;32m    548\u001b[0m         \u001b[0;32mreturn\u001b[0m \u001b[0mwrapper\u001b[0m\u001b[0;34m\u001b[0m\u001b[0;34m\u001b[0m\u001b[0m\n",
      "\u001b[0;32m~/miniconda3/lib/python3.9/site-packages/astropy/io/fits/file.py\u001b[0m in \u001b[0;36m__init__\u001b[0;34m(self, fileobj, mode, memmap, overwrite, cache)\u001b[0m\n\u001b[1;32m    173\u001b[0m             \u001b[0mself\u001b[0m\u001b[0;34m.\u001b[0m\u001b[0m_open_fileobj\u001b[0m\u001b[0;34m(\u001b[0m\u001b[0mfileobj\u001b[0m\u001b[0;34m,\u001b[0m \u001b[0mmode\u001b[0m\u001b[0;34m,\u001b[0m \u001b[0moverwrite\u001b[0m\u001b[0;34m)\u001b[0m\u001b[0;34m\u001b[0m\u001b[0;34m\u001b[0m\u001b[0m\n\u001b[1;32m    174\u001b[0m         \u001b[0;32melif\u001b[0m \u001b[0misinstance\u001b[0m\u001b[0;34m(\u001b[0m\u001b[0mfileobj\u001b[0m\u001b[0;34m,\u001b[0m \u001b[0;34m(\u001b[0m\u001b[0mstr\u001b[0m\u001b[0;34m,\u001b[0m \u001b[0mbytes\u001b[0m\u001b[0;34m)\u001b[0m\u001b[0;34m)\u001b[0m\u001b[0;34m:\u001b[0m\u001b[0;34m\u001b[0m\u001b[0;34m\u001b[0m\u001b[0m\n\u001b[0;32m--> 175\u001b[0;31m             \u001b[0mself\u001b[0m\u001b[0;34m.\u001b[0m\u001b[0m_open_filename\u001b[0m\u001b[0;34m(\u001b[0m\u001b[0mfileobj\u001b[0m\u001b[0;34m,\u001b[0m \u001b[0mmode\u001b[0m\u001b[0;34m,\u001b[0m \u001b[0moverwrite\u001b[0m\u001b[0;34m)\u001b[0m\u001b[0;34m\u001b[0m\u001b[0;34m\u001b[0m\u001b[0m\n\u001b[0m\u001b[1;32m    176\u001b[0m         \u001b[0;32melse\u001b[0m\u001b[0;34m:\u001b[0m\u001b[0;34m\u001b[0m\u001b[0;34m\u001b[0m\u001b[0m\n\u001b[1;32m    177\u001b[0m             \u001b[0mself\u001b[0m\u001b[0;34m.\u001b[0m\u001b[0m_open_filelike\u001b[0m\u001b[0;34m(\u001b[0m\u001b[0mfileobj\u001b[0m\u001b[0;34m,\u001b[0m \u001b[0mmode\u001b[0m\u001b[0;34m,\u001b[0m \u001b[0moverwrite\u001b[0m\u001b[0;34m)\u001b[0m\u001b[0;34m\u001b[0m\u001b[0;34m\u001b[0m\u001b[0m\n",
      "\u001b[0;32m~/miniconda3/lib/python3.9/site-packages/astropy/io/fits/file.py\u001b[0m in \u001b[0;36m_open_filename\u001b[0;34m(self, filename, mode, overwrite)\u001b[0m\n\u001b[1;32m    562\u001b[0m \u001b[0;34m\u001b[0m\u001b[0m\n\u001b[1;32m    563\u001b[0m         \u001b[0;32mif\u001b[0m \u001b[0;32mnot\u001b[0m \u001b[0mself\u001b[0m\u001b[0;34m.\u001b[0m\u001b[0m_try_read_compressed\u001b[0m\u001b[0;34m(\u001b[0m\u001b[0mself\u001b[0m\u001b[0;34m.\u001b[0m\u001b[0mname\u001b[0m\u001b[0;34m,\u001b[0m \u001b[0mmagic\u001b[0m\u001b[0;34m,\u001b[0m \u001b[0mmode\u001b[0m\u001b[0;34m,\u001b[0m \u001b[0mext\u001b[0m\u001b[0;34m=\u001b[0m\u001b[0mext\u001b[0m\u001b[0;34m)\u001b[0m\u001b[0;34m:\u001b[0m\u001b[0;34m\u001b[0m\u001b[0;34m\u001b[0m\u001b[0m\n\u001b[0;32m--> 564\u001b[0;31m             \u001b[0mself\u001b[0m\u001b[0;34m.\u001b[0m\u001b[0m_file\u001b[0m \u001b[0;34m=\u001b[0m \u001b[0mfileobj_open\u001b[0m\u001b[0;34m(\u001b[0m\u001b[0mself\u001b[0m\u001b[0;34m.\u001b[0m\u001b[0mname\u001b[0m\u001b[0;34m,\u001b[0m \u001b[0mIO_FITS_MODES\u001b[0m\u001b[0;34m[\u001b[0m\u001b[0mmode\u001b[0m\u001b[0;34m]\u001b[0m\u001b[0;34m)\u001b[0m\u001b[0;34m\u001b[0m\u001b[0;34m\u001b[0m\u001b[0m\n\u001b[0m\u001b[1;32m    565\u001b[0m             \u001b[0mself\u001b[0m\u001b[0;34m.\u001b[0m\u001b[0mclose_on_error\u001b[0m \u001b[0;34m=\u001b[0m \u001b[0;32mTrue\u001b[0m\u001b[0;34m\u001b[0m\u001b[0;34m\u001b[0m\u001b[0m\n\u001b[1;32m    566\u001b[0m \u001b[0;34m\u001b[0m\u001b[0m\n",
      "\u001b[0;32m~/miniconda3/lib/python3.9/site-packages/astropy/io/fits/util.py\u001b[0m in \u001b[0;36mfileobj_open\u001b[0;34m(filename, mode)\u001b[0m\n\u001b[1;32m    386\u001b[0m     \"\"\"\n\u001b[1;32m    387\u001b[0m \u001b[0;34m\u001b[0m\u001b[0m\n\u001b[0;32m--> 388\u001b[0;31m     \u001b[0;32mreturn\u001b[0m \u001b[0mopen\u001b[0m\u001b[0;34m(\u001b[0m\u001b[0mfilename\u001b[0m\u001b[0;34m,\u001b[0m \u001b[0mmode\u001b[0m\u001b[0;34m,\u001b[0m \u001b[0mbuffering\u001b[0m\u001b[0;34m=\u001b[0m\u001b[0;36m0\u001b[0m\u001b[0;34m)\u001b[0m\u001b[0;34m\u001b[0m\u001b[0;34m\u001b[0m\u001b[0m\n\u001b[0m\u001b[1;32m    389\u001b[0m \u001b[0;34m\u001b[0m\u001b[0m\n\u001b[1;32m    390\u001b[0m \u001b[0;34m\u001b[0m\u001b[0m\n",
      "\u001b[0;31mFileNotFoundError\u001b[0m: [Errno 2] No such file or directory: '/home/amrita/LVM/lvmnebular/Bubble_v2_5e-14/Bubble_v2_5e-14_linefits.fits'"
     ]
    }
   ],
   "source": [
    "u.fitlines(sys_vel=20, lines0= np.array([9069, 7319, 7330, 6731, 6717, 6584, 6563, 6548, 6312, 5755, 5007, 4959, 4861, 4363, 4069, 4076, 3970, 3729, 3726]), loadfile=False)"
   ]
  },
  {
   "cell_type": "code",
   "execution_count": 4,
   "metadata": {},
   "outputs": [
    {
     "name": "stdout",
     "output_type": "stream",
     "text": [
      "warng _ManageAtomicData: rec data not available for Al2\n",
      "warng _ManageAtomicData: rec data not available for Ar2\n",
      "warng _ManageAtomicData: rec data not available for Ar3\n",
      "warng _ManageAtomicData: rec data not available for Ar4\n",
      "warng _ManageAtomicData: rec data not available for Ar5\n",
      "warng _ManageAtomicData: rec data not available for Ba2\n",
      "warng _ManageAtomicData: rec data not available for Ba4\n",
      "ERROR None: No data for this case B\n",
      "ERROR None: No data for this case B\n",
      "warng _ManageAtomicData: rec data not available for Ca5\n",
      "warng _ManageAtomicData: rec data not available for Cl2\n",
      "warng _ManageAtomicData: rec data not available for Cl3\n",
      "warng _ManageAtomicData: rec data not available for Cl4\n",
      "warng _ManageAtomicData: rec data not available for Fe3\n",
      "warng _ManageAtomicData: rec data not available for K4\n",
      "warng _ManageAtomicData: rec data not available for K5\n",
      "warng _ManageAtomicData: rec data not available for Mg5\n",
      "warng _ManageAtomicData: rec data not available for Mg7\n",
      "ERROR None: No data for this case B\n",
      "warng _ManageAtomicData: rec data not available for Na4\n",
      "warng _ManageAtomicData: rec data not available for Na6\n",
      "warng _ManageAtomicData: rec data not available for Ne3\n",
      "warng _ManageAtomicData: rec data not available for Ne4\n",
      "warng _ManageAtomicData: rec data not available for Ne5\n",
      "warng _ManageAtomicData: rec data not available for Ne6\n",
      "warng _ManageAtomicData: rec data not available for Ni3\n",
      "ERROR None: No data for this case B\n",
      "warng _ManageAtomicData: rec data not available for S2\n",
      "warng _ManageAtomicData: rec data not available for S3\n",
      "warng _ManageAtomicData: rec data not available for S4\n",
      "warng _ManageAtomicData: rec data not available for Si2\n",
      "warng _ManageAtomicData: rec data not available for Si3\n",
      "warng _ManageAtomicData: rec data not available for Xe3\n",
      "warng _ManageAtomicData: rec data not available for Xe4\n",
      "warng _ManageAtomicData: rec data not available for Xe6\n",
      "warng _ManageAtomicData: rec data not available for Kr3\n",
      "warng _ManageAtomicData: rec data not available for Kr4\n",
      "warng _ManageAtomicData: rec data not available for Kr5\n",
      "warng _ManageAtomicData: rec data not available for Se3\n",
      "warng _ManageAtomicData: rec data not available for Se4\n",
      "warng _ManageAtomicData: rec data not available for Br3\n",
      "warng _ManageAtomicData: rec data not available for Br4\n",
      "warng _ManageAtomicData: rec data not available for Rb4\n",
      "warng _ManageAtomicData: rec data not available for Rb5\n",
      "warng _ManageAtomicData: rec data not available for Rb6\n",
      "warng _ManageAtomicData: rec data not available for Fe4\n",
      "warng _ManageAtomicData: rec data not available for Fe5\n",
      "warng _ManageAtomicData: rec data not available for Fe6\n",
      "warng _ManageAtomicData: rec data not available for Fe7\n",
      "warng _ManageAtomicData: rec data not available for Fe2\n",
      "warng _ManageAtomicData: rec data not available for P2\n",
      "warng _ManageAtomicData: rec data not available for Te3\n",
      "warng _ManageAtomicData: rec data not available for Kr6\n",
      "warng _ManageAtomicData: rec data not available for Br5\n"
     ]
    },
    {
     "name": "stderr",
     "output_type": "stream",
     "text": [
      "/home/amrita/LVM/lvmnebular/lvmnebular.py:275: RuntimeWarning: Mean of empty slice\n",
      "  self.TeO2 = np.nanmean(TO2, axis=1)\n",
      "/home/amrita/miniconda3/lib/python3.9/site-packages/numpy/lib/nanfunctions.py:1879: RuntimeWarning: Degrees of freedom <= 0 for slice.\n",
      "  var = nanvar(a, axis=axis, dtype=dtype, out=out, ddof=ddof,\n"
     ]
    },
    {
     "name": "stdout",
     "output_type": "stream",
     "text": [
      "[ 8475.16280896  8438.42597496  8446.40831347  8451.67128415\n",
      "  8464.67291709  8452.64879183  8475.22941275  8483.21424186\n",
      "  8458.89043945  8473.60726818  8457.10452139  8441.24538789\n",
      "  8479.46652973  8436.84210828  8457.99576462  8451.0965511\n",
      "  8439.71134722  8423.37245854  8442.94377807  8620.85835317\n",
      "  8568.38038097  8543.07676194  8564.94817199  8564.44674697\n",
      "  8490.7055832   8560.68352078  8467.12547062  8605.78378622\n",
      "  8481.89100827  8539.13897814  8458.26120935  8502.50635205\n",
      "  8448.1737401   8504.91459215  8480.13227978  8457.83488774\n",
      "  8464.07825702  8916.42773002  8769.19444987  8705.38348325\n",
      "  8722.64244834  8789.12129244  8798.4651557   8650.73155187\n",
      "  8754.68194166  8587.46446365  8784.55595653  8589.34414407\n",
      "  8865.55806625  8646.25576086  8725.55507455  8549.78907177\n",
      "  8652.05075429  8536.83714299  8643.99246542  8531.4698679\n",
      "  8712.71352008  8600.87532051  8544.91297735  8561.51766982\n",
      "  8609.1800194   8864.55257957  9008.75545153  8973.28052884\n",
      "  8974.12336695  8983.24238098  8975.21071048  8989.9672029\n",
      "  8953.81109801  8976.2940263   8831.45605374  8970.16160146\n",
      "  8791.57585736  9006.73222752  8825.49476676  8919.00559821\n",
      "  8920.919955    8989.91133637  8778.8778401   8930.49032871\n",
      "  8707.28930967  8885.11970055  8683.1513913   8923.57103606\n",
      "  8744.32424272  8999.08141448  8844.50901821  8750.30567127\n",
      "  8708.81955811  8763.20218543  8879.61322236  8481.02622373\n",
      "  8604.83977175  8790.06795328  8846.55132132  8839.04190913\n",
      "  8761.7782787   8618.59082056  8568.00970223  8825.90939068\n",
      "  8731.55788767  8968.09383586  8774.64554211  8994.9896748\n",
      "  8743.35533593  8999.13791682  8677.21276017  8966.51743861\n",
      "  8365.30448314  8821.42463668  8663.12336198  8998.13701291\n",
      "  8866.56383739  8979.27733325  8936.18148323  8937.10586826\n",
      "  8936.19884897  8949.37096055  8900.38353101  9001.12568723\n",
      "  8729.48826981  8951.3981774   8996.23731037  8981.31041667\n",
      "  8983.90981053  8991.38882071  8914.06032643            nan\n",
      " 24775.64584515 12047.6075899   7927.15539303  8338.95030157\n",
      "  8487.72275377 16598.14400031 28367.39800332            nan\n",
      "  8426.11541956 19492.49202174  8485.42911157  9746.5115418\n",
      "  8628.8038613   8414.86605326  8700.82483752 11248.66346744\n",
      "  8670.83151803 34445.09552487  8597.58391869 31533.77690094\n",
      "  7910.659743   22825.22596131  8580.4766066   8991.35388197\n",
      "  8790.52906692  8417.33341385  8874.03514158  8463.69890932\n",
      "  8865.00926588  8526.37236101  8819.70149391  8247.60336486\n",
      "  8687.10692876            nan  8487.94996031  8673.82815399\n",
      "  8775.29588034  8807.54671446  8770.12495568  8595.15240506\n",
      "  8479.50035467]\n"
     ]
    },
    {
     "name": "stderr",
     "output_type": "stream",
     "text": [
      "/home/amrita/LVM/lvmnebular/lvmnebular.py:294: RuntimeWarning: Mean of empty slice\n",
      "  self.TeO3 = np.nanmean(TO3, axis=1)\n",
      "/home/amrita/LVM/lvmnebular/lvmnebular.py:311: RuntimeWarning: Mean of empty slice\n",
      "  self.TeN2 = np.nanmean(TN2, axis=1)\n",
      "/home/amrita/LVM/lvmnebular/lvmnebular.py:330: RuntimeWarning: Mean of empty slice\n",
      "  self.TeS2 = np.nanmean(TS2, axis=1)\n",
      "/home/amrita/LVM/lvmnebular/lvmnebular.py:364: RuntimeWarning: Mean of empty slice\n",
      "  self.neO2 = np.nanmean(NO2, axis=1)\n"
     ]
    },
    {
     "name": "stdout",
     "output_type": "stream",
     "text": [
      "[  91.70911401   91.20910697   90.41475113   89.63905846   93.19133567\n",
      "   91.42965349   92.04178019   90.06056717   90.42745309   89.79042135\n",
      "   91.29277338   91.20808825   90.98820703   91.01540244   90.55048204\n",
      "   91.05794594   91.20808825   91.11225471   91.11123598   89.61056925\n",
      "   90.19754991   89.68103311   89.81530552   89.93679542   90.86526012\n",
      "   89.81637284   91.70719328   89.7739509    91.01540244   90.67351099\n",
      "   90.93406209   90.91956889   89.97939016   89.59700177   89.86243782\n",
      "   91.0850593    90.91956889   89.28896665   89.05697873   90.14182548\n",
      "   89.66444899   90.34603095   90.27755664   90.2774746    90.91956889\n",
      "   90.42753513   90.42870696   89.78856749   89.08435439   90.61928426\n",
      "   89.28815496   89.93679542   89.73511453   89.4098149    90.37339018\n",
      "   89.57177393   90.64639762   89.7602005    90.64631559   89.51598933\n",
      "   90.49617327   83.91019465   86.35866052   88.60344672   88.7228427\n",
      "   87.92256896   86.45586804   86.82825365   89.21972046   87.59113257\n",
      "   89.30018104   88.74830165   90.29322167   87.29882184   89.76107879\n",
      "   84.29647143   89.32725435   87.67129363   89.95128862   88.8696284\n",
      "   89.69269259   88.72149288   89.5726913    89.24587357   90.45590236\n",
      "   87.9505851    90.5235325    89.46769462   90.5380257    90.40042176\n",
      "   89.67986042  108.29176239   79.4618975    80.8174979    82.88000013\n",
      "   83.65322278   81.87931327   84.28396847   80.28961731   83.30685401\n",
      "   79.63335234   85.88906739   82.13964036   87.29882184   80.48662701\n",
      "   86.82825365   84.19224244   85.88358589   72.59367578   83.55711034\n",
      "   79.87520412   86.45586804   83.93510877   89.77382892   85.31678524\n",
      "   88.81699575   85.60292631   88.16122333   83.46838251   87.64454638\n",
      "   80.85736548   85.70422711   87.44485605   87.59113257   87.76391404\n",
      "   87.84423672   84.20035899           nan           nan   64.04638041\n",
      "   79.0430099    86.58054236   77.97891969  237.70916163  505.64055103\n",
      "           nan   68.87337262           nan   81.38177714   72.42614953\n",
      "   78.37060995   53.35608015   80.32381781  106.13610142   82.85279156\n",
      "           nan   84.07439477           nan   91.94467592           nan\n",
      "   81.29138651   85.56952194   82.64501191   75.65778459   83.46838251\n",
      "   78.13623631   83.65322278   76.71678916   83.92679089   55.75947511\n",
      "   84.64955574 1037.78215191   73.88583443   81.97699541   83.02702416\n",
      "   81.14922695   80.51244108   78.60335959   74.27755784]\n",
      "[1495.57684026 1495.57684026 1491.9657035  1488.81566024 1495.13176627\n",
      " 1491.51822356 1499.65115396 1507.71262432 1496.48509119 1504.07170437\n",
      " 1504.07170437 1492.86882824 1504.75392537 1500.89743541 1497.38821593\n",
      " 1496.02840262 1497.83977829 1491.96706568 1489.71606473 1526.16451181\n",
      " 1517.19480347 1512.16065612 1515.82122626 1516.73602176 1502.93715536\n",
      " 1516.28139611 1503.16473401 1524.08486209 1507.25798197 1513.99024713\n",
      " 1506.80333962 1507.59909247 1497.16499784 1512.61667409 1506.119743\n",
      " 1503.39179772 1505.66372503 1566.80355001 1540.2902775  1542.85181032\n",
      " 1537.030625   1553.37368679 1543.08275618 1531.70432079 1545.1823973\n",
      " 1525.92693383 1548.21779958 1525.00659413 1559.01233949 1531.93772174\n",
      " 1545.1823973  1517.19341951 1527.3116204  1509.99271418 1529.16310888\n",
      " 1516.27724006 1536.33566185 1526.62328931 1515.81984231 1512.1620359\n",
      " 1527.77318259 1605.86259749 1597.15176842 1581.78717134 1579.87564636\n",
      " 1583.21936588 1593.77615087 1595.22284411 1567.04087131 1581.78572541\n",
      " 1559.48376676 1585.13522865 1551.02649661 1589.93139009 1553.83943852\n",
      " 1605.85929962 1573.68229426 1583.69724603 1548.68497339 1569.88299975\n",
      " 1536.33566185 1567.27855137 1537.030625   1570.12282751 1541.21934302\n",
      " 1583.69724603 1559.01233949 1542.61558236 1545.41334315 1546.34769078\n",
      " 1562.785184   1614.43863943 1628.34768157 1608.7768263  1607.31806296\n",
      " 1607.31806296 1618.52953889 1627.85512574 1624.40885508 1605.85929962\n",
      " 1617.54891593 1599.56839817 1611.69987162 1589.4506137  1608.04744463\n",
      " 1587.53040876 1616.3329171  1599.56839817 1643.71104567 1609.99430197\n",
      " 1618.28676991 1596.43115898 1608.7768263  1579.39776621 1605.13321582\n",
      " 1572.25657317 1603.68104823 1575.58481595 1605.85929962 1586.5732069\n",
      " 1617.05934511 1605.85929962 1591.37226894 1578.92132762 1585.13377835\n",
      " 1590.89149256 1605.85929962           nan           nan 1945.58066847\n",
      " 1633.34533238 1660.35449994 1629.68834072 2313.79148737  970.33195304\n",
      "           nan 1714.44618798 3095.76624145 1630.07138838 2279.88708236\n",
      " 1611.45858395 1631.98380955 1617.06082194 2076.87790218 1626.37158229\n",
      "           nan 1636.7358048            nan 1632.69973591           nan\n",
      " 1622.93717105 1629.544571   1610.72368364 1641.95177834 1613.88801663\n",
      " 1637.46621671 1606.58868129 1629.58554724 1603.19881715 1618.56629416\n",
      " 1617.79719908 3783.43712778 1626.66698619 1612.42925329 1612.67054097\n",
      " 1606.58868129 1610.48239596 1622.93568973 1662.70568313]\n"
     ]
    },
    {
     "name": "stderr",
     "output_type": "stream",
     "text": [
      "/home/amrita/LVM/lvmnebular/lvmnebular.py:376: RuntimeWarning: Mean of empty slice\n",
      "  self.neS2 = np.nanmean(NS2, axis=1)\n"
     ]
    }
   ],
   "source": [
    "u.runpyneb(niter=10, bin=False, pertsim=False)"
   ]
  }
 ],
 "metadata": {
  "kernelspec": {
   "display_name": "Python 3.9.12 ('base')",
   "language": "python",
   "name": "python3"
  },
  "language_info": {
   "codemirror_mode": {
    "name": "ipython",
    "version": 3
   },
   "file_extension": ".py",
   "mimetype": "text/x-python",
   "name": "python",
   "nbconvert_exporter": "python",
   "pygments_lexer": "ipython3",
   "version": "3.9.12"
  },
  "orig_nbformat": 4,
  "vscode": {
   "interpreter": {
    "hash": "b943106136f0b7237aa45b13de07160508680759cd2ff79bd892a553daeee42a"
   }
  }
 },
 "nbformat": 4,
 "nbformat_minor": 2
}
