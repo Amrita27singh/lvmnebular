{
 "cells": [
  {
   "cell_type": "code",
   "execution_count": 1,
   "metadata": {},
   "outputs": [],
   "source": [
    "import lvmnebular\n",
    "import numpy as np"
   ]
  },
  {
   "cell_type": "code",
   "execution_count": 2,
   "metadata": {},
   "outputs": [
    {
     "name": "stdout",
     "output_type": "stream",
     "text": [
      "Loading simulation: /home/amrita/LVM/lvmnebular/Bubble_v2_1e-11\n",
      "\n"
     ]
    }
   ],
   "source": [
    "u=lvmnebular.simulation()\n",
    "u.loadsim('Bubble_v2_1e-11',900)\n",
    "\n",
    "#u.bin(rbinmax=240, drbin=10)"
   ]
  },
  {
   "cell_type": "code",
   "execution_count": 3,
   "metadata": {},
   "outputs": [
    {
     "name": "stdout",
     "output_type": "stream",
     "text": [
      "Fitting Emmission Lines: ['9069' '7319' '7330' '6731' '6717' '6584' '6563' '6548' '6312' '5755'\n",
      " '5007' '4959' '4861' '4363' '4069' '4076' '3970' '3729' '3726']\n"
     ]
    }
   ],
   "source": [
    "u.fitlines(sys_vel=20, lines0= np.array([9069, 7319, 7330, 6731, 6717, 6584, 6563, 6548, 6312, 5755, 5007, 4959, 4861, 4363, 4069, 4076, 3970, 3729, 3726]), loadfile=True)"
   ]
  },
  {
   "cell_type": "code",
   "execution_count": 6,
   "metadata": {},
   "outputs": [
    {
     "name": "stdout",
     "output_type": "stream",
     "text": [
      "warng _ManageAtomicData: rec data not available for Al2\n",
      "warng _ManageAtomicData: rec data not available for Ar2\n",
      "warng _ManageAtomicData: rec data not available for Ar3\n",
      "warng _ManageAtomicData: rec data not available for Ar4\n",
      "warng _ManageAtomicData: rec data not available for Ar5\n",
      "warng _ManageAtomicData: rec data not available for Ba2\n",
      "warng _ManageAtomicData: rec data not available for Ba4\n",
      "ERROR None: No data for this case B\n",
      "ERROR None: No data for this case B\n",
      "warng _ManageAtomicData: rec data not available for Ca5\n",
      "warng _ManageAtomicData: rec data not available for Cl2\n",
      "warng _ManageAtomicData: rec data not available for Cl3\n",
      "warng _ManageAtomicData: rec data not available for Cl4\n",
      "warng _ManageAtomicData: rec data not available for Fe3\n",
      "warng _ManageAtomicData: rec data not available for K4\n",
      "warng _ManageAtomicData: rec data not available for K5\n",
      "warng _ManageAtomicData: rec data not available for Mg5\n",
      "warng _ManageAtomicData: rec data not available for Mg7\n",
      "ERROR None: No data for this case B\n",
      "warng _ManageAtomicData: rec data not available for Na4\n",
      "warng _ManageAtomicData: rec data not available for Na6\n",
      "warng _ManageAtomicData: rec data not available for Ne3\n",
      "warng _ManageAtomicData: rec data not available for Ne4\n",
      "warng _ManageAtomicData: rec data not available for Ne5\n",
      "warng _ManageAtomicData: rec data not available for Ne6\n",
      "warng _ManageAtomicData: rec data not available for Ni3\n",
      "ERROR None: No data for this case B\n",
      "warng _ManageAtomicData: rec data not available for S2\n",
      "warng _ManageAtomicData: rec data not available for S3\n",
      "warng _ManageAtomicData: rec data not available for S4\n",
      "warng _ManageAtomicData: rec data not available for Si2\n",
      "warng _ManageAtomicData: rec data not available for Si3\n",
      "warng _ManageAtomicData: rec data not available for Xe3\n",
      "warng _ManageAtomicData: rec data not available for Xe4\n",
      "warng _ManageAtomicData: rec data not available for Xe6\n",
      "warng _ManageAtomicData: rec data not available for Kr3\n",
      "warng _ManageAtomicData: rec data not available for Kr4\n",
      "warng _ManageAtomicData: rec data not available for Kr5\n",
      "warng _ManageAtomicData: rec data not available for Se3\n",
      "warng _ManageAtomicData: rec data not available for Se4\n",
      "warng _ManageAtomicData: rec data not available for Br3\n",
      "warng _ManageAtomicData: rec data not available for Br4\n",
      "warng _ManageAtomicData: rec data not available for Rb4\n",
      "warng _ManageAtomicData: rec data not available for Rb5\n",
      "warng _ManageAtomicData: rec data not available for Rb6\n",
      "warng _ManageAtomicData: rec data not available for Fe4\n",
      "warng _ManageAtomicData: rec data not available for Fe5\n",
      "warng _ManageAtomicData: rec data not available for Fe6\n",
      "warng _ManageAtomicData: rec data not available for Fe7\n",
      "warng _ManageAtomicData: rec data not available for Fe2\n",
      "warng _ManageAtomicData: rec data not available for P2\n",
      "warng _ManageAtomicData: rec data not available for Te3\n",
      "warng _ManageAtomicData: rec data not available for Kr6\n",
      "warng _ManageAtomicData: rec data not available for Br5\n",
      "[ 8479.10515492  8441.12716085  8440.68429403  8444.54165396\n",
      "  8467.18956733  8451.223741    8469.93333415  8483.77563134\n",
      "  8454.62585635  8468.01483313  8463.05231084  8439.81106316\n",
      "  8478.47546552  8436.39980275  8461.27000985  8450.20414188\n",
      "  8435.98566178  8425.90760238  8441.15989472  8623.38316892\n",
      "  8562.08908532  8543.17745227  8563.89531721  8561.99005426\n",
      "  8492.36480869  8558.7626381   8469.00635025  8609.34730948\n",
      "  8481.88612894  8537.87282673  8464.17700827  8500.81511629\n",
      "  8446.35718092  8506.04530817  8479.96586616  8466.09812577\n",
      "  8467.38727481  8916.53027821  8765.73568483  8707.78204475\n",
      "  8723.58050497  8789.70551171  8794.97704599  8652.5400411\n",
      "  8753.31361963  8587.28155622  8782.63511379  8591.6584884\n",
      "  8865.61036369  8647.25171465  8725.01073868  8546.68140892\n",
      "  8657.56147147  8531.00263527  8644.49850294  8531.66822657\n",
      "  8717.1570677   8594.04270162  8549.59073103  8561.58753868\n",
      "  8611.09595219  8869.02170661  9011.99291001  8971.70239919\n",
      "  8975.66387794  8982.33012244  8979.27617982  8994.09371732\n",
      "  8958.42765232  8970.16018004  8832.97427714  8970.65018186\n",
      "  8789.98011497  9010.88388777  8824.97355274  8922.94325018\n",
      "  8925.03389368  8991.88220429  8781.48566794  8930.01896587\n",
      "  8711.50638992  8885.72209869  8682.61112758  8924.05586751\n",
      "  8747.81343578  8990.93116367  8843.98916143  8746.37549438\n",
      "  8712.66331284  8756.7330459   8874.08096403  8371.57866438\n",
      "  8606.47019911  8796.57924013  8848.43260282  8835.98050099\n",
      "  8759.23454706  8595.04153458  8583.91063475  8823.97714318\n",
      "  8739.41863031  8971.63662759  8778.17572201  8987.94447492\n",
      "  8735.94613494  9001.73771878  8684.04381478  8971.70291524\n",
      "  8337.95449882  8832.07988624  8667.01710475  8998.6113681\n",
      "  8872.66447746  8977.80175337  8935.13364623  8935.74581954\n",
      "  8936.70579896  8943.81059287  8903.82933604  9007.24291927\n",
      "  8712.65519488  8949.21331867  8992.89617803  8982.82302276\n",
      "  8985.83895297  8991.949033    8911.93407674 81275.45471319\n",
      " 25326.16268018 13590.12296487  8208.46260828  8378.70143167\n",
      "  8312.54011427 16006.8588641  21042.45843161            nan\n",
      "  8065.1543623   9975.60907828  8458.51280369  9515.9011082\n",
      "  8629.27488679  8327.31534516  8687.90913812 11717.39316806\n",
      "  8664.65681126 24280.80896242  8594.17847544 33040.58286113\n",
      "  7978.06257795 22612.05698926  8585.3802864   8931.70597297\n",
      "  8785.12891637  8455.08647581  8877.01735622  8421.7121037\n",
      "  8869.57773854  8527.77415575  8818.97810407  8214.13433564\n",
      "  8683.55338184            nan  8487.89491413  8686.45931699\n",
      "  8783.48252972  8806.57144547  8770.15848986  8602.44730122\n",
      "  8495.17021175]\n"
     ]
    }
   ],
   "source": [
    "u.runpyneb(niter=10, bin=False, pertsim=False)"
   ]
  }
 ],
 "metadata": {
  "kernelspec": {
   "display_name": "Python 3.9.12 ('base')",
   "language": "python",
   "name": "python3"
  },
  "language_info": {
   "codemirror_mode": {
    "name": "ipython",
    "version": 3
   },
   "file_extension": ".py",
   "mimetype": "text/x-python",
   "name": "python",
   "nbconvert_exporter": "python",
   "pygments_lexer": "ipython3",
   "version": "3.9.12"
  },
  "orig_nbformat": 4,
  "vscode": {
   "interpreter": {
    "hash": "b943106136f0b7237aa45b13de07160508680759cd2ff79bd892a553daeee42a"
   }
  }
 },
 "nbformat": 4,
 "nbformat_minor": 2
}
