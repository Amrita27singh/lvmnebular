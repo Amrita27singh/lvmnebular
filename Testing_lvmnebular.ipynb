{
 "cells": [
  {
   "cell_type": "code",
   "execution_count": 1,
   "metadata": {},
   "outputs": [],
   "source": [
    "import lvmnebular\n",
    "import numpy as np"
   ]
  },
  {
   "cell_type": "code",
   "execution_count": 2,
   "metadata": {},
   "outputs": [
    {
     "name": "stdout",
     "output_type": "stream",
     "text": [
      "Loading simulation: /home/amrita/LVM/lvmnebular/Bubble_v2_1e-11\n",
      "\n"
     ]
    }
   ],
   "source": [
    "u=lvmnebular.simulation()\n",
    "u.loadsim('Bubble_v2_1e-11',900)\n",
    "\n",
    "#u.bin(rbinmax=240, drbin=10)"
   ]
  },
  {
   "cell_type": "code",
   "execution_count": 3,
   "metadata": {},
   "outputs": [
    {
     "name": "stdout",
     "output_type": "stream",
     "text": [
      "Fitting Emmission Lines: ['9069' '7319' '7330' '6731' '6717' '6584' '6563' '6548' '6312' '5755'\n",
      " '5007' '4959' '4861' '4363' '4069' '4076' '3970' '3729' '3726']\n"
     ]
    }
   ],
   "source": [
    "u.fitlines(sys_vel=20, lines0= np.array([9069, 7319, 7330, 6731, 6717, 6584, 6563, 6548, 6312, 5755, 5007, 4959, 4861, 4363, 4069, 4076, 3970, 3729, 3726]), loadfile=True)"
   ]
  },
  {
   "cell_type": "code",
   "execution_count": 4,
   "metadata": {},
   "outputs": [
    {
     "name": "stdout",
     "output_type": "stream",
     "text": [
      "warng _ManageAtomicData: rec data not available for Al2\n",
      "warng _ManageAtomicData: rec data not available for Ar2\n",
      "warng _ManageAtomicData: rec data not available for Ar3\n",
      "warng _ManageAtomicData: rec data not available for Ar4\n",
      "warng _ManageAtomicData: rec data not available for Ar5\n",
      "warng _ManageAtomicData: rec data not available for Ba2\n",
      "warng _ManageAtomicData: rec data not available for Ba4\n",
      "ERROR None: No data for this case B\n",
      "ERROR None: No data for this case B\n",
      "warng _ManageAtomicData: rec data not available for Ca5\n",
      "warng _ManageAtomicData: rec data not available for Cl2\n",
      "warng _ManageAtomicData: rec data not available for Cl3\n",
      "warng _ManageAtomicData: rec data not available for Cl4\n",
      "warng _ManageAtomicData: rec data not available for Fe3\n",
      "warng _ManageAtomicData: rec data not available for K4\n",
      "warng _ManageAtomicData: rec data not available for K5\n",
      "warng _ManageAtomicData: rec data not available for Mg5\n",
      "warng _ManageAtomicData: rec data not available for Mg7\n",
      "ERROR None: No data for this case B\n",
      "warng _ManageAtomicData: rec data not available for Na4\n",
      "warng _ManageAtomicData: rec data not available for Na6\n",
      "warng _ManageAtomicData: rec data not available for Ne3\n",
      "warng _ManageAtomicData: rec data not available for Ne4\n",
      "warng _ManageAtomicData: rec data not available for Ne5\n",
      "warng _ManageAtomicData: rec data not available for Ne6\n",
      "warng _ManageAtomicData: rec data not available for Ni3\n",
      "ERROR None: No data for this case B\n",
      "warng _ManageAtomicData: rec data not available for S2\n",
      "warng _ManageAtomicData: rec data not available for S3\n",
      "warng _ManageAtomicData: rec data not available for S4\n",
      "warng _ManageAtomicData: rec data not available for Si2\n",
      "warng _ManageAtomicData: rec data not available for Si3\n",
      "warng _ManageAtomicData: rec data not available for Xe3\n",
      "warng _ManageAtomicData: rec data not available for Xe4\n",
      "warng _ManageAtomicData: rec data not available for Xe6\n",
      "warng _ManageAtomicData: rec data not available for Kr3\n",
      "warng _ManageAtomicData: rec data not available for Kr4\n",
      "warng _ManageAtomicData: rec data not available for Kr5\n",
      "warng _ManageAtomicData: rec data not available for Se3\n",
      "warng _ManageAtomicData: rec data not available for Se4\n",
      "warng _ManageAtomicData: rec data not available for Br3\n",
      "warng _ManageAtomicData: rec data not available for Br4\n",
      "warng _ManageAtomicData: rec data not available for Rb4\n",
      "warng _ManageAtomicData: rec data not available for Rb5\n",
      "warng _ManageAtomicData: rec data not available for Rb6\n",
      "warng _ManageAtomicData: rec data not available for Fe4\n",
      "warng _ManageAtomicData: rec data not available for Fe5\n",
      "warng _ManageAtomicData: rec data not available for Fe6\n",
      "warng _ManageAtomicData: rec data not available for Fe7\n",
      "warng _ManageAtomicData: rec data not available for Fe2\n",
      "warng _ManageAtomicData: rec data not available for P2\n",
      "warng _ManageAtomicData: rec data not available for Te3\n",
      "warng _ManageAtomicData: rec data not available for Kr6\n",
      "warng _ManageAtomicData: rec data not available for Br5\n"
     ]
    },
    {
     "name": "stderr",
     "output_type": "stream",
     "text": [
      "/home/amrita/LVM/lvmnebular/lvmnebular.py:275: RuntimeWarning: Mean of empty slice\n",
      "  self.TeO2 = np.nanmean(TO2, axis=1)\n",
      "/home/amrita/miniconda3/lib/python3.9/site-packages/numpy/lib/nanfunctions.py:1879: RuntimeWarning: Degrees of freedom <= 0 for slice.\n",
      "  var = nanvar(a, axis=axis, dtype=dtype, out=out, ddof=ddof,\n"
     ]
    },
    {
     "name": "stdout",
     "output_type": "stream",
     "text": [
      "[ 8482.96738805  8440.73394789  8448.19651542  8449.47442646\n",
      "  8472.53096392  8452.03378679  8479.48621488  8478.57414376\n",
      "  8453.10798971  8474.68152466  8465.08845896  8436.36354167\n",
      "  8480.56067979  8442.34055634  8453.10798971  8457.89909304\n",
      "  8437.55826733  8426.81114743  8438.7584087   8627.25826393\n",
      "  8570.02718744  8538.40371323  8567.73537549  8567.85307205\n",
      "  8484.42649009  8554.26461906  8467.48400909  8604.20157387\n",
      "  8483.38052485  8540.98924944  8461.61720669  8499.92441487\n",
      "  8441.14583068  8508.36137319  8478.24126517  8459.101953\n",
      "  8469.88310229  8922.99250724  8765.10143444  8708.27485714\n",
      "  8720.66385429  8791.16794937  8795.07164132  8651.85740292\n",
      "  8752.78179429  8586.90801689  8787.55769767  8594.20942178\n",
      "  8866.30869609  8650.75595104  8730.41295052  8544.15934074\n",
      "  8652.95435788  8537.3197936   8647.93094763  8537.3225323\n",
      "  8715.67565097  8601.60041125  8547.00019911  8556.8553411\n",
      "  8599.49700366  8857.65499941  9013.16344478  8969.73998149\n",
      "  8971.14063525  8984.99383059  8978.85605089  8996.58727413\n",
      "  8952.06120688  8974.82151956  8834.71723207  8966.05880021\n",
      "  8790.17807084  9011.88685412  8829.97118506  8910.36683398\n",
      "  8918.07500147  8994.12619869  8776.23808637  8935.63893792\n",
      "  8702.23546753  8882.39058977  8681.60677546  8921.60025885\n",
      "  8749.19208467  8997.90844223  8856.22694899  8749.19208467\n",
      "  8707.16854168  8759.1099208   8870.12012042  8194.46040973\n",
      "  8589.21478416  8790.0522589   8844.99010184  8828.85545981\n",
      "  8770.15286085  8630.96339874  8584.61375458  8813.86059029\n",
      "  8704.58074451  8971.1435123   8787.44267011  8996.58727413\n",
      "  8737.92280039  9001.42065412  8658.97240466  8967.20035327\n",
      "  8386.79776569  8821.26758262  8660.31682071  8992.63228348\n",
      "  8866.30869609  8980.17067798  8944.50376951  8931.84156915\n",
      "  8938.17840431  8951.97398797  8908.97488071  9002.95939151\n",
      "  8730.50884767  8944.37264486  8995.18185173  8977.36531739\n",
      "  8983.85674738  8991.4939113   8911.75679841  4001.12536933\n",
      " 12986.54988727 11487.34841976  7873.87480726  8515.60981855\n",
      "  8253.59381586 15907.49646723            nan 51858.90412325\n",
      "  8524.06320409 14148.38777136  8483.3160868   7906.91487152\n",
      "  8634.63579918  8385.72172242  8688.56825982  8288.32576355\n",
      "  8665.354492              nan  8590.68839267            nan\n",
      "  8105.15162141  2819.16799369  8580.98604658  8760.47620301\n",
      "  8790.05931233  8449.76739793  8863.92968807  8484.43991442\n",
      "  8862.54630019  8541.0652253   8819.63139133  8298.04172624\n",
      "  8676.27428896            nan  8493.93645225  8672.88424987\n",
      "  8777.61046624  8800.14448535  8775.12365918  8613.71278114\n",
      "  8443.79454028]\n"
     ]
    },
    {
     "name": "stderr",
     "output_type": "stream",
     "text": [
      "/home/amrita/LVM/lvmnebular/lvmnebular.py:294: RuntimeWarning: Mean of empty slice\n",
      "  self.TeO3 = np.nanmean(TO3, axis=1)\n",
      "/home/amrita/LVM/lvmnebular/lvmnebular.py:311: RuntimeWarning: Mean of empty slice\n",
      "  self.TeN2 = np.nanmean(TN2, axis=1)\n",
      "/home/amrita/LVM/lvmnebular/lvmnebular.py:330: RuntimeWarning: Mean of empty slice\n",
      "  self.TeS2 = np.nanmean(TS2, axis=1)\n",
      "/home/amrita/LVM/lvmnebular/lvmnebular.py:364: RuntimeWarning: Mean of empty slice\n",
      "  self.neO2 = np.nanmean(NO2, axis=1)\n",
      "/home/amrita/LVM/lvmnebular/lvmnebular.py:375: RuntimeWarning: Mean of empty slice\n",
      "  self.neS2 = np.nanmean(NS2, axis=1)\n"
     ]
    }
   ],
   "source": [
    "u.runpyneb(niter=4, bin=False, pertsim=False)"
   ]
  }
 ],
 "metadata": {
  "kernelspec": {
   "display_name": "Python 3.9.12 ('base')",
   "language": "python",
   "name": "python3"
  },
  "language_info": {
   "codemirror_mode": {
    "name": "ipython",
    "version": 3
   },
   "file_extension": ".py",
   "mimetype": "text/x-python",
   "name": "python",
   "nbconvert_exporter": "python",
   "pygments_lexer": "ipython3",
   "version": "3.9.12"
  },
  "orig_nbformat": 4,
  "vscode": {
   "interpreter": {
    "hash": "b943106136f0b7237aa45b13de07160508680759cd2ff79bd892a553daeee42a"
   }
  }
 },
 "nbformat": 4,
 "nbformat_minor": 2
}
