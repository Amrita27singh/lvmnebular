{
 "cells": [
  {
   "cell_type": "code",
   "execution_count": 1,
   "metadata": {},
   "outputs": [],
   "source": [
    "import lvmnebular\n",
    "import numpy as np"
   ]
  },
  {
   "cell_type": "code",
   "execution_count": 2,
   "metadata": {},
   "outputs": [
    {
     "name": "stdout",
     "output_type": "stream",
     "text": [
      "Loading simulation: /home/amrita/LVM/lvmnebular/Bubble_v2_1e-11\n",
      "\n"
     ]
    }
   ],
   "source": [
    "u=lvmnebular.simulation()\n",
    "u.loadsim('Bubble_v2_1e-11',900)\n",
    "\n",
    "#u.bin(rbinmax=240, drbin=10)"
   ]
  },
  {
   "cell_type": "code",
   "execution_count": 3,
   "metadata": {},
   "outputs": [
    {
     "name": "stdout",
     "output_type": "stream",
     "text": [
      "Fitting Emmission Lines: ['9069' '7319' '7330' '6731' '6717' '6584' '6563' '6548' '6312' '5755'\n",
      " '5007' '4959' '4861' '4363' '4069' '4076' '3970' '3729' '3726']\n"
     ]
    }
   ],
   "source": [
    "u.fitlines(sys_vel=20, lines0= np.array([9069, 7319, 7330, 6731, 6717, 6584, 6563, 6548, 6312, 5755, 5007, 4959, 4861, 4363, 4069, 4076, 3970, 3729, 3726]), loadfile=True)"
   ]
  },
  {
   "cell_type": "code",
   "execution_count": 4,
   "metadata": {},
   "outputs": [
    {
     "name": "stdout",
     "output_type": "stream",
     "text": [
      "warng _ManageAtomicData: rec data not available for Al2\n",
      "warng _ManageAtomicData: rec data not available for Ar2\n",
      "warng _ManageAtomicData: rec data not available for Ar3\n",
      "warng _ManageAtomicData: rec data not available for Ar4\n",
      "warng _ManageAtomicData: rec data not available for Ar5\n",
      "warng _ManageAtomicData: rec data not available for Ba2\n",
      "warng _ManageAtomicData: rec data not available for Ba4\n",
      "ERROR None: No data for this case B\n",
      "ERROR None: No data for this case B\n",
      "warng _ManageAtomicData: rec data not available for Ca5\n",
      "warng _ManageAtomicData: rec data not available for Cl2\n",
      "warng _ManageAtomicData: rec data not available for Cl3\n",
      "warng _ManageAtomicData: rec data not available for Cl4\n",
      "warng _ManageAtomicData: rec data not available for Fe3\n",
      "warng _ManageAtomicData: rec data not available for K4\n",
      "warng _ManageAtomicData: rec data not available for K5\n",
      "warng _ManageAtomicData: rec data not available for Mg5\n",
      "warng _ManageAtomicData: rec data not available for Mg7\n",
      "ERROR None: No data for this case B\n",
      "warng _ManageAtomicData: rec data not available for Na4\n",
      "warng _ManageAtomicData: rec data not available for Na6\n",
      "warng _ManageAtomicData: rec data not available for Ne3\n",
      "warng _ManageAtomicData: rec data not available for Ne4\n",
      "warng _ManageAtomicData: rec data not available for Ne5\n",
      "warng _ManageAtomicData: rec data not available for Ne6\n",
      "warng _ManageAtomicData: rec data not available for Ni3\n",
      "ERROR None: No data for this case B\n",
      "warng _ManageAtomicData: rec data not available for S2\n",
      "warng _ManageAtomicData: rec data not available for S3\n",
      "warng _ManageAtomicData: rec data not available for S4\n",
      "warng _ManageAtomicData: rec data not available for Si2\n",
      "warng _ManageAtomicData: rec data not available for Si3\n",
      "warng _ManageAtomicData: rec data not available for Xe3\n",
      "warng _ManageAtomicData: rec data not available for Xe4\n",
      "warng _ManageAtomicData: rec data not available for Xe6\n",
      "warng _ManageAtomicData: rec data not available for Kr3\n",
      "warng _ManageAtomicData: rec data not available for Kr4\n",
      "warng _ManageAtomicData: rec data not available for Kr5\n",
      "warng _ManageAtomicData: rec data not available for Se3\n",
      "warng _ManageAtomicData: rec data not available for Se4\n",
      "warng _ManageAtomicData: rec data not available for Br3\n",
      "warng _ManageAtomicData: rec data not available for Br4\n",
      "warng _ManageAtomicData: rec data not available for Rb4\n",
      "warng _ManageAtomicData: rec data not available for Rb5\n",
      "warng _ManageAtomicData: rec data not available for Rb6\n",
      "warng _ManageAtomicData: rec data not available for Fe4\n",
      "warng _ManageAtomicData: rec data not available for Fe5\n",
      "warng _ManageAtomicData: rec data not available for Fe6\n",
      "warng _ManageAtomicData: rec data not available for Fe7\n",
      "warng _ManageAtomicData: rec data not available for Fe2\n",
      "warng _ManageAtomicData: rec data not available for P2\n",
      "warng _ManageAtomicData: rec data not available for Te3\n",
      "warng _ManageAtomicData: rec data not available for Kr6\n",
      "warng _ManageAtomicData: rec data not available for Br5\n"
     ]
    },
    {
     "name": "stderr",
     "output_type": "stream",
     "text": [
      "/home/amrita/LVM/lvmnebular/lvmnebular.py:279: RuntimeWarning: Mean of empty slice\n",
      "  self.TeO2 = np.nanmean(TO2, axis=1)\n",
      "/home/amrita/miniconda3/lib/python3.9/site-packages/numpy/lib/nanfunctions.py:1879: RuntimeWarning: Degrees of freedom <= 0 for slice.\n",
      "  var = nanvar(a, axis=axis, dtype=dtype, out=out, ddof=ddof,\n"
     ]
    },
    {
     "name": "stdout",
     "output_type": "stream",
     "text": [
      "[ 8479.48349319  8438.75231604  8441.0237005   8453.10527726\n",
      "  8458.1447381   8460.29192765  8474.68424327  8484.45724165\n",
      "  8454.42784077  8473.35650732  8458.80471499  8438.87811839\n",
      "  8478.57414376  8441.43534104  8455.58678111  8448.19651542\n",
      "  8438.752993    8426.52640984  8443.53595897  8616.56359381\n",
      "  8556.68609134  8542.15725455  8567.7243834   8565.04910085\n",
      "  8492.58165615  8555.18278562  8467.48400909  8601.76579115\n",
      "  8484.2881834   8543.40797991  8459.05391453  8497.63951147\n",
      "  8441.1431213   8508.22850404  8477.33566707  8464.01032282\n",
      "  8471.20661933  8920.46666569  8769.04026071  8706.91206601\n",
      "  8716.90818411  8790.13254489  8795.15676438  8648.05345878\n",
      "  8750.30273058  8586.7828917   8782.58338596  8589.47043615\n",
      "  8858.77963894  8655.40627669  8724.44736913  8542.16547686\n",
      "  8655.40758518  8536.23793494  8642.05998108  8532.48507135\n",
      "  8713.07948145  8601.51910335  8544.57872683  8565.0521322\n",
      "  8603.94881345  8874.97704691  9009.33439575  8973.68155277\n",
      "  8981.31352574  8983.85674738  8969.73839374  8988.94434305\n",
      "  8949.70078294  8967.37558553  8834.9750246   8974.8231091\n",
      "  8788.54391301  9006.78482749  8822.47263119  8913.06816646\n",
      "  8923.95284236  8987.540512    8773.75283324  8926.65268093\n",
      "  8711.97441865  8887.6806338   8679.65704334  8923.95284236\n",
      "  8744.067227    8991.49102446  8844.99010184  8750.30342502\n",
      "  8709.50669388  8754.15037284  8880.13093528  8415.07265394\n",
      "  8604.21787216  8787.68577005  8854.9797779   8843.60914381\n",
      "  8757.74134225  8621.20447644  8573.26572318  8816.09900039\n",
      "  8740.39836343  8978.78068275  8780.3510166   8986.40054521\n",
      "  8747.65519816  8991.49102446  8699.52328668  8970.00412432\n",
      "  8350.97617725  8832.48117695  8646.78704989  8996.58438728\n",
      "  8865.05290528  8988.94722662  8937.0376401   8934.29067633\n",
      "  8940.57240555  8949.52465326  8894.10629009  9001.68352379\n",
      "  8725.51561358  8943.28092353  9001.8161244   8979.81939109\n",
      "  8983.85674738  8997.99198293  8912.89196799            nan\n",
      "            nan 11037.07518352  8231.19714817  8554.10527539\n",
      "  8482.37802352 15743.61936797 61565.59097838            nan\n",
      "  8628.62888739  5839.8593355   8436.39331421  9215.96457941\n",
      "  8637.00619085  8342.56553322  8689.67138162  9306.87239287\n",
      "  8665.34268097 51309.43354237  8600.13958878            nan\n",
      "  8244.05917398            nan  8589.96738272  8901.14110588\n",
      "  8782.71872125  8410.32353346  8870.07606849  8446.25288835\n",
      "  8875.10848646  8540.04528743  8809.90416704  8190.60816685\n",
      "  8693.49420918            nan  8446.22242073  8655.11744064\n",
      "  8775.12296238  8793.78775607  8777.4883304   8602.89146203\n",
      "  8365.79092141]\n"
     ]
    },
    {
     "name": "stderr",
     "output_type": "stream",
     "text": [
      "/home/amrita/LVM/lvmnebular/lvmnebular.py:298: RuntimeWarning: Mean of empty slice\n",
      "  self.TeO3 = np.nanmean(TO3, axis=1)\n",
      "/home/amrita/LVM/lvmnebular/lvmnebular.py:315: RuntimeWarning: Mean of empty slice\n",
      "  self.TeN2 = np.nanmean(TN2, axis=1)\n",
      "/home/amrita/LVM/lvmnebular/lvmnebular.py:334: RuntimeWarning: Mean of empty slice\n",
      "  self.TeS2 = np.nanmean(TS2, axis=1)\n",
      "/home/amrita/LVM/lvmnebular/lvmnebular.py:368: RuntimeWarning: Mean of empty slice\n",
      "  self.neO2 = np.nanmean(NO2, axis=1)\n",
      "/home/amrita/LVM/lvmnebular/lvmnebular.py:379: RuntimeWarning: Mean of empty slice\n",
      "  self.neS2 = np.nanmean(NS2, axis=1)\n"
     ]
    }
   ],
   "source": [
    "u.runpyneb(niter=4, bin=False, pertsim=False)"
   ]
  }
 ],
 "metadata": {
  "kernelspec": {
   "display_name": "Python 3.9.12 ('base')",
   "language": "python",
   "name": "python3"
  },
  "language_info": {
   "codemirror_mode": {
    "name": "ipython",
    "version": 3
   },
   "file_extension": ".py",
   "mimetype": "text/x-python",
   "name": "python",
   "nbconvert_exporter": "python",
   "pygments_lexer": "ipython3",
   "version": "3.9.12"
  },
  "orig_nbformat": 4,
  "vscode": {
   "interpreter": {
    "hash": "b943106136f0b7237aa45b13de07160508680759cd2ff79bd892a553daeee42a"
   }
  }
 },
 "nbformat": 4,
 "nbformat_minor": 2
}
