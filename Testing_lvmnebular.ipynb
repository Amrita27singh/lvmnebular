{
 "cells": [
  {
   "cell_type": "code",
   "execution_count": 1,
   "metadata": {},
   "outputs": [],
   "source": [
    "import lvmnebular\n",
    "import numpy as np"
   ]
  },
  {
   "cell_type": "code",
   "execution_count": 2,
   "metadata": {},
   "outputs": [
    {
     "name": "stdout",
     "output_type": "stream",
     "text": [
      "Loading simulation: /home/amrita/LVM/lvmnebular/Bubble_v2_1e-11\n",
      "\n"
     ]
    }
   ],
   "source": [
    "u=lvmnebular.simulation()\n",
    "u.loadsim('Bubble_v2_1e-11',900)\n",
    "\n",
    "#u.bin(rbinmax=240, drbin=10)"
   ]
  },
  {
   "cell_type": "code",
   "execution_count": 3,
   "metadata": {},
   "outputs": [],
   "source": [
    "u.fitlines(sys_vel=20, lines0= np.array([9069, 7319, 7330, 6731, 6717, 6584, 6563, 6548, 6312, 5755, 5007, 4959, 4861, 4363, 4069, 4076, 3970, 3729, 3726]), loadfile=False)"
   ]
  },
  {
   "cell_type": "code",
   "execution_count": 4,
   "metadata": {},
   "outputs": [
    {
     "name": "stdout",
     "output_type": "stream",
     "text": [
      "warng _ManageAtomicData: rec data not available for Al2\n",
      "warng _ManageAtomicData: rec data not available for Ar2\n",
      "warng _ManageAtomicData: rec data not available for Ar3\n",
      "warng _ManageAtomicData: rec data not available for Ar4\n",
      "warng _ManageAtomicData: rec data not available for Ar5\n",
      "warng _ManageAtomicData: rec data not available for Ba2\n",
      "warng _ManageAtomicData: rec data not available for Ba4\n",
      "ERROR None: No data for this case B\n",
      "ERROR None: No data for this case B\n",
      "warng _ManageAtomicData: rec data not available for Ca5\n",
      "warng _ManageAtomicData: rec data not available for Cl2\n",
      "warng _ManageAtomicData: rec data not available for Cl3\n",
      "warng _ManageAtomicData: rec data not available for Cl4\n",
      "warng _ManageAtomicData: rec data not available for Fe3\n",
      "warng _ManageAtomicData: rec data not available for K4\n",
      "warng _ManageAtomicData: rec data not available for K5\n",
      "warng _ManageAtomicData: rec data not available for Mg5\n",
      "warng _ManageAtomicData: rec data not available for Mg7\n",
      "ERROR None: No data for this case B\n",
      "warng _ManageAtomicData: rec data not available for Na4\n",
      "warng _ManageAtomicData: rec data not available for Na6\n",
      "warng _ManageAtomicData: rec data not available for Ne3\n",
      "warng _ManageAtomicData: rec data not available for Ne4\n",
      "warng _ManageAtomicData: rec data not available for Ne5\n",
      "warng _ManageAtomicData: rec data not available for Ne6\n",
      "warng _ManageAtomicData: rec data not available for Ni3\n",
      "ERROR None: No data for this case B\n",
      "warng _ManageAtomicData: rec data not available for S2\n",
      "warng _ManageAtomicData: rec data not available for S3\n",
      "warng _ManageAtomicData: rec data not available for S4\n",
      "warng _ManageAtomicData: rec data not available for Si2\n",
      "warng _ManageAtomicData: rec data not available for Si3\n",
      "warng _ManageAtomicData: rec data not available for Xe3\n",
      "warng _ManageAtomicData: rec data not available for Xe4\n",
      "warng _ManageAtomicData: rec data not available for Xe6\n",
      "warng _ManageAtomicData: rec data not available for Kr3\n",
      "warng _ManageAtomicData: rec data not available for Kr4\n",
      "warng _ManageAtomicData: rec data not available for Kr5\n",
      "warng _ManageAtomicData: rec data not available for Se3\n",
      "warng _ManageAtomicData: rec data not available for Se4\n",
      "warng _ManageAtomicData: rec data not available for Br3\n",
      "warng _ManageAtomicData: rec data not available for Br4\n",
      "warng _ManageAtomicData: rec data not available for Rb4\n",
      "warng _ManageAtomicData: rec data not available for Rb5\n",
      "warng _ManageAtomicData: rec data not available for Rb6\n",
      "warng _ManageAtomicData: rec data not available for Fe4\n",
      "warng _ManageAtomicData: rec data not available for Fe5\n",
      "warng _ManageAtomicData: rec data not available for Fe6\n",
      "warng _ManageAtomicData: rec data not available for Fe7\n",
      "warng _ManageAtomicData: rec data not available for Fe2\n",
      "warng _ManageAtomicData: rec data not available for P2\n",
      "warng _ManageAtomicData: rec data not available for Te3\n",
      "warng _ManageAtomicData: rec data not available for Kr6\n",
      "warng _ManageAtomicData: rec data not available for Br5\n"
     ]
    },
    {
     "name": "stderr",
     "output_type": "stream",
     "text": [
      "/home/amrita/LVM/lvmnebular/lvmnebular.py:274: RuntimeWarning: Mean of empty slice\n",
      "  self.TeO2 = np.nanmean(TO2, axis=1)\n",
      "/home/amrita/miniconda3/lib/python3.9/site-packages/numpy/lib/nanfunctions.py:1879: RuntimeWarning: Degrees of freedom <= 0 for slice.\n",
      "  var = nanvar(a, axis=axis, dtype=dtype, out=out, ddof=ddof,\n"
     ]
    },
    {
     "name": "stdout",
     "output_type": "stream",
     "text": [
      "[ 8473.60610405  8436.48703224  8438.752993    8446.05121266\n",
      "  8462.27501374  8456.82760257  8467.31943484  8484.45921345\n",
      "  8455.50082739  8472.03299028  8456.82217459  8447.12962111\n",
      "  8489.09614285  8444.85581003  8453.10798971  8457.65024318\n",
      "  8435.17084535  8429.20397898  8437.56097365  8623.30051903\n",
      "  8563.79240836  8544.74485483  8570.15464383  8563.96149094\n",
      "  8489.09832008  8554.2627097   8469.88227475  8608.82479045\n",
      "  8480.81055947  8543.49138767  8460.29464317  8497.22838497\n",
      "  8445.92879665  8512.88319543  8479.48893348  8461.20109173\n",
      "  8473.77151783  8921.59897609  8767.41276112  8704.27602191\n",
      "  8721.85370093  8793.74060224  8791.42126722  8650.50390833\n",
      "  8762.70369961  8588.25592206  8781.46769549  8588.24972884\n",
      "  8862.542746    8647.92678689  8728.02825461  8546.99952138\n",
      "  8659.33531355  8537.3225323   8650.37910313  8532.65103078\n",
      "  8713.20848756  8601.76702901  8544.82977492  8561.53452572\n",
      "  8617.48972187  8868.78827164  9009.46771929  8966.05880021\n",
      "  8971.14063525  8986.40054521  8977.37236699  8994.03770587\n",
      "  8955.90663832  8969.73839374  8832.47267359  8969.7428618\n",
      "  8787.68999971  9004.23525923  8822.47176969  8926.91490613\n",
      "  8919.16091227  8991.45366171  8779.92380737  8935.50660105\n",
      "  8710.73922702  8889.07286199  8684.7441832   8926.7855763\n",
      "  8747.82505575  8995.44530152  8843.60757839  8747.82505575\n",
      "  8713.20639043  8758.94296851  8879.00531631  8620.50177319\n",
      "  8616.32848693  8790.04802924  8848.88435373  8820.92918726\n",
      "  8754.07604926  8612.88212671  8561.57573677  8813.86624743\n",
      "  8724.32646093  8976.22535061  8777.61046624  8987.53892065\n",
      "  8750.30342502  8999.13395554  8671.35669809  8972.46307797\n",
      "  8294.40542907  8824.97128732  8655.42008236  8999.13684238\n",
      "  8872.59476976  8986.40054521  8942.97229065  8934.63625445\n",
      "  8937.03571204  8944.63203293  8905.31942516  8996.58727413\n",
      "  8731.87559486  8958.44755258  8997.72694     8979.90623492\n",
      "  8980.17067798  8990.08848564  8910.36683398            nan\n",
      "            nan 13911.58412235  8267.25687248  8448.10755598\n",
      "  8498.06204021 11202.72410036            nan 32557.35725496\n",
      "  8702.47879497 34095.66518357  8444.71219136  8485.50722412\n",
      "  8639.27066354  7821.79909682  8670.00438262 10047.28485901\n",
      "  8676.28543152            nan  8596.90484204 28775.20391537\n",
      "  7945.97997884            nan  8585.67117686  8937.60272844\n",
      "  8792.79761896  8467.71498097  8880.13308041  8473.78576827\n",
      "  8853.76642392  8578.60844787  8813.74572458  8146.75901064\n",
      "  8686.25115565            nan  8492.94074954  8652.95713564\n",
      "  8776.23682451  8803.77098334  8776.36811963  8607.75987385\n",
      "  8475.93046177]\n"
     ]
    },
    {
     "name": "stderr",
     "output_type": "stream",
     "text": [
      "/home/amrita/LVM/lvmnebular/lvmnebular.py:285: RuntimeWarning: Mean of empty slice\n",
      "  self.TeO3 = np.nanmean(TO3, axis=1)\n",
      "/home/amrita/LVM/lvmnebular/lvmnebular.py:295: RuntimeWarning: Mean of empty slice\n",
      "  self.TeN2 = np.nanmean(TN2, axis=1)\n",
      "/home/amrita/LVM/lvmnebular/lvmnebular.py:308: RuntimeWarning: Mean of empty slice\n",
      "  self.TeS2 = np.nanmean(TS2, axis=1)\n"
     ]
    }
   ],
   "source": [
    "u.runpyneb(niter=4, bin=False, pertsim=False)"
   ]
  }
 ],
 "metadata": {
  "kernelspec": {
   "display_name": "Python 3.9.12 ('base')",
   "language": "python",
   "name": "python3"
  },
  "language_info": {
   "codemirror_mode": {
    "name": "ipython",
    "version": 3
   },
   "file_extension": ".py",
   "mimetype": "text/x-python",
   "name": "python",
   "nbconvert_exporter": "python",
   "pygments_lexer": "ipython3",
   "version": "3.9.12"
  },
  "orig_nbformat": 4,
  "vscode": {
   "interpreter": {
    "hash": "b943106136f0b7237aa45b13de07160508680759cd2ff79bd892a553daeee42a"
   }
  }
 },
 "nbformat": 4,
 "nbformat_minor": 2
}
