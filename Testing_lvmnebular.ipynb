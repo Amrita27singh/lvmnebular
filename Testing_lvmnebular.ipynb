{
 "cells": [
  {
   "cell_type": "code",
   "execution_count": 1,
   "metadata": {},
   "outputs": [],
   "source": [
    "import lvmnebular\n",
    "import numpy as np"
   ]
  },
  {
   "cell_type": "code",
   "execution_count": 2,
   "metadata": {},
   "outputs": [
    {
     "name": "stdout",
     "output_type": "stream",
     "text": [
      "Loading simulation: /home/amrita/LVM/lvmnebular/Bubble_v2_5e-14\n",
      "\n"
     ]
    }
   ],
   "source": [
    "u=lvmnebular.simulation()\n",
    "u.loadsim('Bubble_v2_5e-14',900)\n",
    "\n",
    "#u.bin(rbinmax=240, drbin=10)"
   ]
  },
  {
   "cell_type": "code",
   "execution_count": 4,
   "metadata": {},
   "outputs": [
    {
     "name": "stdout",
     "output_type": "stream",
     "text": [
      "Fitting Emmission Lines: ['9069' '7319' '7320' '7330' '6731' '6717' '6584' '6563' '6548' '6312'\n",
      " '5755' '5007' '4959' '4861' '4363' '4069' '4076' '3970' '3729' '3726']\n"
     ]
    }
   ],
   "source": [
    "u.fitlines(sys_vel=20, lines0= np.array([9069, 7319, 7320, 7330, 6731, 6717, 6584, 6563, 6548, 6312, 5755, 5007, 4959, 4861, 4363, 4069, 4076, 3970, 3729, 3726]), loadfile=True, plot=False)"
   ]
  },
  {
   "cell_type": "code",
   "execution_count": 5,
   "metadata": {},
   "outputs": [
    {
     "name": "stdout",
     "output_type": "stream",
     "text": [
      "warng _ManageAtomicData: rec data not available for Al2\n",
      "warng _ManageAtomicData: rec data not available for Ar2\n",
      "warng _ManageAtomicData: rec data not available for Ar3\n",
      "warng _ManageAtomicData: rec data not available for Ar4\n",
      "warng _ManageAtomicData: rec data not available for Ar5\n",
      "warng _ManageAtomicData: rec data not available for Ba2\n",
      "warng _ManageAtomicData: rec data not available for Ba4\n",
      "ERROR None: No data for this case B\n",
      "ERROR None: No data for this case B\n",
      "warng _ManageAtomicData: rec data not available for Ca5\n",
      "warng _ManageAtomicData: rec data not available for Cl2\n",
      "warng _ManageAtomicData: rec data not available for Cl3\n",
      "warng _ManageAtomicData: rec data not available for Cl4\n",
      "warng _ManageAtomicData: rec data not available for Fe3\n",
      "warng _ManageAtomicData: rec data not available for K4\n",
      "warng _ManageAtomicData: rec data not available for K5\n",
      "warng _ManageAtomicData: rec data not available for Mg5\n",
      "warng _ManageAtomicData: rec data not available for Mg7\n",
      "ERROR None: No data for this case B\n",
      "warng _ManageAtomicData: rec data not available for Na4\n",
      "warng _ManageAtomicData: rec data not available for Na6\n",
      "warng _ManageAtomicData: rec data not available for Ne3\n",
      "warng _ManageAtomicData: rec data not available for Ne4\n",
      "warng _ManageAtomicData: rec data not available for Ne5\n",
      "warng _ManageAtomicData: rec data not available for Ne6\n",
      "warng _ManageAtomicData: rec data not available for Ni3\n",
      "ERROR None: No data for this case B\n",
      "warng _ManageAtomicData: rec data not available for S2\n",
      "warng _ManageAtomicData: rec data not available for S3\n",
      "warng _ManageAtomicData: rec data not available for S4\n",
      "warng _ManageAtomicData: rec data not available for Si2\n",
      "warng _ManageAtomicData: rec data not available for Si3\n",
      "warng _ManageAtomicData: rec data not available for Xe3\n",
      "warng _ManageAtomicData: rec data not available for Xe4\n",
      "warng _ManageAtomicData: rec data not available for Xe6\n",
      "warng _ManageAtomicData: rec data not available for Kr3\n",
      "warng _ManageAtomicData: rec data not available for Kr4\n",
      "warng _ManageAtomicData: rec data not available for Kr5\n",
      "warng _ManageAtomicData: rec data not available for Se3\n",
      "warng _ManageAtomicData: rec data not available for Se4\n",
      "warng _ManageAtomicData: rec data not available for Br3\n",
      "warng _ManageAtomicData: rec data not available for Br4\n",
      "warng _ManageAtomicData: rec data not available for Rb4\n",
      "warng _ManageAtomicData: rec data not available for Rb5\n",
      "warng _ManageAtomicData: rec data not available for Rb6\n",
      "warng _ManageAtomicData: rec data not available for Fe4\n",
      "warng _ManageAtomicData: rec data not available for Fe5\n",
      "warng _ManageAtomicData: rec data not available for Fe6\n",
      "warng _ManageAtomicData: rec data not available for Fe7\n",
      "warng _ManageAtomicData: rec data not available for Fe2\n",
      "warng _ManageAtomicData: rec data not available for P2\n",
      "warng _ManageAtomicData: rec data not available for Te3\n",
      "warng _ManageAtomicData: rec data not available for Kr6\n",
      "warng _ManageAtomicData: rec data not available for Br5\n"
     ]
    },
    {
     "name": "stderr",
     "output_type": "stream",
     "text": [
      "/home/amrita/LVM/lvmnebular/lvmnebular.py:272: RuntimeWarning: Mean of empty slice\n",
      "  self.TeO2 = np.nanmean(TO2, axis=1)\n",
      "/home/amrita/miniconda3/lib/python3.9/site-packages/numpy/lib/nanfunctions.py:1879: RuntimeWarning: Degrees of freedom <= 0 for slice.\n",
      "  var = nanvar(a, axis=axis, dtype=dtype, out=out, ddof=ddof,\n"
     ]
    },
    {
     "name": "stdout",
     "output_type": "stream",
     "text": [
      "[ 8553.23874334  8413.12731032  8737.94945546  8651.01205653\n",
      "  8886.67428013  8394.72555708  8304.59936445  8924.36737262\n",
      "  8600.78067276  8608.86070531  8331.52429481  8599.24395063\n",
      "  8691.23329093  8930.99080012  8571.41513025  8649.46469262\n",
      "  8424.2221188   8695.70978851  8663.55800525  8649.77256563\n",
      "  9080.82353044  9085.38487305  8703.3803173   8639.43393281\n",
      "  8646.43557492  8945.30515664  8851.56897681  8913.95406843\n",
      "  8797.72081776  8889.11597116  8647.31034707  8597.65718117\n",
      "  8632.65007396  8586.48139043  8443.12428828  8557.42252662\n",
      "  8652.34510331  8908.89530117  8969.87991176  9010.006949\n",
      "  9063.4798039   8847.69567752  8961.78216515  8872.68990336\n",
      "  8739.78813287  8608.50999946  8917.65364185  8522.50924027\n",
      "  8877.69411745  8798.56038991  8814.20359005  8865.64123969\n",
      "  8752.82776244  8499.85662379  8746.72801409  8961.65624191\n",
      "  9244.41061105  8820.56270672  8710.60792459  8349.52290565\n",
      "  8782.54392049  9047.47355666  9169.38334509  9210.59478694\n",
      "  9267.70783101  9250.63833565  9353.20895363  9050.38895783\n",
      "  8848.55839131  9298.11982819  9075.60543416  9058.3722437\n",
      "  9170.67651505  9390.68020042  8841.58657223  9069.73441008\n",
      "  9420.24740811  9024.40314892  9026.7299557   8923.37130788\n",
      "  9117.39884827  9317.07526172  8872.22600014  8998.4357945\n",
      "  9060.45037683  9128.24981243  8914.76180298  9099.38677141\n",
      "  8915.46713176  8835.39917401  9042.16246258 30013.18309241\n",
      " 12315.65526037 10367.1902211   8581.04338252  9486.38543034\n",
      "  9065.09255128  9579.38628609  7318.51278962  8804.83514119\n",
      "  9352.81631606  9161.33794132 11566.86871646  9114.04914866\n",
      "  9205.26345737  9467.89928962  8628.05785935  8899.67366694\n",
      " 34326.43368289  9099.16225096  9088.81911528  9382.36194519\n",
      "  8981.51998755  9065.79684176  9344.27303173  9115.53215959\n",
      "  9070.82390156  8977.65444511  9060.14512418  9019.79032551\n",
      "  8893.45253209  8959.58817029  9310.55111209  9640.06774275\n",
      "  9151.67363519  9167.10278294  8707.17245461            nan\n",
      "            nan 24340.06324749 33846.81208505 18642.75728194\n",
      " 12836.37078002 22269.91122129            nan            nan\n",
      " 26483.02068839 87684.95615994 10557.05618946 13156.85464684\n",
      "  8398.12185541 11322.34219109 10579.78593702            nan\n",
      "  9186.61088754            nan  9477.47650007            nan\n",
      " 76020.3609664             nan 10663.03635043 10624.80432372\n",
      "  8908.05583514 12839.3775772   9321.56602866 13936.53530101\n",
      "  8910.12361513 11541.16833935  8653.25831204 50637.54544603\n",
      "  9285.29904846            nan 14896.84598218  8752.47385813\n",
      "  8932.17357137  9053.12500517  9045.72651601 11271.32446007\n",
      " 43797.13803291]\n"
     ]
    },
    {
     "name": "stderr",
     "output_type": "stream",
     "text": [
      "/home/amrita/LVM/lvmnebular/lvmnebular.py:291: RuntimeWarning: Mean of empty slice\n",
      "  self.TeO3 = np.nanmean(TO3, axis=1)\n",
      "/home/amrita/LVM/lvmnebular/lvmnebular.py:308: RuntimeWarning: Mean of empty slice\n",
      "  self.TeN2 = np.nanmean(TN2, axis=1)\n",
      "/home/amrita/LVM/lvmnebular/lvmnebular.py:327: RuntimeWarning: Mean of empty slice\n",
      "  self.TeS2 = np.nanmean(TS2, axis=1)\n"
     ]
    },
    {
     "name": "stdout",
     "output_type": "stream",
     "text": [
      "fiber_id [1]      delta_ra [1]     ... Temp_mean_S3 Temp_std_S3\n",
      "------------ --------------------- ... ------------ -----------\n",
      "           0 1.546738304939677e-27 ...          0.0         0.0\n",
      "           1      18.4999999504005 ...          0.0         0.0\n",
      "           2   -18.499999950445808 ...          0.0         0.0\n",
      "           3     36.99999960315852 ...          0.0         0.0\n",
      "           4     -36.9999996031917 ...          0.0         0.0\n",
      "           5     18.49999995040049 ...          0.0         0.0\n",
      "           6   -18.499999950445808 ...          0.0         0.0\n",
      "           7     36.99999960315134 ...          0.0         0.0\n",
      "           8 7.848256766560548e-15 ...          0.0         0.0\n",
      "           9     -36.9999996031917 ...          0.0         0.0\n",
      "         ...                   ... ...          ...         ...\n",
      "         158    -166.4999638364341 ...          0.0         0.0\n",
      "         159    147.99997460119522 ...          0.0         0.0\n",
      "         160   -147.99997460135333 ...          0.0         0.0\n",
      "         161    129.49998298477573 ...          0.0         0.0\n",
      "         162     92.49999379912343 ...          0.0         0.0\n",
      "         163     55.49999866060994 ...          0.0         0.0\n",
      "         164    18.499999950389142 ...          0.0         0.0\n",
      "         165    -18.49999995026261 ...          0.0         0.0\n",
      "         166    -55.49999866072095 ...          0.0         0.0\n",
      "         167    -92.49999379914668 ...          0.0         0.0\n",
      "         168   -129.49998298485644 ...          0.0         0.0\n",
      "Length = 169 rows\n"
     ]
    },
    {
     "name": "stderr",
     "output_type": "stream",
     "text": [
      "/home/amrita/LVM/lvmnebular/lvmnebular.py:366: RuntimeWarning: Mean of empty slice\n",
      "  self.neO2 = np.nanmean(NO2, axis=1)\n",
      "/home/amrita/LVM/lvmnebular/lvmnebular.py:378: RuntimeWarning: Mean of empty slice\n",
      "  self.neS2 = np.nanmean(NS2, axis=1)\n"
     ]
    }
   ],
   "source": [
    "u.runpyneb(niter=10, bin=False, pertsim=False)"
   ]
  }
 ],
 "metadata": {
  "kernelspec": {
   "display_name": "Python 3.9.12 ('base')",
   "language": "python",
   "name": "python3"
  },
  "language_info": {
   "codemirror_mode": {
    "name": "ipython",
    "version": 3
   },
   "file_extension": ".py",
   "mimetype": "text/x-python",
   "name": "python",
   "nbconvert_exporter": "python",
   "pygments_lexer": "ipython3",
   "version": "3.9.12"
  },
  "orig_nbformat": 4,
  "vscode": {
   "interpreter": {
    "hash": "b943106136f0b7237aa45b13de07160508680759cd2ff79bd892a553daeee42a"
   }
  }
 },
 "nbformat": 4,
 "nbformat_minor": 2
}
