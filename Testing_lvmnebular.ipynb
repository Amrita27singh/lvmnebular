{
 "cells": [
  {
   "cell_type": "code",
   "execution_count": 1,
   "metadata": {},
   "outputs": [],
   "source": [
    "import lvmnebular\n",
    "import numpy as np"
   ]
  },
  {
   "cell_type": "code",
   "execution_count": 2,
   "metadata": {},
   "outputs": [
    {
     "name": "stdout",
     "output_type": "stream",
     "text": [
      "Loading simulation: /home/amrita/LVM/lvmnebular/Bubble_v2_5e-14\n",
      "\n",
      " id ring position ...           y            diameter dispersion\n",
      "                  ...         arcsec          arcsec     pix    \n",
      "--- ---- -------- ... ---------------------- -------- ----------\n",
      "  0    1        0 ...                    0.0     35.3        3.0\n",
      "  1    2        0 ...    -32.042939553375824     35.3        3.0\n",
      "  2    2        1 ...     -32.04293955337582     35.3        3.0\n",
      "  3    2        2 ... 1.2632342130702194e-11     35.3        3.0\n",
      "  4    2        3 ... 1.2623279744534303e-11     35.3        3.0\n",
      "  5    2        4 ...     32.042939553401084     35.3        3.0\n",
      "  6    2        5 ...      32.04293955340108     35.3        3.0\n",
      "  7    3        0 ...      -64.0858767868585     35.3        3.0\n",
      "  8    3        1 ...     -64.08587781791653     35.3        3.0\n",
      "  9    3        2 ...     -64.08587678685849     35.3        3.0\n",
      "...  ...      ... ...                    ...      ...        ...\n",
      "159    8       32 ...     192.25753447175794     35.3        3.0\n",
      "160    8       33 ...     192.25753447175794     35.3        3.0\n",
      "161    8       34 ...     224.30044695973012     35.3        3.0\n",
      "162    8       35 ...     224.30046861205267     35.3        3.0\n",
      "163    8       36 ...     224.30048304691203     35.3        3.0\n",
      "164    8       37 ...     224.30049026429901     35.3        3.0\n",
      "165    8       38 ...     224.30049026429901     35.3        3.0\n",
      "166    8       39 ...       224.300483046912     35.3        3.0\n",
      "167    8       40 ...     224.30046861205273     35.3        3.0\n",
      "168    8       41 ...     224.30044695972992     35.3        3.0\n",
      "Length = 169 rows\n"
     ]
    }
   ],
   "source": [
    "u=lvmnebular.simulation()\n",
    "u.loadsim('Bubble_v2_5e-14',900)\n",
    "\n",
    "#u.bin(rbinmax=240, drbin=10)"
   ]
  },
  {
   "cell_type": "code",
   "execution_count": 3,
   "metadata": {},
   "outputs": [
    {
     "name": "stdout",
     "output_type": "stream",
     "text": [
      "Fitting Emmission Lines: ['9069' '7319' '7330' '6731' '6717' '6584' '6563' '6548' '6312' '5755'\n",
      " '5007' '4959' '4861' '4363' '4069' '4076' '3970' '3729' '3726']\n"
     ]
    }
   ],
   "source": [
    "u.fitlines(sys_vel=20, lines0= np.array([9069, 7319, 7330, 6731, 6717, 6584, 6563, 6548, 6312, 5755, 5007, 4959, 4861, 4363, 4069, 4076, 3970, 3729, 3726]), loadfile=True)"
   ]
  },
  {
   "cell_type": "code",
   "execution_count": 4,
   "metadata": {},
   "outputs": [
    {
     "name": "stdout",
     "output_type": "stream",
     "text": [
      "warng _ManageAtomicData: rec data not available for Al2\n",
      "warng _ManageAtomicData: rec data not available for Ar2\n",
      "warng _ManageAtomicData: rec data not available for Ar3\n",
      "warng _ManageAtomicData: rec data not available for Ar4\n",
      "warng _ManageAtomicData: rec data not available for Ar5\n",
      "warng _ManageAtomicData: rec data not available for Ba2\n",
      "warng _ManageAtomicData: rec data not available for Ba4\n",
      "ERROR None: No data for this case B\n",
      "ERROR None: No data for this case B\n",
      "warng _ManageAtomicData: rec data not available for Ca5\n",
      "warng _ManageAtomicData: rec data not available for Cl2\n",
      "warng _ManageAtomicData: rec data not available for Cl3\n",
      "warng _ManageAtomicData: rec data not available for Cl4\n",
      "warng _ManageAtomicData: rec data not available for Fe3\n",
      "warng _ManageAtomicData: rec data not available for K4\n",
      "warng _ManageAtomicData: rec data not available for K5\n",
      "warng _ManageAtomicData: rec data not available for Mg5\n",
      "warng _ManageAtomicData: rec data not available for Mg7\n",
      "ERROR None: No data for this case B\n",
      "warng _ManageAtomicData: rec data not available for Na4\n",
      "warng _ManageAtomicData: rec data not available for Na6\n",
      "warng _ManageAtomicData: rec data not available for Ne3\n",
      "warng _ManageAtomicData: rec data not available for Ne4\n",
      "warng _ManageAtomicData: rec data not available for Ne5\n",
      "warng _ManageAtomicData: rec data not available for Ne6\n",
      "warng _ManageAtomicData: rec data not available for Ni3\n",
      "ERROR None: No data for this case B\n",
      "warng _ManageAtomicData: rec data not available for S2\n",
      "warng _ManageAtomicData: rec data not available for S3\n",
      "warng _ManageAtomicData: rec data not available for S4\n",
      "warng _ManageAtomicData: rec data not available for Si2\n",
      "warng _ManageAtomicData: rec data not available for Si3\n",
      "warng _ManageAtomicData: rec data not available for Xe3\n",
      "warng _ManageAtomicData: rec data not available for Xe4\n",
      "warng _ManageAtomicData: rec data not available for Xe6\n",
      "warng _ManageAtomicData: rec data not available for Kr3\n",
      "warng _ManageAtomicData: rec data not available for Kr4\n",
      "warng _ManageAtomicData: rec data not available for Kr5\n",
      "warng _ManageAtomicData: rec data not available for Se3\n",
      "warng _ManageAtomicData: rec data not available for Se4\n",
      "warng _ManageAtomicData: rec data not available for Br3\n",
      "warng _ManageAtomicData: rec data not available for Br4\n",
      "warng _ManageAtomicData: rec data not available for Rb4\n",
      "warng _ManageAtomicData: rec data not available for Rb5\n",
      "warng _ManageAtomicData: rec data not available for Rb6\n",
      "warng _ManageAtomicData: rec data not available for Fe4\n",
      "warng _ManageAtomicData: rec data not available for Fe5\n",
      "warng _ManageAtomicData: rec data not available for Fe6\n",
      "warng _ManageAtomicData: rec data not available for Fe7\n",
      "warng _ManageAtomicData: rec data not available for Fe2\n",
      "warng _ManageAtomicData: rec data not available for P2\n",
      "warng _ManageAtomicData: rec data not available for Te3\n",
      "warng _ManageAtomicData: rec data not available for Kr6\n",
      "warng _ManageAtomicData: rec data not available for Br5\n"
     ]
    },
    {
     "name": "stderr",
     "output_type": "stream",
     "text": [
      "/home/amrita/LVM/lvmnebular/lvmnebular.py:275: RuntimeWarning: Mean of empty slice\n",
      "  self.TeO2 = np.nanmean(TO2, axis=1)\n",
      "/home/amrita/miniconda3/lib/python3.9/site-packages/numpy/lib/nanfunctions.py:1879: RuntimeWarning: Degrees of freedom <= 0 for slice.\n",
      "  var = nanvar(a, axis=axis, dtype=dtype, out=out, ddof=ddof,\n",
      "/home/amrita/LVM/lvmnebular/lvmnebular.py:294: RuntimeWarning: Mean of empty slice\n",
      "  self.TeO3 = np.nanmean(TO3, axis=1)\n",
      "/home/amrita/LVM/lvmnebular/lvmnebular.py:311: RuntimeWarning: Mean of empty slice\n",
      "  self.TeN2 = np.nanmean(TN2, axis=1)\n",
      "/home/amrita/LVM/lvmnebular/lvmnebular.py:330: RuntimeWarning: Mean of empty slice\n",
      "  self.TeS2 = np.nanmean(TS2, axis=1)\n",
      "/home/amrita/LVM/lvmnebular/lvmnebular.py:364: RuntimeWarning: Mean of empty slice\n",
      "  self.neO2 = np.nanmean(NO2, axis=1)\n",
      "/home/amrita/LVM/lvmnebular/lvmnebular.py:376: RuntimeWarning: Mean of empty slice\n",
      "  self.neS2 = np.nanmean(NS2, axis=1)\n"
     ]
    }
   ],
   "source": [
    "u.runpyneb(niter=10, bin=False, pertsim=False)"
   ]
  }
 ],
 "metadata": {
  "kernelspec": {
   "display_name": "Python 3.9.12 ('base')",
   "language": "python",
   "name": "python3"
  },
  "language_info": {
   "codemirror_mode": {
    "name": "ipython",
    "version": 3
   },
   "file_extension": ".py",
   "mimetype": "text/x-python",
   "name": "python",
   "nbconvert_exporter": "python",
   "pygments_lexer": "ipython3",
   "version": "3.9.12"
  },
  "orig_nbformat": 4,
  "vscode": {
   "interpreter": {
    "hash": "b943106136f0b7237aa45b13de07160508680759cd2ff79bd892a553daeee42a"
   }
  }
 },
 "nbformat": 4,
 "nbformat_minor": 2
}
