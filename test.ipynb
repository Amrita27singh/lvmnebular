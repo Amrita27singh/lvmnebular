{
 "cells": [
  {
   "cell_type": "code",
   "execution_count": 1,
   "metadata": {},
   "outputs": [],
   "source": [
    "import lvmnebular\n",
    "import numpy as np\n",
    "\n"
   ]
  },
  {
   "cell_type": "code",
   "execution_count": 2,
   "metadata": {},
   "outputs": [
    {
     "name": "stdout",
     "output_type": "stream",
     "text": [
      "Loading simulation: /Users/gblancm/work/students/amrita/lvmnebular/Bubble_v2_1e-11\n",
      "\n",
      "Fitting Emmission Lines: ['9069' '6731' '6717' '6584' '6563' '6548' '6312' '5755' '5007' '4959'\n",
      " '4861' '4363' '4069' '3970' '3729' '3726']\n",
      " id ring position ...           y            diameter dispersion\n",
      "                  ...         arcsec          arcsec     pix    \n",
      "--- ---- -------- ... ---------------------- -------- ----------\n",
      "  0    1        0 ...                    0.0     35.3        3.0\n",
      "  1    2        0 ...    -32.042939553375824     35.3        3.0\n",
      "  2    2        1 ...     -32.04293955337582     35.3        3.0\n",
      "  3    2        2 ... 1.2632342130702194e-11     35.3        3.0\n",
      "  4    2        3 ... 1.2623279744534303e-11     35.3        3.0\n",
      "  5    2        4 ...     32.042939553401084     35.3        3.0\n",
      "  6    2        5 ...      32.04293955340108     35.3        3.0\n",
      "  7    3        0 ...      -64.0858767868585     35.3        3.0\n",
      "  8    3        1 ...     -64.08587781791653     35.3        3.0\n",
      "  9    3        2 ...     -64.08587678685849     35.3        3.0\n",
      "...  ...      ... ...                    ...      ...        ...\n",
      "159    8       32 ...     192.25753447175794     35.3        3.0\n",
      "160    8       33 ...     192.25753447175794     35.3        3.0\n",
      "161    8       34 ...     224.30044695973012     35.3        3.0\n",
      "162    8       35 ...     224.30046861205267     35.3        3.0\n",
      "163    8       36 ...     224.30048304691203     35.3        3.0\n",
      "164    8       37 ...     224.30049026429901     35.3        3.0\n",
      "165    8       38 ...     224.30049026429901     35.3        3.0\n",
      "166    8       39 ...       224.300483046912     35.3        3.0\n",
      "167    8       40 ...     224.30046861205273     35.3        3.0\n",
      "168    8       41 ...     224.30044695972992     35.3        3.0\n",
      "Length = 169 rows\n",
      "{'fiber_id': [], 'delta_ra': [], 'delta_dec': [], '9069_flux': [], '9069_flux_err': [], '9069_lambda': [], '9069_lambda_err': [], '9069_sigma': [], '9069_sigma_err': [], '6731_flux': [], '6731_flux_err': [], '6731_lambda': [], '6731_lambda_err': [], '6731_sigma': [], '6731_sigma_err': [], '6717_flux': [], '6717_flux_err': [], '6717_lambda': [], '6717_lambda_err': [], '6717_sigma': [], '6717_sigma_err': [], '6584_flux': [], '6584_flux_err': [], '6584_lambda': [], '6584_lambda_err': [], '6584_sigma': [], '6584_sigma_err': [], '6563_flux': [], '6563_flux_err': [], '6563_lambda': [], '6563_lambda_err': [], '6563_sigma': [], '6563_sigma_err': [], '6548_flux': [], '6548_flux_err': [], '6548_lambda': [], '6548_lambda_err': [], '6548_sigma': [], '6548_sigma_err': [], '6312_flux': [], '6312_flux_err': [], '6312_lambda': [], '6312_lambda_err': [], '6312_sigma': [], '6312_sigma_err': [], '5755_flux': [], '5755_flux_err': [], '5755_lambda': [], '5755_lambda_err': [], '5755_sigma': [], '5755_sigma_err': [], '5007_flux': [], '5007_flux_err': [], '5007_lambda': [], '5007_lambda_err': [], '5007_sigma': [], '5007_sigma_err': [], '4959_flux': [], '4959_flux_err': [], '4959_lambda': [], '4959_lambda_err': [], '4959_sigma': [], '4959_sigma_err': [], '4861_flux': [], '4861_flux_err': [], '4861_lambda': [], '4861_lambda_err': [], '4861_sigma': [], '4861_sigma_err': [], '4363_flux': [], '4363_flux_err': [], '4363_lambda': [], '4363_lambda_err': [], '4363_sigma': [], '4363_sigma_err': [], '4069_flux': [], '4069_flux_err': [], '4069_lambda': [], '4069_lambda_err': [], '4069_sigma': [], '4069_sigma_err': [], '3970_flux': [], '3970_flux_err': [], '3970_lambda': [], '3970_lambda_err': [], '3970_sigma': [], '3970_sigma_err': [], '3729_flux': [], '3729_flux_err': [], '3729_lambda': [], '3729_lambda_err': [], '3729_sigma': [], '3729_sigma_err': [], '3726_flux': [], '3726_flux_err': [], '3726_lambda': [], '3726_lambda_err': [], '3726_sigma': [], '3726_sigma_err': []}\n"
     ]
    },
    {
     "ename": "AttributeError",
     "evalue": "'simulation' object has no attribute 'fibdata'",
     "output_type": "error",
     "traceback": [
      "\u001b[0;31m---------------------------------------------------------------------------\u001b[0m",
      "\u001b[0;31mAttributeError\u001b[0m                            Traceback (most recent call last)",
      "\u001b[1;32m/Users/gblancm/work/students/amrita/Project-LVM/test.ipynb Cell 2\u001b[0m in \u001b[0;36m<cell line: 4>\u001b[0;34m()\u001b[0m\n\u001b[1;32m      <a href='vscode-notebook-cell:/Users/gblancm/work/students/amrita/Project-LVM/test.ipynb#W4sZmlsZQ%3D%3D?line=0'>1</a>\u001b[0m mysim\u001b[39m=\u001b[39mlvmnebular\u001b[39m.\u001b[39msimulation()\n\u001b[1;32m      <a href='vscode-notebook-cell:/Users/gblancm/work/students/amrita/Project-LVM/test.ipynb#W4sZmlsZQ%3D%3D?line=1'>2</a>\u001b[0m mysim\u001b[39m.\u001b[39mloadsim(\u001b[39m'\u001b[39m\u001b[39mBubble_v2_1e-11\u001b[39m\u001b[39m'\u001b[39m, \u001b[39m900\u001b[39m)\n\u001b[0;32m----> <a href='vscode-notebook-cell:/Users/gblancm/work/students/amrita/Project-LVM/test.ipynb#W4sZmlsZQ%3D%3D?line=3'>4</a>\u001b[0m mysim\u001b[39m.\u001b[39;49mfitlines(sys_vel\u001b[39m=\u001b[39;49m\u001b[39m20\u001b[39;49m, lines0\u001b[39m=\u001b[39;49m np\u001b[39m.\u001b[39;49marray([\u001b[39m9069\u001b[39;49m, \u001b[39m6731\u001b[39;49m, \u001b[39m6717\u001b[39;49m, \u001b[39m6584\u001b[39;49m, \u001b[39m6563\u001b[39;49m, \u001b[39m6548\u001b[39;49m, \u001b[39m6312\u001b[39;49m, \u001b[39m5755\u001b[39;49m, \u001b[39m5007\u001b[39;49m, \u001b[39m4959\u001b[39;49m, \u001b[39m4861\u001b[39;49m, \u001b[39m4363\u001b[39;49m, \u001b[39m4069\u001b[39;49m, \u001b[39m3970\u001b[39;49m, \u001b[39m3729\u001b[39;49m, \u001b[39m3726\u001b[39;49m]))\n",
      "File \u001b[0;32m~/work/students/amrita/Project-LVM/lvmnebular.py:155\u001b[0m, in \u001b[0;36msimulation.fitlines\u001b[0;34m(self, sys_vel, lines0, bin, pertsim)\u001b[0m\n\u001b[1;32m    151\u001b[0m \u001b[39mprint\u001b[39m(\u001b[39mself\u001b[39m\u001b[39m.\u001b[39mlinefitdict)\n\u001b[1;32m    153\u001b[0m \u001b[39mfor\u001b[39;00m i \u001b[39min\u001b[39;00m \u001b[39mrange\u001b[39m(\u001b[39mself\u001b[39m\u001b[39m.\u001b[39mnfib):\n\u001b[1;32m    154\u001b[0m \u001b[39m#for i in [105, 106, 107]:\u001b[39;00m\n\u001b[0;32m--> 155\u001b[0m     mask \u001b[39m=\u001b[39m \u001b[39mself\u001b[39;49m\u001b[39m.\u001b[39;49mfibdata[\u001b[39m'\u001b[39m\u001b[39mid\u001b[39m\u001b[39m'\u001b[39m] \u001b[39m==\u001b[39m i\n\u001b[1;32m    156\u001b[0m     spectrum \u001b[39m=\u001b[39m flux[mask][\u001b[39m0\u001b[39m]  \u001b[39m# select only fiber n. 200\u001b[39;00m\n\u001b[1;32m    157\u001b[0m     error \u001b[39m=\u001b[39m err[mask][\u001b[39m0\u001b[39m]\n",
      "\u001b[0;31mAttributeError\u001b[0m: 'simulation' object has no attribute 'fibdata'"
     ]
    }
   ],
   "source": [
    "mysim=lvmnebular.simulation()\n",
    "mysim.loadsim('Bubble_v2_1e-11', 900)\n",
    "#mysim.fitlines(sys_vel=20, lines0= np.array([9069, 6731, 6717, 6584, 6563, 6548, 6312, 5755, 5007, 4959, 4861, 4363, 4069, 3970, 3729, 3726]))\n",
    "mysim.fitlines(loadfile=True)\n",
    "mysim.runpyneb()\n",
    "\n",
    "\n",
    "\n",
    "\n",
    "\n",
    "\n",
    "\n",
    "\n"
   ]
  },
  {
   "cell_type": "code",
   "execution_count": 3,
   "metadata": {},
   "outputs": [
    {
     "data": {
      "text/plain": [
       "169"
      ]
     },
     "execution_count": 3,
     "metadata": {},
     "output_type": "execute_result"
    }
   ],
   "source": [
    "len(mysim.fiberdata)"
   ]
  },
  {
   "cell_type": "code",
   "execution_count": 9,
   "metadata": {},
   "outputs": [
    {
     "name": "stdout",
     "output_type": "stream",
     "text": [
      "['6563' '775']\n"
     ]
    }
   ],
   "source": [
    "x=np.array([6563, 775]).astype(str)\n",
    "print(x)"
   ]
  },
  {
   "cell_type": "code",
   "execution_count": 11,
   "metadata": {},
   "outputs": [
    {
     "data": {
      "text/plain": [
       "(12301,)"
      ]
     },
     "execution_count": 11,
     "metadata": {},
     "output_type": "execute_result"
    }
   ],
   "source": [
    "mask = mysim.fiberdata['id'] == 0\n",
    "\n",
    "mysim.flux[mask]\n",
    "\n",
    "\n",
    "\n",
    "\n",
    "np.shape(mysim.flux[mask].flatten())"
   ]
  },
  {
   "cell_type": "code",
   "execution_count": null,
   "metadata": {},
   "outputs": [],
   "source": []
  }
 ],
 "metadata": {
  "kernelspec": {
   "display_name": "base",
   "language": "python",
   "name": "python3"
  },
  "language_info": {
   "codemirror_mode": {
    "name": "ipython",
    "version": 3
   },
   "file_extension": ".py",
   "mimetype": "text/x-python",
   "name": "python",
   "nbconvert_exporter": "python",
   "pygments_lexer": "ipython3",
   "version": "3.9.12"
  },
  "orig_nbformat": 4
 },
 "nbformat": 4,
 "nbformat_minor": 2
}
