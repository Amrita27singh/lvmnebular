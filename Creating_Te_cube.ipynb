{
 "cells": [
  {
   "cell_type": "code",
   "execution_count": 1,
   "metadata": {},
   "outputs": [],
   "source": [
    "import numpy as np\n",
    "from astropy.io import fits\n",
    "from scipy.interpolate import interp1d\n",
    "import matplotlib.pyplot as plt\n",
    "import itertools\n",
    "from scipy.fft import ifftn, fftn\n",
    "import imageio\n",
    "from matplotlib.animation import FuncAnimation\n",
    "from astropy.io import fits"
   ]
  },
  {
   "cell_type": "code",
   "execution_count": 29,
   "metadata": {},
   "outputs": [],
   "source": [
    "def create_Te_cube(ref_cube, Te, R, resolution):\n",
    "\n",
    "    '''\n",
    "    Input:\n",
    "    Ref cube: True 3D cube with emissivities.\n",
    "    Te: True Te (T0) radial profile from the cloudy model grid\n",
    "    R: True radius \n",
    "    resolution: \n",
    "\n",
    "    Output:\n",
    "    \n",
    "\n",
    "    '''\n",
    "    ref_shape = ref_cube.shape       #cube_3D_cart.fits is the refernce cube\n",
    "    cube = np.zeros(ref_shape)\n",
    "    z = np.arange(ref_shape[0])\n",
    "    y = np.arange(ref_shape[1])\n",
    "    x = np.arange(ref_shape[2])\n",
    "    center = np.divide(ref_shape, 2)\n",
    "   \n",
    "    r = R * resolution # resolution is in pix/parsec\n",
    "\n",
    "    Te_interp = interp1d(r, Te, kind='cubic', fill_value=0, bounds_error=False) # shall we try fill_vlaue = 'extrapolate'? ne is zero in the halo, Te?\n",
    "\n",
    "    factor = ref_shape[0]/ref_shape[2]\n",
    "    \n",
    "    for i in z:\n",
    "        for j in y:\n",
    "            for k in x:\n",
    "                rad = np.sqrt((i-center[0])**2 + (j-center[1])**2 + factor**2*(k-center[2])**2)\n",
    "                \n",
    "                cube[i, j, k] = Te_interp(rad)\n",
    "\n",
    "    return cube\n"
   ]
  },
  {
   "cell_type": "code",
   "execution_count": 30,
   "metadata": {},
   "outputs": [
    {
     "name": "stdout",
     "output_type": "stream",
     "text": [
      "3037.8417835614014\n"
     ]
    }
   ],
   "source": [
    "#Radius’, 'Te', 'ne', 'H+', 'O0', 'O+', 'O++', 'N0', 'N+', 'N++', 'S0', 'S+', 'S++\n",
    "simname = 'Bubble_v2_5e-14'\n",
    "\n",
    "with fits.open('/home/amrita/LVM/lvmnebular/'+simname+'/testneb_tutorial3_ex1.fits') as hdu:\n",
    "    vals=hdu['Comp_0_PhysParams'].data\n",
    "R = vals[0][1:]\n",
    "Te = vals[1][1:]\n",
    "\n",
    "with fits.open('./Perturbation/cube_3D_cart.fits') as hdu:\n",
    "    data=hdu[0].data\n",
    "\n",
    "resolution = 1/0.777  # in pixels\n",
    "\n",
    "cube=create_Te_cube(data, Te, R, resolution)\n",
    "\n",
    "hdu1=fits.PrimaryHDU(cube)\n",
    "\n",
    "hdul=fits.HDUList([hdu1])\n",
    "hdul.writeto('./Perturbation/3d_Te_cube.fits', overwrite='True')\n"
   ]
  },
  {
   "cell_type": "code",
   "execution_count": 14,
   "metadata": {},
   "outputs": [],
   "source": [
    "# From the next block we are making the perturbation cube\n",
    "\n",
    "def k_vector(npoints):\n",
    "    k1 = np.arange(npoints/2+1)\n",
    "    k2 = np.arange(-npoints/2+1, 0)\n",
    "    \n",
    "    kvector = 2*np.pi/ npoints* np.concatenate([k1, k2])\n",
    "    return kvector\n",
    "\n",
    "def pk_vector_delta(kvector, kvector2, ref_shape, k0, dk0):\n",
    "    \n",
    "    npoints = len(kvector)\n",
    "    kk = np.zeros(ref_shape)\n",
    "    \n",
    "    factor = ref_shape[2]/ref_shape[0]  \n",
    "\n",
    "    for i, j, k in itertools.product(range(ref_shape[0]), range(ref_shape[1]), range(ref_shape[2])):\n",
    "        kk[i, j, k] = np.sqrt(kvector[i]**2 + kvector[j]**2 + factor**2*kvector2[k]**2)\n",
    "               \n",
    "    \n",
    "    pk=np.zeros_like(kk)\n",
    "    sel=(kk > k0-dk0/2)*(kk < k0+dk0/2)\n",
    "    pk[sel]=1\n",
    "    \n",
    "    hdu1=fits.PrimaryHDU(pk)\n",
    "\n",
    "    hdul=fits.HDUList([hdu1])\n",
    "    hdul.writeto('./Perturbation/power_vector_delta.fits', overwrite='True')\n",
    "\n",
    "    #xx, yy, zz = np.mgrid[0:npoints, 0:npoints, 0:npoints]\n",
    "    #r = np.sqrt((xx-npoints/2)**2 + (yy-npoints/2)**2 + (zz-npoints/2)**2)\n",
    "    #mask = r > npoints/2\n",
    "    #mask2 = r < 0.8 * npoints/2\n",
    "    #pk[mask*mask2]=0\n",
    "    #pk[mask]=0\n",
    "\n",
    "    pk[0,0,0] = 0\n",
    "    \n",
    "    return pk\n",
    "\n",
    "def field_delta(k0, dk0, ref_cube):\n",
    "    ref_shape = ref_cube.shape\n",
    "    \n",
    "    npoints = ref_shape[0]\n",
    "    k = k_vector(npoints)\n",
    "    k2 = k_vector(ref_shape[2])\n",
    "\n",
    "    pk = pk_vector_delta(k, k2, ref_shape, k0, dk0)\n",
    "    Pk1 = np.zeros_like(pk)\n",
    "    #Pk1 /= Pk1.sum()\n",
    "    Pk1 = pk\n",
    "\n",
    "    field=np.random.randn(*ref_shape)\n",
    "    fft_field=fftn(field)\n",
    "    \n",
    "    pspect_field = np.sqrt(Pk1) * fft_field\n",
    "    new_field = np.real(ifftn(pspect_field))\n",
    "    \n",
    "    return new_field\n"
   ]
  },
  {
   "cell_type": "code",
   "execution_count": 15,
   "metadata": {},
   "outputs": [],
   "source": [
    "def pc2k(x, L=36):\n",
    "    return L/(2*np.pi*x) # returns k-number corresponding to scale x in pc\n",
    "\n",
    "def fsr2k(x, L=2):\n",
    "    return L/(2*np.pi*x) # returns k-number corresponding to a fraction of the Stromgren Radius\n",
    "\n",
    "def pertsim(ref_cube, k0=fsr2k(0.5), dk0=0.05, Amp=0.1):\n",
    "             \n",
    "    new_field=field_delta(k0, dk0, ref_cube)\n",
    "                             \n",
    "    norm_field=new_field/np.std(new_field)*Amp\n",
    "\n",
    "    return norm_field"
   ]
  },
  {
   "cell_type": "code",
   "execution_count": 33,
   "metadata": {},
   "outputs": [],
   "source": [
    "def compute_pert_CEL_emissivity(data, T0, Tp):\n",
    "\n",
    "    line = np.array([9532, 9069, 7319, 7320, 7330, 7331, 6731, 6716, 6584, 6548, 6312, 5755, 5007, 4959, 4363, 4069, 4076, 3970, 3729, 3726])\n",
    "    em_line = np.array([138, 132, 101, 102,  103,  104,  96,   95,    93,   91,    89,  86,  72,  70,    45,   36,   37,   33,  17,  16])\n",
    "\n",
    "    output = data.copy()\n",
    "\n",
    "    for i,j in zip(line, em_line):\n",
    "        chi = 6.626e-24*299792458 * 1e7/i      \n",
    "        E0 = data[j, :, :, :]\n",
    "\n",
    "        k = 1.38e-23\n",
    "        A = -chi/(k*Tp)\n",
    "        B = chi/(k*T0)\n",
    "        C = np.sqrt(Tp)\n",
    "\n",
    "        output[j, :, :, :] = np.exp(A+B)/C * np.sqrt(T0)* E0\n",
    "\n",
    "    return output"
   ]
  },
  {
   "cell_type": "code",
   "execution_count": 40,
   "metadata": {},
   "outputs": [],
   "source": [
    "def compute_pert_RL_emissivity(data, T0, Tp):\n",
    "\n",
    "    line = np.array([4861, 6563])\n",
    "    em_line = np.array([65, 92])\n",
    "\n",
    "    output = data.copy()\n",
    "\n",
    "    for i,j in zip(line, em_line):\n",
    "\n",
    "        E0 = data[j, :, :, :]\n",
    "        \n",
    "        output[j, :, :, :]  = T0/Tp *E0 \n",
    "    \n",
    "    return output"
   ]
  },
  {
   "cell_type": "code",
   "execution_count": 46,
   "metadata": {},
   "outputs": [
    {
     "name": "stdout",
     "output_type": "stream",
     "text": [
      "(141, 49, 49, 100)\n"
     ]
    },
    {
     "name": "stderr",
     "output_type": "stream",
     "text": [
      "/tmp/ipykernel_4704/4219846461.py:13: RuntimeWarning: divide by zero encountered in divide\n",
      "  A = -chi/(k*Tp)\n",
      "/tmp/ipykernel_4704/4219846461.py:14: RuntimeWarning: divide by zero encountered in divide\n",
      "  B = chi/(k*T0)\n",
      "/tmp/ipykernel_4704/4219846461.py:17: RuntimeWarning: invalid value encountered in add\n",
      "  output[j, :, :, :] = np.exp(A+B)/C * np.sqrt(T0)* E0\n",
      "/tmp/ipykernel_4704/3310245009.py:12: RuntimeWarning: invalid value encountered in divide\n",
      "  output[j, :, :, :]  = T0/Tp *E0\n",
      "/tmp/ipykernel_4704/4219846461.py:17: RuntimeWarning: invalid value encountered in multiply\n",
      "  output[j, :, :, :] = np.exp(A+B)/C * np.sqrt(T0)* E0\n"
     ]
    }
   ],
   "source": [
    "n = 6\n",
    "frac = np.linspace(6*10**(-2), 1, n)\n",
    "\n",
    "\n",
    "with fits.open('./Perturbation/cube_4D_cart.fits') as hdul:\n",
    "     data=hdul[0].data\n",
    "     header = hdul[0].header\n",
    "\n",
    "print(data.shape)\n",
    "for i in frac:\n",
    "\n",
    "    Amp =  np.linspace(0.05, 0.2, n)\n",
    "    \n",
    "    for j in Amp:\n",
    "\n",
    "        perturbed_cube = pertsim(cube, k0=fsr2k(i), dk0 = i*0.1, Amp = j) # cube is the 3D_cart_cube and this function will give out perturbed 3D_cart_cube, ################# T0 #################\n",
    "    \n",
    "        #hdu1=fits.PrimaryHDU(perturbed_cube)\n",
    "    \n",
    "        #hdul=fits.HDUList([hdu1])\n",
    "        #hdul.writeto('./Perturbation/'+str(i)+'_'+str(j)+'_perturbed_cube.fits', overwrite='True')\n",
    "    \n",
    "        pert_temp_cube = cube*(1+perturbed_cube)                                                             ################### 3D Tp ##################\n",
    "\n",
    "        l = compute_pert_CEL_emissivity(data, cube, pert_temp_cube)                 \n",
    "        l = compute_pert_RL_emissivity(l, cube, pert_temp_cube)     \n",
    "\n",
    "        hdu=fits.PrimaryHDU(data = l, header = header)  \n",
    "\n",
    "        hdu.writeto('./Perturbation/pert_em_cubes/'+str(i)+'_'+str(j)+'_pert_Emis_cube.fits', overwrite='True')\n",
    "    \n",
    "        #hdu1=fits.PrimaryHDU(pert_temp_cube)\n",
    "    \n",
    "        #hdul=fits.HDUList([hdu1])\n",
    "        #hdul.writeto('./Perturbation/'+str(i)+'_'+str(j)+'_pert_temp_cube.fits', overwrite='True')"
   ]
  },
  {
   "cell_type": "code",
   "execution_count": null,
   "metadata": {},
   "outputs": [],
   "source": []
  },
  {
   "cell_type": "code",
   "execution_count": null,
   "metadata": {},
   "outputs": [],
   "source": []
  },
  {
   "cell_type": "code",
   "execution_count": null,
   "metadata": {},
   "outputs": [],
   "source": []
  },
  {
   "cell_type": "code",
   "execution_count": null,
   "metadata": {},
   "outputs": [],
   "source": []
  },
  {
   "cell_type": "code",
   "execution_count": null,
   "metadata": {},
   "outputs": [],
   "source": [
    "#################################################################### IGNORE: Below this is the base code ###################################################################"
   ]
  },
  {
   "cell_type": "code",
   "execution_count": null,
   "metadata": {},
   "outputs": [
    {
     "ename": "TypeError",
     "evalue": "compute_pert_CEL_emissivity() missing 1 required positional argument: 'Tp'",
     "output_type": "error",
     "traceback": [
      "\u001b[0;31m---------------------------------------------------------------------------\u001b[0m",
      "\u001b[0;31mTypeError\u001b[0m                                 Traceback (most recent call last)",
      "Cell \u001b[0;32mIn[13], line 1\u001b[0m\n\u001b[0;32m----> 1\u001b[0m l \u001b[38;5;241m=\u001b[39m \u001b[43mcompute_pert_CEL_emissivity\u001b[49m\u001b[43m(\u001b[49m\u001b[43mcube\u001b[49m\u001b[43m,\u001b[49m\u001b[43m \u001b[49m\u001b[43mpert_temp_cube\u001b[49m\u001b[43m)\u001b[49m              \n\u001b[1;32m      3\u001b[0m hdu1\u001b[38;5;241m=\u001b[39mfits\u001b[38;5;241m.\u001b[39mPrimaryHDU(l)\n\u001b[1;32m      5\u001b[0m hdul\u001b[38;5;241m=\u001b[39mfits\u001b[38;5;241m.\u001b[39mHDUList([hdu1])\n",
      "\u001b[0;31mTypeError\u001b[0m: compute_pert_CEL_emissivity() missing 1 required positional argument: 'Tp'"
     ]
    }
   ],
   "source": [
    "l = compute_pert_CEL_emissivity(cube, pert_temp_cube)              \n",
    "\n",
    "hdu1=fits.PrimaryHDU(l)\n",
    "\n",
    "hdul=fits.HDUList([hdu1])\n",
    "hdul.writeto('./Perturbation/pert_Emis_cube.fits', overwrite='True')\n",
    "\n",
    "l = compute_pert_RL_emissivity(cube, pert_temp_cube)              \n",
    "\n",
    "hdu1=fits.PrimaryHDU(l)\n",
    "\n",
    "hdul=fits.HDUList([hdu1])\n",
    "hdul.writeto('./Perturbation/pert_Emis_cube.fits', overwrite='True')"
   ]
  },
  {
   "cell_type": "code",
   "execution_count": null,
   "metadata": {},
   "outputs": [],
   "source": [
    "#Below this is a function written to compute perturbations in emissivities\n",
    "\n",
    "def compute_pert_emissivity(chi, T0, Tp, E0):\n",
    "\n",
    "    k = 1.38e-23\n",
    "    chi, E0 \n",
    "    A = -chi/(k*Tp)\n",
    "    B = chi/(k*T0)\n",
    "    C = np.sqrt(Tp)\n",
    "\n",
    "    de = np.exp(A+B)/C * np.sqrt(T0)* E0\n",
    "\n",
    "    return de "
   ]
  },
  {
   "cell_type": "code",
   "execution_count": null,
   "metadata": {},
   "outputs": [
    {
     "name": "stderr",
     "output_type": "stream",
     "text": [
      "/tmp/ipykernel_155832/687243472.py:6: RuntimeWarning: divide by zero encountered in divide\n",
      "  A = -chi/(k*Tp)\n",
      "/tmp/ipykernel_155832/687243472.py:7: RuntimeWarning: divide by zero encountered in divide\n",
      "  B = chi/(k*T0)\n",
      "/tmp/ipykernel_155832/687243472.py:10: RuntimeWarning: invalid value encountered in add\n",
      "  de = np.exp(A+B)/C * np.sqrt(T0)* E0\n"
     ]
    },
    {
     "data": {
      "text/plain": [
       "\"\\nwith fits.open('cube_4D_cart.fits') as hdul:\\n    data=hdul[0].data\\n\\nl5007 = compute_pert_emissivity(3.96e-19, cube, pert_temp_cube)  #chi = 3.96e-19 J/K for [OIII] 5007 line; E0 in the compute_pert_emissivity argument will also be removed; \\n\\nhdu1=fits.PrimaryHDU(l5007)\\nhdul=fits.HDUList([hdu1])\\nhdul.writeto('./Perturbation/d5007.fits', overwrite='True')\\n\""
      ]
     },
     "execution_count": 18,
     "metadata": {},
     "output_type": "execute_result"
    }
   ],
   "source": [
    "with fits.open('./Perturbation/cube_4D_cart.fits') as hdul:\n",
    "    data=hdul[0].data\n",
    "\n",
    "    E_5007= data[72, :, :, :]\n",
    "    \n",
    "\n",
    "l5007 = compute_pert_emissivity(3.96e-19, cube, pert_temp_cube, E_5007)              #chi = 3.96e-19 J for [OIII] 5007 line\n",
    "\n",
    "hdu1=fits.PrimaryHDU(l5007)\n",
    "\n",
    "hdul=fits.HDUList([hdu1])\n",
    "hdul.writeto('./Perturbation/pert_Emis_cube.fits', overwrite='True')\n",
    "\n",
    "'''\n",
    "with fits.open('cube_4D_cart.fits') as hdul:\n",
    "    data=hdul[0].data\n",
    "\n",
    "l5007 = compute_pert_emissivity(3.96e-19, cube, pert_temp_cube)  #chi = 3.96e-19 J/K for [OIII] 5007 line; E0 in the compute_pert_emissivity argument will also be removed; \n",
    "\n",
    "hdu1=fits.PrimaryHDU(l5007)\n",
    "hdul=fits.HDUList([hdu1])\n",
    "hdul.writeto('./Perturbation/d5007.fits', overwrite='True')\n",
    "'''"
   ]
  },
  {
   "cell_type": "code",
   "execution_count": null,
   "metadata": {},
   "outputs": [],
   "source": [
    "with fits.open('./Perturbation/cube_4D_cart.fits') as hdul:\n",
    "    data=hdul[0].data\n",
    "\n",
    "line = np.array([4363, 4959, 5007, 5755, 6548, 6584])\n",
    "em_line = np.array([45, 70, 72, 86, 91, 93])\n",
    "\n",
    "for i,j in zip(line, em_line):\n",
    "\n",
    "    chi = 6.626e-24*299792458/i\n",
    "    em_cube_max = np.max(data[j, :, :, :])\n",
    "\n",
    "\n",
    "    print('chi_'+str(i), chi, )\n",
    "    print('em_line_'+str(j), em_cube_max)\n",
    "    print()\n",
    "\n",
    "line = np.array([4861, 6563])\n",
    "em_line = np.array([65, 92])\n",
    "\n",
    "for i,j in zip(line, em_line):\n",
    "\n",
    "    chi = 6.626e-24*299792458/i\n",
    "    em_cube_max = np.max(data[j, :, :, :])\n",
    "\n",
    "\n",
    "    print('chi_'+str(i), chi, )\n",
    "    print('em_line_'+str(j), em_cube_max)\n",
    "    print()"
   ]
  },
  {
   "cell_type": "code",
   "execution_count": null,
   "metadata": {},
   "outputs": [],
   "source": [
    "#Script to save 3D cubes into gifs for presentation"
   ]
  },
  {
   "cell_type": "code",
   "execution_count": null,
   "metadata": {},
   "outputs": [
    {
     "name": "stderr",
     "output_type": "stream",
     "text": [
      "MovieWriter imagemagick unavailable; using Pillow instead.\n"
     ]
    },
    {
     "name": "stdout",
     "output_type": "stream",
     "text": [
      "Animation saved as ./Perturbation/perturbed_Emissivity_cube.gif\n"
     ]
    }
   ],
   "source": [
    "# Below is the code to save gifs of all cubes as animations (colours can be changed later)\n",
    "# Load the FITS cube\n",
    "\n",
    "with fits.open('./Perturbation/pert_Emis_cube.fits') as cube_hdulist:\n",
    "    cube_data = cube_hdulist[0].data\n",
    "    cube_hdulist.close()\n",
    "\n",
    "# Set parameters\n",
    "frame_interval = 0.3  # Time interval between frames in seconds\n",
    "output_filename = './Perturbation/perturbed_Emissivity_cube.gif'\n",
    "\n",
    "# Create the figure and axis for the animation\n",
    "fig, ax = plt.subplots()\n",
    "\n",
    "# Function to update each frame\n",
    "def update_frame(frame_idx):\n",
    "    ax.clear()\n",
    "    im = ax.imshow(cube_data[frame_idx], cmap='Oranges_r')\n",
    "    ax.set_title(f'Frame {frame_idx}')\n",
    "    ax.axis('off')\n",
    "\n",
    "# Add color bar\n",
    "#cbar = plt.colorbar(im, ax=ax)\n",
    "#cbar.set_label('Temperature')\n",
    "\n",
    "# Create the animation\n",
    "num_frames = cube_data.shape[0]\n",
    "animation = FuncAnimation(fig, update_frame, frames=num_frames, interval=frame_interval * 1000)\n",
    "\n",
    "# Save the animation as a GIF\n",
    "animation.save(output_filename, writer='imagemagick', fps=1 / frame_interval)\n",
    "\n",
    "plt.close(fig)\n",
    "print(f'Animation saved as {output_filename}')\n"
   ]
  },
  {
   "cell_type": "code",
   "execution_count": null,
   "metadata": {},
   "outputs": [],
   "source": [
    "def compute_pert_emissivity(T0, Tp, line):\n",
    "\n",
    "    with fits.open('./Perturbation/cube_4D_cart.fits') as hdul:\n",
    "        data=hdul[0].data\n",
    "\n",
    "    lines = np.array([4363, 4959, 5007, 5755, 6548, 6584, 6312, 9069, 9532])\n",
    "    \n",
    "    em_line = np.array([45, 70, 72, 86, 91, 93, 89, 132, 138])\n",
    "\n",
    "    for i,j in zip(line, em_line):\n",
    "\n",
    "        if np.any(i == lines):\n",
    "\n",
    "            chi = 6.626e-24*299792458/i\n",
    "            E0 = data[j, :, :, :]\n",
    "\n",
    "            k = 1.38e-23\n",
    "            A = -chi/(k*Tp)\n",
    "            B = chi/(k*T0)\n",
    "            C = np.sqrt(Tp)\n",
    "\n",
    "            de = np.exp(A+B)/C * np.sqrt(T0)* E0\n",
    "\n",
    "            print(line, i, j)\n",
    "\n",
    "        else:\n",
    "            em_line = np.array([65, 92])\n",
    "            for j in em_line:\n",
    "\n",
    "                E0 = data[j, :, :, :]\n",
    "                de = T0/Tp          \n",
    "                print(j)                                                    #emmisivity dependence on T for RLs"
   ]
  },
  {
   "cell_type": "code",
   "execution_count": null,
   "metadata": {},
   "outputs": [
    {
     "ename": "UFuncTypeError",
     "evalue": "ufunc 'logical_and' did not contain a loop with signature matching types (None, <class 'numpy.dtype[str_]'>) -> None",
     "output_type": "error",
     "traceback": [
      "\u001b[0;31m---------------------------------------------------------------------------\u001b[0m",
      "\u001b[0;31mUFuncTypeError\u001b[0m                            Traceback (most recent call last)",
      "Cell \u001b[0;32mIn[100], line 1\u001b[0m\n\u001b[0;32m----> 1\u001b[0m l \u001b[38;5;241m=\u001b[39m \u001b[43mcompute_pert_emissivity\u001b[49m\u001b[43m(\u001b[49m\u001b[43mcube\u001b[49m\u001b[43m,\u001b[49m\u001b[43m \u001b[49m\u001b[43mpert_temp_cube\u001b[49m\u001b[43m,\u001b[49m\u001b[43m \u001b[49m\u001b[43mline\u001b[49m\u001b[43m \u001b[49m\u001b[38;5;241;43m=\u001b[39;49m\u001b[43m \u001b[49m\u001b[43mnp\u001b[49m\u001b[38;5;241;43m.\u001b[39;49m\u001b[43marray\u001b[49m\u001b[43m(\u001b[49m\u001b[43m[\u001b[49m\u001b[38;5;241;43m4363\u001b[39;49m\u001b[43m,\u001b[49m\u001b[43m \u001b[49m\u001b[38;5;241;43m4959\u001b[39;49m\u001b[43m,\u001b[49m\u001b[43m \u001b[49m\u001b[38;5;241;43m5007\u001b[39;49m\u001b[43m,\u001b[49m\u001b[43m \u001b[49m\u001b[38;5;241;43m5755\u001b[39;49m\u001b[43m,\u001b[49m\u001b[43m \u001b[49m\u001b[38;5;241;43m6548\u001b[39;49m\u001b[43m,\u001b[49m\u001b[43m \u001b[49m\u001b[38;5;241;43m6584\u001b[39;49m\u001b[43m,\u001b[49m\u001b[43m \u001b[49m\u001b[38;5;241;43m6312\u001b[39;49m\u001b[43m,\u001b[49m\u001b[43m \u001b[49m\u001b[38;5;241;43m9069\u001b[39;49m\u001b[43m,\u001b[49m\u001b[43m \u001b[49m\u001b[38;5;241;43m9532\u001b[39;49m\u001b[43m,\u001b[49m\u001b[43m \u001b[49m\u001b[38;5;241;43m4861\u001b[39;49m\u001b[43m,\u001b[49m\u001b[43m \u001b[49m\u001b[38;5;241;43m6563\u001b[39;49m\u001b[43m]\u001b[49m\u001b[43m)\u001b[49m\u001b[43m)\u001b[49m\n",
      "Cell \u001b[0;32mIn[99], line 12\u001b[0m, in \u001b[0;36mcompute_pert_emissivity\u001b[0;34m(T0, Tp, line)\u001b[0m\n\u001b[1;32m      8\u001b[0m em_line \u001b[38;5;241m=\u001b[39m np\u001b[38;5;241m.\u001b[39marray([\u001b[38;5;241m45\u001b[39m, \u001b[38;5;241m70\u001b[39m, \u001b[38;5;241m72\u001b[39m, \u001b[38;5;241m86\u001b[39m, \u001b[38;5;241m91\u001b[39m, \u001b[38;5;241m93\u001b[39m, \u001b[38;5;241m89\u001b[39m, \u001b[38;5;241m132\u001b[39m, \u001b[38;5;241m138\u001b[39m])\n\u001b[1;32m     10\u001b[0m \u001b[38;5;28;01mfor\u001b[39;00m i,j \u001b[38;5;129;01min\u001b[39;00m \u001b[38;5;28mzip\u001b[39m(line, em_line):\n\u001b[0;32m---> 12\u001b[0m     \u001b[38;5;28;01mif\u001b[39;00m \u001b[43mnp\u001b[49m\u001b[38;5;241;43m.\u001b[39;49m\u001b[43mall\u001b[49m\u001b[43m(\u001b[49m\u001b[38;5;28;43mstr\u001b[39;49m\u001b[43m(\u001b[49m\u001b[43mlines\u001b[49m\u001b[43m)\u001b[49m\u001b[43m)\u001b[49m \u001b[38;5;129;01min\u001b[39;00m i:\n\u001b[1;32m     13\u001b[0m     \u001b[38;5;66;03m#np.any(i == lines):\u001b[39;00m\n\u001b[1;32m     15\u001b[0m         chi \u001b[38;5;241m=\u001b[39m \u001b[38;5;241m6.626e-24\u001b[39m\u001b[38;5;241m*\u001b[39m\u001b[38;5;241m299792458\u001b[39m\u001b[38;5;241m/\u001b[39mi\n\u001b[1;32m     16\u001b[0m         E0 \u001b[38;5;241m=\u001b[39m data[j, :, :, :]\n",
      "File \u001b[0;32m<__array_function__ internals>:200\u001b[0m, in \u001b[0;36mall\u001b[0;34m(*args, **kwargs)\u001b[0m\n",
      "File \u001b[0;32m~/miniconda3/lib/python3.10/site-packages/numpy/core/fromnumeric.py:2515\u001b[0m, in \u001b[0;36mall\u001b[0;34m(a, axis, out, keepdims, where)\u001b[0m\n\u001b[1;32m   2432\u001b[0m \u001b[39m@array_function_dispatch\u001b[39m(_all_dispatcher)\n\u001b[1;32m   2433\u001b[0m \u001b[39mdef\u001b[39;00m \u001b[39mall\u001b[39m(a, axis\u001b[39m=\u001b[39m\u001b[39mNone\u001b[39;00m, out\u001b[39m=\u001b[39m\u001b[39mNone\u001b[39;00m, keepdims\u001b[39m=\u001b[39mnp\u001b[39m.\u001b[39m_NoValue, \u001b[39m*\u001b[39m, where\u001b[39m=\u001b[39mnp\u001b[39m.\u001b[39m_NoValue):\n\u001b[1;32m   2434\u001b[0m \u001b[39m    \u001b[39m\u001b[39m\"\"\"\u001b[39;00m\n\u001b[1;32m   2435\u001b[0m \u001b[39m    Test whether all array elements along a given axis evaluate to True.\u001b[39;00m\n\u001b[1;32m   2436\u001b[0m \n\u001b[0;32m   (...)\u001b[0m\n\u001b[1;32m   2513\u001b[0m \n\u001b[1;32m   2514\u001b[0m \u001b[39m    \"\"\"\u001b[39;00m\n\u001b[0;32m-> 2515\u001b[0m     \u001b[39mreturn\u001b[39;00m _wrapreduction(a, np\u001b[39m.\u001b[39;49mlogical_and, \u001b[39m'\u001b[39;49m\u001b[39mall\u001b[39;49m\u001b[39m'\u001b[39;49m, axis, \u001b[39mNone\u001b[39;49;00m, out,\n\u001b[1;32m   2516\u001b[0m                           keepdims\u001b[39m=\u001b[39;49mkeepdims, where\u001b[39m=\u001b[39;49mwhere)\n",
      "File \u001b[0;32m~/miniconda3/lib/python3.10/site-packages/numpy/core/fromnumeric.py:86\u001b[0m, in \u001b[0;36m_wrapreduction\u001b[0;34m(obj, ufunc, method, axis, dtype, out, **kwargs)\u001b[0m\n\u001b[1;32m     83\u001b[0m         \u001b[39melse\u001b[39;00m:\n\u001b[1;32m     84\u001b[0m             \u001b[39mreturn\u001b[39;00m reduction(axis\u001b[39m=\u001b[39maxis, out\u001b[39m=\u001b[39mout, \u001b[39m*\u001b[39m\u001b[39m*\u001b[39mpasskwargs)\n\u001b[0;32m---> 86\u001b[0m \u001b[39mreturn\u001b[39;00m ufunc\u001b[39m.\u001b[39;49mreduce(obj, axis, dtype, out, \u001b[39m*\u001b[39;49m\u001b[39m*\u001b[39;49mpasskwargs)\n",
      "\u001b[0;31mUFuncTypeError\u001b[0m: ufunc 'logical_and' did not contain a loop with signature matching types (None, <class 'numpy.dtype[str_]'>) -> None"
     ]
    }
   ],
   "source": [
    "l = compute_pert_emissivity(cube, pert_temp_cube, line = np.array([4363, 4959, 5007, 5755, 6548, 6584, 6312, 9069, 9532, 4861, 6563]))\n"
   ]
  },
  {
   "cell_type": "code",
   "execution_count": null,
   "metadata": {},
   "outputs": [],
   "source": [
    "############################ junks ##############################\n",
    "\n",
    "simname =['Bubble_v2_1e-8','Bubble_v2_1e-8_z_0.2']\n",
    "\n",
    "s = simname[1].split('_')\n",
    "if len(s)==5:\n",
    "    z=s[4]\n",
    "else:\n",
    "     z=1\n",
    "#if len(s)\n",
    "\n",
    "print(z, len(s))"
   ]
  }
 ],
 "metadata": {
  "kernelspec": {
   "display_name": "Python 3.10.11 ('base')",
   "language": "python",
   "name": "python3"
  },
  "language_info": {
   "codemirror_mode": {
    "name": "ipython",
    "version": 3
   },
   "file_extension": ".py",
   "mimetype": "text/x-python",
   "name": "python",
   "nbconvert_exporter": "python",
   "pygments_lexer": "ipython3",
   "version": "3.10.11"
  },
  "orig_nbformat": 4,
  "vscode": {
   "interpreter": {
    "hash": "b943106136f0b7237aa45b13de07160508680759cd2ff79bd892a553daeee42a"
   }
  }
 },
 "nbformat": 4,
 "nbformat_minor": 2
}
