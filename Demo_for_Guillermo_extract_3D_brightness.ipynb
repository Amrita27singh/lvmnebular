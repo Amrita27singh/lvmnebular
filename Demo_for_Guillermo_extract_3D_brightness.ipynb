{
 "cells": [
  {
   "cell_type": "markdown",
   "metadata": {
    "collapsed": false,
    "pycharm": {
     "name": "#%% md\n"
    }
   },
   "source": [
    "# How to extract 3D structure of the nebulae from the LVM data simulator"
   ]
  },
  {
   "cell_type": "markdown",
   "metadata": {
    "collapsed": false,
    "pycharm": {
     "name": "#%% md\n"
    }
   },
   "source": [
    "1. Initialize the LVM Field"
   ]
  },
  {
   "cell_type": "code",
   "execution_count": 1,
   "metadata": {
    "collapsed": false,
    "pycharm": {
     "name": "#%%\n"
    }
   },
   "outputs": [],
   "source": [
    "import os\n",
    "from lvmdatasimulator.field import LVMField\n",
    "import astropy.units as u\n",
    "import astropy.table as Table\n",
    "from astropy.io import fits\n",
    "import numpy as np\n",
    "import matplotlib.pyplot as plt\n",
    "#os.chdir('/Users/mors/Science/LVM/Simulator_example/')  # Your top-level working directory\n",
    "os.chdir('/home/amrita/LVM/lvmnebular/')"
   ]
  },
  {
   "cell_type": "code",
   "execution_count": 2,
   "metadata": {
    "collapsed": false,
    "pycharm": {
     "name": "#%%\n"
    }
   },
   "outputs": [],
   "source": [
    "#Some random of the LVM Field\n",
    "'''\n",
    "ra = 12.34 # u.degree\n",
    "dec = -20.35 # u.degree\n",
    "fov_size = 35 # u.arcmin\n",
    "fov_pixel = 1 # u.arcsec\n",
    "distance = 50 # * u.kpc\n",
    "sys_vel = 0 #* u.km / u.s\n",
    "turbulent_sigma = 20 #* u.km / u.s\n",
    "preserve_kinematics = False\n",
    "'''\n",
    "#specifing parameters\n",
    "ra = 90.5625 # u.degree\n",
    "dec = 4.998333 # u.degree\n",
    "fov_size = 10 # u.arcmin\n",
    "fov_pixel = 10 # u.arcsec\n",
    "distance = 16.0 * u.kpc\n",
    "sys_vel = 20 #* u.km / u.s\n",
    "turbulent_sigma = 15 #* u.km / u.s\n",
    "preserve_kinematics = False\n",
    "\n",
    "unit_ra = u.degree\n",
    "unit_dec = u.degree\n",
    "unit_size = u.arcmin\n",
    "unit_pixel = u.arcsec\n",
    "\n",
    "name = 'LVM_extract3D'\n",
    "my_lvmfield = LVMField(ra=ra, dec=dec, size=fov_size, pxsize=fov_pixel, name=name,\n",
    "                       unit_ra=unit_ra, unit_dec=unit_dec, unit_size=unit_size, unit_pxsize=unit_pixel,\n",
    "                       ism_params={'distance': distance, 'sys_velocity': sys_vel, 'turbulent_sigma': turbulent_sigma,\n",
    "                                   'preserve_kinematics': preserve_kinematics})"
   ]
  },
  {
   "cell_type": "markdown",
   "metadata": {
    "collapsed": false,
    "pycharm": {
     "name": "#%% md\n"
    }
   },
   "source": [
    "2. Define the properties of the nebula to be simulated\n",
    "Let's simulate only a Bubble in our FOV"
   ]
  },
  {
   "cell_type": "code",
   "execution_count": 3,
   "metadata": {
    "collapsed": false,
    "pycharm": {
     "name": "#%%\n"
    }
   },
   "outputs": [],
   "source": [
    "'''\n",
    "my_nebulae = [{'type': 'Bubble3D',\n",
    "               'max_brightness': 1.e-14,\n",
    "               'thickness': 0.85,\n",
    "               'radius': 10*u.pc,\n",
    "               'expansion_velocity': 15,\n",
    "                'turbulent_sigma': 15,\n",
    "                'sys_velocity': 0,\n",
    "               'model_params': {'Z': 0.6, 'qH': 50, 'nH': 100, 'Geometry': 'Cloud', 'Teff': 35000.},\n",
    "               'model_type': 'cloudy',\n",
    "               'offset_RA':0,\n",
    "               'offset_DEC':-20},\n",
    "              ]\n",
    "'''\n",
    "my_nebulae = [{'type': 'Bubble3D',\n",
    "               'max_brightness': 5e-14,\n",
    "               'thickness': 0.8,\n",
    "               'radius': 18*u.pc,\n",
    "               'expansion_velocity': 10,\n",
    "                'turbulent_sigma': 15,\n",
    "                'sys_velocity': 10,\n",
    "               'model_params': {'Z': 1.0, 'qH': 50., 'nH': 100, 'Geometry': 'Shell', 'Teff': 40000.},\n",
    "               'model_type': 'cloudy',\n",
    "               'offset_RA':0,\n",
    "               'offset_DEC':0},\n",
    "              ]"
   ]
  },
  {
   "cell_type": "markdown",
   "metadata": {
    "collapsed": false,
    "pycharm": {
     "name": "#%% md\n"
    }
   },
   "source": [
    "3. Add this nebula to the LVM Field"
   ]
  },
  {
   "cell_type": "code",
   "execution_count": 4,
   "metadata": {
    "collapsed": false,
    "pycharm": {
     "name": "#%%\n"
    }
   },
   "outputs": [
    {
     "name": "stderr",
     "output_type": "stream",
     "text": [
      "\u001b[0;34m[INFO]: \u001b[0mStart generating 1 nebulae\n",
      "\u001b[1;33m[WARNING]: \u001b[0mUse the closest pre-computed model with id = Shell_921. Its parameters: Geometry = Shell; Z = 1.0; qH = 50.0; LogLsun = 6.5; Teff = 30000.0; nH = 100.0; \n"
     ]
    }
   ],
   "source": [
    "my_lvmfield.add_nebulae(my_nebulae)"
   ]
  },
  {
   "cell_type": "markdown",
   "metadata": {
    "collapsed": false,
    "pycharm": {
     "name": "#%% md\n"
    }
   },
   "source": [
    "4. Perfect! Now you have access to all the properties of the nebulae considered in the simulator."
   ]
  },
  {
   "cell_type": "code",
   "execution_count": 5,
   "metadata": {
    "collapsed": false,
    "pycharm": {
     "name": "#%%\n"
    }
   },
   "outputs": [
    {
     "name": "stdout",
     "output_type": "stream",
     "text": [
      "5e-14 erg / (s arcsec2 cm2)\n",
      "0.8\n",
      "18.0 pc\n",
      "10.0 km / s\n"
     ]
    }
   ],
   "source": [
    "print(my_lvmfield.ism.nebulae_objects[0].max_brightness)\n",
    "print(my_lvmfield.ism.nebulae_objects[0].thickness)\n",
    "print(my_lvmfield.ism.nebulae_objects[0].radius)\n",
    "print(my_lvmfield.ism.nebulae_objects[0].expansion_velocity)\n"
   ]
  },
  {
   "cell_type": "markdown",
   "metadata": {
    "collapsed": false,
    "pycharm": {
     "name": "#%% md\n"
    }
   },
   "source": [
    "One access the relative 3D brightness distribution in cartesian or in spherical coordinates."
   ]
  },
  {
   "cell_type": "code",
   "execution_count": 6,
   "metadata": {
    "collapsed": false,
    "pycharm": {
     "name": "#%%\n"
    }
   },
   "outputs": [
    {
     "name": "stdout",
     "output_type": "stream",
     "text": [
      "(49, 49, 100)\n",
      "(70, 90, 90)\n",
      "2.204585537918871e-06\n"
     ]
    }
   ],
   "source": [
    "print(my_lvmfield.ism.nebulae_objects[0]._brightness_3d_cartesian.shape)  # nz, ny, nx, where nx is along line-of-sight\n",
    "print(my_lvmfield.ism.nebulae_objects[0]._brightness_3d_spherical.shape)  # rad, theta, phi\n",
    "\n",
    "c3D=my_lvmfield.ism.nebulae_objects[0]._brightness_3d_cartesian #\n",
    "print(c3D[10,20,30]) #considering uniform brightness in each shell=1 (default)\n"
   ]
  },
  {
   "cell_type": "code",
   "execution_count": 7,
   "metadata": {
    "collapsed": false,
    "pycharm": {
     "name": "#%%\n"
    }
   },
   "outputs": [
    {
     "name": "stdout",
     "output_type": "stream",
     "text": [
      "(100,)\n",
      "(49,)\n",
      "(49,)\n"
     ]
    }
   ],
   "source": [
    "print(my_lvmfield.ism.nebulae_objects[0]._cartesian_x_grid.shape)  # this one is along line-of-sight\n",
    "print(my_lvmfield.ism.nebulae_objects[0]._cartesian_y_grid.shape)\n",
    "print(my_lvmfield.ism.nebulae_objects[0]._cartesian_z_grid.shape)"
   ]
  },
  {
   "cell_type": "code",
   "execution_count": 24,
   "metadata": {
    "collapsed": false,
    "pycharm": {
     "name": "#%%\n"
    }
   },
   "outputs": [
    {
     "name": "stdout",
     "output_type": "stream",
     "text": [
      "(70,)\n"
     ]
    },
    {
     "data": {
      "text/plain": [
       "array([0.        , 0.07059759, 0.14119518, 0.21179276, 0.28239035,\n",
       "       0.35298794, 0.42358553, 0.49418311, 0.5647807 , 0.63537829,\n",
       "       0.70597588, 0.77657346, 0.84717105, 0.91776864, 0.98836623,\n",
       "       1.05896382, 1.1295614 , 1.20015899, 1.27075658, 1.34135417,\n",
       "       1.41195175, 1.48254934, 1.55314693, 1.62374452, 1.69434211,\n",
       "       1.76493969, 1.83553728, 1.90613487, 1.97673246, 2.04733004,\n",
       "       2.11792763, 2.18852522, 2.25912281, 2.32972039, 2.40031798,\n",
       "       2.47091557, 2.54151316, 2.61211075, 2.68270833, 2.75330592,\n",
       "       2.82390351, 2.8945011 , 2.96509868, 3.03569627, 3.10629386,\n",
       "       3.17689145, 3.24748904, 3.31808662, 3.38868421, 3.4592818 ,\n",
       "       3.52987939, 3.60047697, 3.67107456, 3.74167215, 3.81226974,\n",
       "       3.88286732, 3.95346491, 4.0240625 , 4.09466009, 4.16525768,\n",
       "       4.23585526, 4.30645285, 4.37705044, 4.44764803, 4.51824561,\n",
       "       4.5888432 , 4.65944079, 4.73003838, 4.80063597, 4.87123355,\n",
       "       4.94183114, 5.01242873, 5.08302632, 5.1536239 , 5.22422149,\n",
       "       5.29481908, 5.36541667, 5.43601425, 5.50661184, 5.57720943,\n",
       "       5.64780702, 5.71840461, 5.78900219, 5.85959978, 5.93019737,\n",
       "       6.00079496, 6.07139254, 6.14199013, 6.21258772, 6.28318531])"
      ]
     },
     "execution_count": 24,
     "metadata": {},
     "output_type": "execute_result"
    }
   ],
   "source": [
    "my_lvmfield.ism.nebulae_objects[0]._theta_grid\n",
    "print(my_lvmfield.ism.nebulae_objects[0]._rad_grid.shape)\n",
    "my_lvmfield.ism.nebulae_objects[0]._phi_grid"
   ]
  },
  {
   "cell_type": "markdown",
   "metadata": {
    "collapsed": false,
    "pycharm": {
     "name": "#%% md\n"
    }
   },
   "source": [
    "Similar for 4D, where first dimension is a line ID"
   ]
  },
  {
   "cell_type": "code",
   "execution_count": 9,
   "metadata": {
    "collapsed": false,
    "pycharm": {
     "name": "#%%\n"
    }
   },
   "outputs": [
    {
     "name": "stdout",
     "output_type": "stream",
     "text": [
      "(141, 49, 49, 100)\n",
      "(141, 70, 90, 90)\n"
     ]
    }
   ],
   "source": [
    "print(my_lvmfield.ism.nebulae_objects[0]._brightness_4d_cartesian.shape)\n",
    "print(my_lvmfield.ism.nebulae_objects[0]._brightness_4d_spherical.shape)\n",
    "\n",
    "#print(my_lvmfield.ism.nebulae_objects[0]._brightness_4d_cartesian)\n",
    "#print(my_lvmfield.ism.nebulae_objects[0]._brightness_4d_spherical)\n",
    "\n",
    "#ind5007=100\n",
    "#my_lvmfield.ism.nebulae_objects[0]._brightness_4d_cartesian[ind5007,:,:,:]=pertemcube"
   ]
  },
  {
   "cell_type": "code",
   "execution_count": 10,
   "metadata": {},
   "outputs": [],
   "source": [
    "hdu1=fits.PrimaryHDU(my_lvmfield.ism.nebulae_objects[0]._brightness_3d_cartesian)\n",
    "hdul1=fits.HDUList([hdu1])\n",
    "hdul1.writeto('./Perturbation/cube_3D_cart.fits', overwrite=True)"
   ]
  },
  {
   "cell_type": "code",
   "execution_count": 11,
   "metadata": {},
   "outputs": [],
   "source": [
    "hdu=fits.PrimaryHDU(my_lvmfield.ism.nebulae_objects[0]._brightness_4d_spherical)\n",
    "hdul=fits.HDUList([hdu])\n",
    "hdul.writeto('./Perturbation/cube_sph.fits', overwrite=True) #storing 4D cube in fits format (spherical coordinate)"
   ]
  },
  {
   "cell_type": "code",
   "execution_count": 12,
   "metadata": {},
   "outputs": [],
   "source": [
    "hdu1=fits.PrimaryHDU(my_lvmfield.ism.nebulae_objects[0]._brightness_4d_cartesian)\n",
    "hdul1=fits.HDUList([hdu1])\n",
    "\n",
    "hdul1.writeto('./Perturbation/cube_4D_cart.fits', overwrite=True)"
   ]
  },
  {
   "cell_type": "code",
   "execution_count": 13,
   "metadata": {},
   "outputs": [
    {
     "name": "stdout",
     "output_type": "stream",
     "text": [
      "0 3613.64\n",
      "1 3634.08\n",
      "2 3669.46\n",
      "3 3671.47\n",
      "4 3673.75\n",
      "5 3676.36\n",
      "6 3679.35\n",
      "7 3682.8\n",
      "8 3686.83\n",
      "9 3691.55\n",
      "10 3697.15\n",
      "11 3703.85\n",
      "12 3704.76\n",
      "13 3711.97\n",
      "14 3721.63\n",
      "15 3721.93\n",
      "16 3726.03\n",
      "17 3728.81\n",
      "18 3734.36\n",
      "19 3750.15\n",
      "20 3770.63\n",
      "21 3797.89\n",
      "22 3819.61\n",
      "23 3833.48\n",
      "24 3835.38\n",
      "25 3868.76\n",
      "26 3871.69\n",
      "27 3888.63\n",
      "28 3889.05\n",
      "29 3926.41\n",
      "30 3933.66\n",
      "31 3964.73\n",
      "32 3967.47\n",
      "33 3970.07\n",
      "34 4009.05\n",
      "35 4026.2\n",
      "36 4068.6\n",
      "37 4076.35\n",
      "38 4101.73\n",
      "39 4120.82\n",
      "40 4143.76\n",
      "41 4243.97\n",
      "42 4287.39\n",
      "43 4340.46\n",
      "44 4359.33\n",
      "45 4363.21\n",
      "46 4387.93\n",
      "47 4413.78\n",
      "48 4416.27\n",
      "49 4471.49\n",
      "50 4562.6\n",
      "51 4571.1\n",
      "52 4607.11\n",
      "53 4658.01\n",
      "54 4666.94\n",
      "55 4685.64\n",
      "56 4701.62\n",
      "57 4711.26\n",
      "58 4713.03\n",
      "59 4733.84\n",
      "60 4740.12\n",
      "61 4754.64\n",
      "62 4769.52\n",
      "63 4777.61\n",
      "64 4814.53\n",
      "65 4861.33\n",
      "66 4881.12\n",
      "67 4889.62\n",
      "68 4921.93\n",
      "69 4924.66\n",
      "70 4958.91\n",
      "71 4987.33\n",
      "72 5006.84\n",
      "73 5011.16\n",
      "74 5015.68\n",
      "75 5047.64\n",
      "76 5084.66\n",
      "77 5158.78\n",
      "78 5197.9\n",
      "79 5200.26\n",
      "80 5261.62\n",
      "81 5270.4\n",
      "82 5273.35\n",
      "83 5411.98\n",
      "84 5517.71\n",
      "85 5537.87\n",
      "86 5754.61\n",
      "87 5875.64\n",
      "88 6300.3\n",
      "89 6312.06\n",
      "90 6363.78\n",
      "91 6548.05\n",
      "92 6562.81\n",
      "93 6583.45\n",
      "94 6678.15\n",
      "95 6716.44\n",
      "96 6730.82\n",
      "97 7065.22\n",
      "98 7135.79\n",
      "99 7155.16\n",
      "100 7281.35\n",
      "101 7318.92\n",
      "102 7319.99\n",
      "103 7329.67\n",
      "104 7330.73\n",
      "105 7637.54\n",
      "106 7686.94\n",
      "107 7751.11\n",
      "108 8045.62\n",
      "109 8323.38\n",
      "110 8333.74\n",
      "111 8345.51\n",
      "112 8358.96\n",
      "113 8374.43\n",
      "114 8392.35\n",
      "115 8413.28\n",
      "116 8437.91\n",
      "117 8467.21\n",
      "118 8502.44\n",
      "119 8542.09\n",
      "120 8545.34\n",
      "121 8578.7\n",
      "122 8598.35\n",
      "123 8616.95\n",
      "124 8662.14\n",
      "125 8664.98\n",
      "126 8750.43\n",
      "127 8862.74\n",
      "128 8891.91\n",
      "129 9014.87\n",
      "130 9051.95\n",
      "131 9062.39\n",
      "132 9068.62\n",
      "133 9226.62\n",
      "134 9228.97\n",
      "135 9463.57\n",
      "136 9515.06\n",
      "137 9526.01\n",
      "138 9530.62\n",
      "139 9545.93\n",
      "140 10049.3\n"
     ]
    }
   ],
   "source": [
    "hdu1=fits.PrimaryHDU(my_lvmfield.ism.nebulae_objects[0].wl_list)\n",
    "hdul1=fits.HDUList([hdu1])\n",
    "\n",
    "hdul1.writeto('./Perturbation/lines_from_4Dcube.fits', overwrite=True)\n",
    "\n",
    "for i, lines in enumerate(my_lvmfield.ism.nebulae_objects[0].wl_list):\n",
    "\n",
    "    print(i, lines)\n"
   ]
  },
  {
   "cell_type": "code",
   "execution_count": 14,
   "metadata": {},
   "outputs": [
    {
     "data": {
      "text/plain": [
       "'\\n9532, 9069, 7319, 7320, 7330, 7331, 6731, 6716, 6717, 6584, 6563, 6548, 6312, 5755, 5007, 4959, 4861, 4363, 4069, 4076, 3970, 3729, 3726\\n138,  132,  101,  102,  103,  104,   96,   95,   95,   93,   92,   91,   89,   86,   72,   70,   65,    45,   36,   37,   33,   17,   16 \\n'"
      ]
     },
     "execution_count": 14,
     "metadata": {},
     "output_type": "execute_result"
    }
   ],
   "source": [
    "'''\n",
    "9532, 9069, 7319, 7320, 7330, 7331, 6731, 6716, 6717, 6584, 6563, 6548, 6312, 5755, 5007, 4959, 4861, 4363, 4069, 4076, 3970, 3729, 3726\n",
    "138,  132,  101,  102,  103,  104,   96,   95,   95,   93,   92,   91,   89,   86,   72,   70,   65,    45,   36,   37,   33,   17,   16 \n",
    "'''"
   ]
  },
  {
   "cell_type": "code",
   "execution_count": 17,
   "metadata": {},
   "outputs": [
    {
     "data": {
      "text/plain": [
       "['__annotations__',\n",
       " '__class__',\n",
       " '__dataclass_fields__',\n",
       " '__dataclass_params__',\n",
       " '__delattr__',\n",
       " '__dict__',\n",
       " '__dir__',\n",
       " '__doc__',\n",
       " '__eq__',\n",
       " '__format__',\n",
       " '__ge__',\n",
       " '__getattribute__',\n",
       " '__gt__',\n",
       " '__hash__',\n",
       " '__init__',\n",
       " '__init_subclass__',\n",
       " '__le__',\n",
       " '__lt__',\n",
       " '__match_args__',\n",
       " '__module__',\n",
       " '__ne__',\n",
       " '__new__',\n",
       " '__post_init__',\n",
       " '__reduce__',\n",
       " '__reduce_ex__',\n",
       " '__repr__',\n",
       " '__setattr__',\n",
       " '__sizeof__',\n",
       " '__str__',\n",
       " '__subclasshook__',\n",
       " '__weakref__',\n",
       " '_assign_all_units',\n",
       " '_assign_position_params',\n",
       " '_assign_wavelength',\n",
       " '_brightness_3d_cartesian',\n",
       " '_brightness_3d_spherical',\n",
       " '_brightness_4d_cartesian',\n",
       " '_brightness_4d_spherical',\n",
       " '_cartesian_x_grid',\n",
       " '_cartesian_y_grid',\n",
       " '_cartesian_z_grid',\n",
       " '_d_spectrum_cartesian',\n",
       " '_get_2d_velocity',\n",
       " '_max_density',\n",
       " '_npix_los',\n",
       " '_phi_bins',\n",
       " '_phi_grid',\n",
       " '_rad_bins',\n",
       " '_rad_grid',\n",
       " '_ref_line_id',\n",
       " '_theta_bins',\n",
       " '_theta_grid',\n",
       " '_turbulent_lsf',\n",
       " '_velocity_3d_cartesian',\n",
       " '_velocity_3d_spherical',\n",
       " 'angscale',\n",
       " 'brightness_skyplane',\n",
       " 'brightness_skyplane_lines',\n",
       " 'expansion_velocity',\n",
       " 'extinction_skyplane',\n",
       " 'force_use_cube',\n",
       " 'height',\n",
       " 'line_profile',\n",
       " 'linerat_constant',\n",
       " 'max_brightness',\n",
       " 'max_extinction',\n",
       " 'n_brightest_lines',\n",
       " 'nchunks',\n",
       " 'perturb_amplitude',\n",
       " 'perturb_degree',\n",
       " 'perturb_scale',\n",
       " 'pix_height',\n",
       " 'pix_width',\n",
       " 'pxscale',\n",
       " 'radius',\n",
       " 'spectral_axis',\n",
       " 'spectrum_id',\n",
       " 'spectrum_type',\n",
       " 'sys_velocity',\n",
       " 'thickness',\n",
       " 'total_flux',\n",
       " 'turbulent_sigma',\n",
       " 'vel_field',\n",
       " 'vel_gradient',\n",
       " 'vel_pa',\n",
       " 'width',\n",
       " 'wl_list',\n",
       " 'x0',\n",
       " 'xc',\n",
       " 'y0',\n",
       " 'yc']"
      ]
     },
     "execution_count": 17,
     "metadata": {},
     "output_type": "execute_result"
    }
   ],
   "source": [
    "dir(my_lvmfield.ism.nebulae_objects[0])"
   ]
  },
  {
   "cell_type": "code",
   "execution_count": 16,
   "metadata": {},
   "outputs": [],
   "source": [
    "#plotting cooling curve for [OIII]\n",
    "\n",
    "wave = 5007e-10\n",
    "pot_erg = 6.63e-34*299792458/wave\n",
    "#ni = vals[OIII]\n",
    "#Lc= (data[72,:, :, :]*pot_erg)/ni\n",
    "\n",
    "#import astropy.units as unit \n",
    "#distance=16000 * unit.pc \n",
    "#r=np.sqrt(u.linefitdict['delta_ra']**2+u.linefitdict['delta_dec']**2) \n",
    "#rad=r*distance*np.pi/648000 # converting arcsecs to parsec "
   ]
  }
 ],
 "metadata": {
  "kernelspec": {
   "display_name": "Python 3.10.12 ('lvmdatasimulator')",
   "language": "python",
   "name": "python3"
  },
  "language_info": {
   "codemirror_mode": {
    "name": "ipython",
    "version": 3
   },
   "file_extension": ".py",
   "mimetype": "text/x-python",
   "name": "python",
   "nbconvert_exporter": "python",
   "pygments_lexer": "ipython3",
   "version": "3.10.12"
  },
  "vscode": {
   "interpreter": {
    "hash": "647c5636946df014bcee1413cb1673416587d46127e308594d04074ddd29fdbc"
   }
  }
 },
 "nbformat": 4,
 "nbformat_minor": 0
}
