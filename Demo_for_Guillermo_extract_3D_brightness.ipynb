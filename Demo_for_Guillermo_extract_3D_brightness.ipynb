{
 "cells": [
  {
   "cell_type": "markdown",
   "metadata": {
    "collapsed": false,
    "pycharm": {
     "name": "#%% md\n"
    }
   },
   "source": [
    "# How to extract 3D structure of the nebulae from the LVM data simulator"
   ]
  },
  {
   "cell_type": "markdown",
   "metadata": {
    "collapsed": false,
    "pycharm": {
     "name": "#%% md\n"
    }
   },
   "source": [
    "1. Initialize the LVM Field"
   ]
  },
  {
   "cell_type": "code",
   "execution_count": 17,
   "metadata": {
    "collapsed": false,
    "pycharm": {
     "name": "#%%\n"
    }
   },
   "outputs": [],
   "source": [
    "import os\n",
    "from lvmdatasimulator.field import LVMField\n",
    "import astropy.units as u\n",
    "import astropy.table as Table\n",
    "from astropy.io import fits\n",
    "import numpy as np\n",
    "import matplotlib.pyplot as plt\n",
    "#os.chdir('/Users/mors/Science/LVM/Simulator_example/')  # Your top-level working directory\n",
    "os.chdir('/home/amrita/LVM/lvmnebular/')"
   ]
  },
  {
   "cell_type": "code",
   "execution_count": 18,
   "metadata": {
    "collapsed": false,
    "pycharm": {
     "name": "#%%\n"
    }
   },
   "outputs": [],
   "source": [
    "#Some random of the LVM Field\n",
    "'''\n",
    "ra = 12.34 # u.degree\n",
    "dec = -20.35 # u.degree\n",
    "fov_size = 35 # u.arcmin\n",
    "fov_pixel = 1 # u.arcsec\n",
    "distance = 50 # * u.kpc\n",
    "sys_vel = 0 #* u.km / u.s\n",
    "turbulent_sigma = 20 #* u.km / u.s\n",
    "preserve_kinematics = False\n",
    "'''\n",
    "#specifing parameters\n",
    "ra = 90.5625 # u.degree\n",
    "dec = 4.998333 # u.degree\n",
    "fov_size = 10 # u.arcmin\n",
    "fov_pixel = 10 # u.arcsec\n",
    "distance = 16.0 * u.kpc\n",
    "sys_vel = 20 #* u.km / u.s\n",
    "turbulent_sigma = 15 #* u.km / u.s\n",
    "preserve_kinematics = False\n",
    "\n",
    "unit_ra = u.degree\n",
    "unit_dec = u.degree\n",
    "unit_size = u.arcmin\n",
    "unit_pixel = u.arcsec\n",
    "\n",
    "name = 'LVM_extract3D'\n",
    "my_lvmfield = LVMField(ra=ra, dec=dec, size=fov_size, pxsize=fov_pixel, name=name,\n",
    "                       unit_ra=unit_ra, unit_dec=unit_dec, unit_size=unit_size, unit_pxsize=unit_pixel,\n",
    "                       ism_params={'distance': distance, 'sys_velocity': sys_vel, 'turbulent_sigma': turbulent_sigma,\n",
    "                                   'preserve_kinematics': preserve_kinematics})"
   ]
  },
  {
   "cell_type": "markdown",
   "metadata": {
    "collapsed": false,
    "pycharm": {
     "name": "#%% md\n"
    }
   },
   "source": [
    "2. Define the properties of the nebula to be simulated\n",
    "Let's simulate only a Bubble in our FOV"
   ]
  },
  {
   "cell_type": "code",
   "execution_count": 19,
   "metadata": {
    "collapsed": false,
    "pycharm": {
     "name": "#%%\n"
    }
   },
   "outputs": [],
   "source": [
    "'''\n",
    "my_nebulae = [{'type': 'Bubble3D',\n",
    "               'max_brightness': 1.e-14,\n",
    "               'thickness': 0.85,\n",
    "               'radius': 10*u.pc,\n",
    "               'expansion_velocity': 15,\n",
    "                'turbulent_sigma': 15,\n",
    "                'sys_velocity': 0,\n",
    "               'model_params': {'Z': 0.6, 'qH': 50, 'nH': 100, 'Geometry': 'Cloud', 'Teff': 35000.},\n",
    "               'model_type': 'cloudy',\n",
    "               'offset_RA':0,\n",
    "               'offset_DEC':-20},\n",
    "              ]\n",
    "'''\n",
    "my_nebulae = [{'type': 'Bubble3D',\n",
    "               'max_brightness': 5e-14,\n",
    "               'thickness': 0.8,\n",
    "               'radius': 18*u.pc,\n",
    "               'expansion_velocity': 10,\n",
    "                'turbulent_sigma': 15,\n",
    "                'sys_velocity': 10,\n",
    "               'model_params': {'Z': 1.0, 'qH': 50., 'nH': 100, 'Geometry': 'Shell', 'Teff': 40000.},\n",
    "               'model_type': 'cloudy',\n",
    "               'offset_RA':0,\n",
    "               'offset_DEC':0},\n",
    "              ]"
   ]
  },
  {
   "cell_type": "markdown",
   "metadata": {
    "collapsed": false,
    "pycharm": {
     "name": "#%% md\n"
    }
   },
   "source": [
    "3. Add this nebula to the LVM Field"
   ]
  },
  {
   "cell_type": "code",
   "execution_count": 20,
   "metadata": {
    "collapsed": false,
    "pycharm": {
     "name": "#%%\n"
    }
   },
   "outputs": [
    {
     "name": "stderr",
     "output_type": "stream",
     "text": [
      "\u001b[0;34m[INFO]: \u001b[0mStart generating 1 nebulae\n",
      "\u001b[1;33m[WARNING]: \u001b[0mUse the closest pre-computed model with id = Shell_921. Its parameters: Geometry = Shell; Z = 1.0; qH = 50.0; LogLsun = 6.5; Teff = 30000.0; nH = 100.0; \n"
     ]
    }
   ],
   "source": [
    "my_lvmfield.add_nebulae(my_nebulae)"
   ]
  },
  {
   "cell_type": "markdown",
   "metadata": {
    "collapsed": false,
    "pycharm": {
     "name": "#%% md\n"
    }
   },
   "source": [
    "4. Perfect! Now you have access to all the properties of the nebulae considered in the simulator."
   ]
  },
  {
   "cell_type": "code",
   "execution_count": 21,
   "metadata": {
    "collapsed": false,
    "pycharm": {
     "name": "#%%\n"
    }
   },
   "outputs": [
    {
     "name": "stdout",
     "output_type": "stream",
     "text": [
      "5e-14 erg / (s arcsec2 cm2)\n",
      "0.8\n",
      "18.0 pc\n",
      "10.0 km / s\n"
     ]
    }
   ],
   "source": [
    "print(my_lvmfield.ism.nebulae_objects[0].max_brightness)\n",
    "print(my_lvmfield.ism.nebulae_objects[0].thickness)\n",
    "print(my_lvmfield.ism.nebulae_objects[0].radius)\n",
    "print(my_lvmfield.ism.nebulae_objects[0].expansion_velocity)\n"
   ]
  },
  {
   "cell_type": "markdown",
   "metadata": {
    "collapsed": false,
    "pycharm": {
     "name": "#%% md\n"
    }
   },
   "source": [
    "One access the relative 3D brightness distribution in cartesian or in spherical coordinates."
   ]
  },
  {
   "cell_type": "code",
   "execution_count": 22,
   "metadata": {
    "collapsed": false,
    "pycharm": {
     "name": "#%%\n"
    }
   },
   "outputs": [
    {
     "name": "stdout",
     "output_type": "stream",
     "text": [
      "(49, 49, 100)\n",
      "(70, 90, 90)\n",
      "1.8961311803032964e-08\n",
      "2.9882759216562854e-06\n",
      "-6.481277213944785e-08\n",
      "2.204585537918871e-06\n"
     ]
    }
   ],
   "source": [
    "print(my_lvmfield.ism.nebulae_objects[0]._brightness_3d_cartesian.shape)  # nz, ny, nx, where nx is along line-of-sight\n",
    "print(my_lvmfield.ism.nebulae_objects[0]._brightness_3d_spherical.shape)  # rad, theta, phi\n",
    "\n",
    "print(np.mean(my_lvmfield.ism.nebulae_objects[0]._brightness_4d_cartesian) )\n",
    "print(np.max(my_lvmfield.ism.nebulae_objects[0]._brightness_4d_cartesian) )\n",
    "print(np.min(my_lvmfield.ism.nebulae_objects[0]._brightness_4d_cartesian) )\n",
    "\n",
    "c3D=my_lvmfield.ism.nebulae_objects[0]._brightness_3d_cartesian #\n",
    "print(c3D[10, 20, 30]) #considering uniform brightness in each shell=1 (default)\n"
   ]
  },
  {
   "cell_type": "code",
   "execution_count": 23,
   "metadata": {
    "collapsed": false,
    "pycharm": {
     "name": "#%%\n"
    }
   },
   "outputs": [
    {
     "name": "stdout",
     "output_type": "stream",
     "text": [
      "[-18.36       -17.98909091 -17.61818182 -17.24727273 -16.87636364\n",
      " -16.50545455 -16.13454545 -15.76363636 -15.39272727 -15.02181818\n",
      " -14.65090909 -14.28       -13.90909091 -13.53818182 -13.16727273\n",
      " -12.79636364 -12.42545455 -12.05454545 -11.68363636 -11.31272727\n",
      " -10.94181818 -10.57090909 -10.2         -9.82909091  -9.45818182\n",
      "  -9.08727273  -8.71636364  -8.34545455  -7.97454545  -7.60363636\n",
      "  -7.23272727  -6.86181818  -6.49090909  -6.12        -5.74909091\n",
      "  -5.37818182  -5.00727273  -4.63636364  -4.26545455  -3.89454545\n",
      "  -3.52363636  -3.15272727  -2.78181818  -2.41090909  -2.04\n",
      "  -1.66909091  -1.29818182  -0.92727273  -0.55636364  -0.18545455\n",
      "   0.18545455   0.55636364   0.92727273   1.29818182   1.66909091\n",
      "   2.04         2.41090909   2.78181818   3.15272727   3.52363636\n",
      "   3.89454545   4.26545455   4.63636364   5.00727273   5.37818182\n",
      "   5.74909091   6.12         6.49090909   6.86181818   7.23272727\n",
      "   7.60363636   7.97454545   8.34545455   8.71636364   9.08727273\n",
      "   9.45818182   9.82909091  10.2         10.57090909  10.94181818\n",
      "  11.31272727  11.68363636  12.05454545  12.42545455  12.79636364\n",
      "  13.16727273  13.53818182  13.90909091  14.28        14.65090909\n",
      "  15.02181818  15.39272727  15.76363636  16.13454545  16.50545455\n",
      "  16.87636364  17.24727273  17.61818182  17.98909091  18.36      ] pc\n",
      "[-18.61682787 -17.84112671 -17.06542554 -16.28972438 -15.51402322\n",
      " -14.73832206 -13.9626209  -13.18691974 -12.41121858 -11.63551742\n",
      " -10.85981626 -10.08411509  -9.30841393  -8.53271277  -7.75701161\n",
      "  -6.98131045  -6.20560929  -5.42990813  -4.65420697  -3.87850581\n",
      "  -3.10280464  -2.32710348  -1.55140232  -0.77570116   0.\n",
      "   0.77570116   1.55140232   2.32710348   3.10280464   3.87850581\n",
      "   4.65420697   5.42990813   6.20560929   6.98131045   7.75701161\n",
      "   8.53271277   9.30841393  10.08411509  10.85981626  11.63551742\n",
      "  12.41121858  13.18691974  13.9626209   14.73832206  15.51402322\n",
      "  16.28972438  17.06542554  17.84112671  18.61682787] pc\n",
      "(49,) (100,)\n"
     ]
    }
   ],
   "source": [
    "print(my_lvmfield.ism.nebulae_objects[0]._cartesian_x_grid)  # this one is along line-of-sight\n",
    "print(my_lvmfield.ism.nebulae_objects[0]._cartesian_y_grid)\n",
    "print(my_lvmfield.ism.nebulae_objects[0]._cartesian_z_grid.shape, my_lvmfield.ism.nebulae_objects[0]._cartesian_x_grid.shape)\n"
   ]
  },
  {
   "cell_type": "code",
   "execution_count": 24,
   "metadata": {},
   "outputs": [],
   "source": [
    "simname = 'Bubble_v2_5e-14'\n",
    "with fits.open('/home/amrita/LVM/lvmnebular/'+simname+'/'+simname+' diag_Temp_Den.fits') as hdu:\n",
    "        Te = hdu[1].data"
   ]
  },
  {
   "cell_type": "code",
   "execution_count": 25,
   "metadata": {},
   "outputs": [],
   "source": [
    "#Radius:0, 'Te':1, 'ne':2, 'H+':3, 'O0':4, 'O+':5, 'O++':6, 'N0':7, 'N+':8, 'N++':9, 'S0':10, 'S+':11, 'S++:12\n",
    "#line = np.array([9532, 9069, 7319, 7320, 7330, 7331, 6731, 6716, 6584, 6548, 6312, 5755, 5007, 4959, 4363, 4069, 4076, 3729, 3726])\n"
   ]
  },
  {
   "cell_type": "code",
   "execution_count": 26,
   "metadata": {
    "collapsed": false,
    "pycharm": {
     "name": "#%%\n"
    }
   },
   "outputs": [
    {
     "name": "stdout",
     "output_type": "stream",
     "text": [
      "(70,)\n"
     ]
    },
    {
     "data": {
      "text/plain": [
       "array([0.        , 0.07059759, 0.14119518, 0.21179276, 0.28239035,\n",
       "       0.35298794, 0.42358553, 0.49418311, 0.5647807 , 0.63537829,\n",
       "       0.70597588, 0.77657346, 0.84717105, 0.91776864, 0.98836623,\n",
       "       1.05896382, 1.1295614 , 1.20015899, 1.27075658, 1.34135417,\n",
       "       1.41195175, 1.48254934, 1.55314693, 1.62374452, 1.69434211,\n",
       "       1.76493969, 1.83553728, 1.90613487, 1.97673246, 2.04733004,\n",
       "       2.11792763, 2.18852522, 2.25912281, 2.32972039, 2.40031798,\n",
       "       2.47091557, 2.54151316, 2.61211075, 2.68270833, 2.75330592,\n",
       "       2.82390351, 2.8945011 , 2.96509868, 3.03569627, 3.10629386,\n",
       "       3.17689145, 3.24748904, 3.31808662, 3.38868421, 3.4592818 ,\n",
       "       3.52987939, 3.60047697, 3.67107456, 3.74167215, 3.81226974,\n",
       "       3.88286732, 3.95346491, 4.0240625 , 4.09466009, 4.16525768,\n",
       "       4.23585526, 4.30645285, 4.37705044, 4.44764803, 4.51824561,\n",
       "       4.5888432 , 4.65944079, 4.73003838, 4.80063597, 4.87123355,\n",
       "       4.94183114, 5.01242873, 5.08302632, 5.1536239 , 5.22422149,\n",
       "       5.29481908, 5.36541667, 5.43601425, 5.50661184, 5.57720943,\n",
       "       5.64780702, 5.71840461, 5.78900219, 5.85959978, 5.93019737,\n",
       "       6.00079496, 6.07139254, 6.14199013, 6.21258772, 6.28318531])"
      ]
     },
     "execution_count": 26,
     "metadata": {},
     "output_type": "execute_result"
    }
   ],
   "source": [
    "my_lvmfield.ism.nebulae_objects[0]._theta_grid\n",
    "print(my_lvmfield.ism.nebulae_objects[0]._rad_grid.shape)\n",
    "my_lvmfield.ism.nebulae_objects[0]._phi_grid"
   ]
  },
  {
   "cell_type": "markdown",
   "metadata": {
    "collapsed": false,
    "pycharm": {
     "name": "#%% md\n"
    }
   },
   "source": [
    "Similar for 4D, where first dimension is a line ID"
   ]
  },
  {
   "cell_type": "code",
   "execution_count": 27,
   "metadata": {
    "collapsed": false,
    "pycharm": {
     "name": "#%%\n"
    }
   },
   "outputs": [
    {
     "name": "stdout",
     "output_type": "stream",
     "text": [
      "(141, 49, 49, 100)\n",
      "(141, 70, 90, 90)\n"
     ]
    }
   ],
   "source": [
    "print(my_lvmfield.ism.nebulae_objects[0]._brightness_4d_cartesian.shape)\n",
    "print(my_lvmfield.ism.nebulae_objects[0]._brightness_4d_spherical.shape)\n",
    "\n",
    "#print(my_lvmfield.ism.nebulae_objects[0]._brightness_4d_cartesian)\n",
    "#print(my_lvmfield.ism.nebulae_objects[0]._brightness_4d_spherical)\n",
    "#ind5007=100\n",
    "#my_lvmfield.ism.nebulae_objects[0]._brightness_4d_cartesian[ind5007,:,:,:]=pertemcube"
   ]
  },
  {
   "cell_type": "code",
   "execution_count": 28,
   "metadata": {},
   "outputs": [
    {
     "name": "stdout",
     "output_type": "stream",
     "text": [
      "./\n"
     ]
    }
   ],
   "source": [
    "print('./')"
   ]
  },
  {
   "cell_type": "code",
   "execution_count": 29,
   "metadata": {},
   "outputs": [],
   "source": [
    "hdu1=fits.PrimaryHDU(my_lvmfield.ism.nebulae_objects[0]._brightness_3d_cartesian)\n",
    "hdul1=fits.HDUList([hdu1])\n",
    "hdul1.writeto('/home/amrita/LVM/lvmnebular/'+simname+'/Perturbation/cube_3D_cart.fits', overwrite=True)"
   ]
  },
  {
   "cell_type": "code",
   "execution_count": 30,
   "metadata": {},
   "outputs": [],
   "source": [
    "hdu=fits.PrimaryHDU(my_lvmfield.ism.nebulae_objects[0]._brightness_4d_spherical)\n",
    "hdul=fits.HDUList([hdu])\n",
    "hdul.writeto('/home/amrita/LVM/lvmnebular/'+simname+'/Perturbation/cube_sph.fits', overwrite=True) #storing 4D cube in fits format (spherical coordinate)"
   ]
  },
  {
   "cell_type": "code",
   "execution_count": 31,
   "metadata": {},
   "outputs": [],
   "source": [
    "hdu1=fits.PrimaryHDU(my_lvmfield.ism.nebulae_objects[0]._brightness_4d_cartesian)\n",
    "hdul1=fits.HDUList([hdu1])\n",
    "\n",
    "hdul1.writeto('/home/amrita/LVM/lvmnebular/'+simname+'/Perturbation/cube_4D_cart.fits', overwrite=True)"
   ]
  },
  {
   "cell_type": "code",
   "execution_count": 32,
   "metadata": {},
   "outputs": [
    {
     "name": "stdout",
     "output_type": "stream",
     "text": [
      "0 3613.64\n",
      "1 3634.08\n",
      "2 3669.46\n",
      "3 3671.47\n",
      "4 3673.75\n",
      "5 3676.36\n",
      "6 3679.35\n",
      "7 3682.8\n",
      "8 3686.83\n",
      "9 3691.55\n",
      "10 3697.15\n",
      "11 3703.85\n",
      "12 3704.76\n",
      "13 3711.97\n",
      "14 3721.63\n",
      "15 3721.93\n",
      "16 3726.03\n",
      "17 3728.81\n",
      "18 3734.36\n",
      "19 3750.15\n",
      "20 3770.63\n",
      "21 3797.89\n",
      "22 3819.61\n",
      "23 3833.48\n",
      "24 3835.38\n",
      "25 3868.76\n",
      "26 3871.69\n",
      "27 3888.63\n",
      "28 3889.05\n",
      "29 3926.41\n",
      "30 3933.66\n",
      "31 3964.73\n",
      "32 3967.47\n",
      "33 3970.07\n",
      "34 4009.05\n",
      "35 4026.2\n",
      "36 4068.6\n",
      "37 4076.35\n",
      "38 4101.73\n",
      "39 4120.82\n",
      "40 4143.76\n",
      "41 4243.97\n",
      "42 4287.39\n",
      "43 4340.46\n",
      "44 4359.33\n",
      "45 4363.21\n",
      "46 4387.93\n",
      "47 4413.78\n",
      "48 4416.27\n",
      "49 4471.49\n",
      "50 4562.6\n",
      "51 4571.1\n",
      "52 4607.11\n",
      "53 4658.01\n",
      "54 4666.94\n",
      "55 4685.64\n",
      "56 4701.62\n",
      "57 4711.26\n",
      "58 4713.03\n",
      "59 4733.84\n",
      "60 4740.12\n",
      "61 4754.64\n",
      "62 4769.52\n",
      "63 4777.61\n",
      "64 4814.53\n",
      "65 4861.33\n",
      "66 4881.12\n",
      "67 4889.62\n",
      "68 4921.93\n",
      "69 4924.66\n",
      "70 4958.91\n",
      "71 4987.33\n",
      "72 5006.84\n",
      "73 5011.16\n",
      "74 5015.68\n",
      "75 5047.64\n",
      "76 5084.66\n",
      "77 5158.78\n",
      "78 5197.9\n",
      "79 5200.26\n",
      "80 5261.62\n",
      "81 5270.4\n",
      "82 5273.35\n",
      "83 5411.98\n",
      "84 5517.71\n",
      "85 5537.87\n",
      "86 5754.61\n",
      "87 5875.64\n",
      "88 6300.3\n",
      "89 6312.06\n",
      "90 6363.78\n",
      "91 6548.05\n",
      "92 6562.81\n",
      "93 6583.45\n",
      "94 6678.15\n",
      "95 6716.44\n",
      "96 6730.82\n",
      "97 7065.22\n",
      "98 7135.79\n",
      "99 7155.16\n",
      "100 7281.35\n",
      "101 7318.92\n",
      "102 7319.99\n",
      "103 7329.67\n",
      "104 7330.73\n",
      "105 7637.54\n",
      "106 7686.94\n",
      "107 7751.11\n",
      "108 8045.62\n",
      "109 8323.38\n",
      "110 8333.74\n",
      "111 8345.51\n",
      "112 8358.96\n",
      "113 8374.43\n",
      "114 8392.35\n",
      "115 8413.28\n",
      "116 8437.91\n",
      "117 8467.21\n",
      "118 8502.44\n",
      "119 8542.09\n",
      "120 8545.34\n",
      "121 8578.7\n",
      "122 8598.35\n",
      "123 8616.95\n",
      "124 8662.14\n",
      "125 8664.98\n",
      "126 8750.43\n",
      "127 8862.74\n",
      "128 8891.91\n",
      "129 9014.87\n",
      "130 9051.95\n",
      "131 9062.39\n",
      "132 9068.62\n",
      "133 9226.62\n",
      "134 9228.97\n",
      "135 9463.57\n",
      "136 9515.06\n",
      "137 9526.01\n",
      "138 9530.62\n",
      "139 9545.93\n",
      "140 10049.3\n"
     ]
    }
   ],
   "source": [
    "hdu1=fits.PrimaryHDU(my_lvmfield.ism.nebulae_objects[0].wl_list)\n",
    "hdul1=fits.HDUList([hdu1])\n",
    "\n",
    "hdul1.writeto('/home/amrita/LVM/lvmnebular/'+simname+'/Perturbation/lines_from_4Dcube.fits', overwrite=True)\n",
    "\n",
    "for i, lines in enumerate(my_lvmfield.ism.nebulae_objects[0].wl_list):\n",
    "\n",
    "    print(i, lines)\n"
   ]
  },
  {
   "cell_type": "code",
   "execution_count": 33,
   "metadata": {},
   "outputs": [
    {
     "data": {
      "text/plain": [
       "'\\n9532, 9069, 7319, 7320, 7330, 7331, 6731, 6716, 6717, 6584, 6563, 6548, 6312, 5755, 5007, 4959, 4861, 4363, 4069, 4076, 3970, 3729, 3726\\n138,  132,  101,  102,  103,  104,   96,   95,   95,   93,   92,   91,   89,   86,   72,   70,   65,    45,   36,   37,   33,   17,   16 \\n'"
      ]
     },
     "execution_count": 33,
     "metadata": {},
     "output_type": "execute_result"
    }
   ],
   "source": [
    "'''\n",
    "9532, 9069, 7319, 7320, 7330, 7331, 6731, 6716, 6717, 6584, 6563, 6548, 6312, 5755, 5007, 4959, 4861, 4363, 4069, 4076, 3970, 3729, 3726\n",
    "138,  132,  101,  102,  103,  104,   96,   95,   95,   93,   92,   91,   89,   86,   72,   70,   65,    45,   36,   37,   33,   17,   16 \n",
    "'''"
   ]
  },
  {
   "cell_type": "code",
   "execution_count": 34,
   "metadata": {},
   "outputs": [],
   "source": [
    "#dir(my_lvmfield.ism.nebulae_objects[0])"
   ]
  },
  {
   "cell_type": "code",
   "execution_count": 35,
   "metadata": {},
   "outputs": [],
   "source": [
    "def cooling_func(wavelength, lineid, den):\n",
    "\n",
    "    simname = 'Bubble_v2_1e-8'\n",
    "\n",
    "    with fits.open('/home/amrita/LVM/lvmnebular/'+simname+'/testneb_tutorial3_ex1.fits') as hdu:\n",
    "        vals=hdu['Comp_0_PhysParams'].data\n",
    "    \n",
    "    #den = np.array([vals[12], vals[12], vals[5], vals[5], vals[5], vals[5], vals[11], vals[11], vals[8], vals[8], vals[12], vals[8], vals[6],\n",
    "    #vals[6], vals[6], vals[11], vals[11], vals[5],vals[5]])\n",
    "\n",
    "    with fits.open('/home/amrita/LVM/lvmnebular/'+simname+'/Perturbation/cube_4D_cart.fits') as hdul:\n",
    "         data=hdul[0].data\n",
    "         header = hdul[0].header\n",
    "\n",
    "    x1 = my_lvmfield.ism.nebulae_objects[0]._cartesian_x_grid\n",
    "    y1 = my_lvmfield.ism.nebulae_objects[0]._cartesian_y_grid\n",
    "    z1 = my_lvmfield.ism.nebulae_objects[0]._cartesian_z_grid\n",
    "\n",
    "    plt.rcParams.update({'axes.titlesize': 'large',\n",
    "                 'axes.labelsize':'large',\n",
    "                 'axes.linewidth':     '1.8' ,\n",
    "                 'ytick.labelsize': 'large',\n",
    "                 'xtick.labelsize': 'large',\n",
    "                 'font.size': '12.0',\n",
    "                 'legend.fontsize':'large'})\n",
    "            \n",
    "    x = np.linspace(0, np.max(x1), 100)\n",
    "    y = np.linspace(0, np.max(y1), 100)\n",
    "    z = np.linspace(0, np.max(z1), 100)\n",
    "\n",
    "    chi = 6.626e-24*299792458*1e7/wavelength                                                             #in ergs\n",
    "\n",
    "    fig, ax = plt.subplots(figsize = (8,5))\n",
    "    \n",
    "    rad = np.sqrt(x.value**2 + y.value**2 + z.value**2)\n",
    " \n",
    "    cooling_results = np.zeros(rad.shape)\n",
    "\n",
    "    for i, j, k in zip(x, y, z):\n",
    "\n",
    "        #for j, lim in enumerate (y):\n",
    "        #    \n",
    "        #    for k, lim2 in enumerate(z):\n",
    "\n",
    "        radius = np.sqrt(i**2 + j**2 + k**2)\n",
    "        print(i, j, k, radius)\n",
    "\n",
    "        if j == 9.59048708303308:\n",
    "            sel = i>=0\n",
    "        #for d in den:\n",
    "\n",
    "            cooling_value = data[lineid, :, j, j] * chi / den                   #calculating cooling = emissivity * h*c/(wavelength * relative ionic abundance)\n",
    "            cooling_results = cooling_value[sel]\n",
    "    \n",
    "    print(np.min(cooling_results), np.max(cooling_results), cooling_results, cooling_results.shape)\n",
    "\n",
    "    ax.plot(rad, cooling_results)\n",
    "\n",
    "    ax.set_xlabel('Radius (pc)')\n",
    "    ax.set_ylabel('cooling_'+str(wavelength))\n",
    "    ax.set_ylim(1e-10, 1e-6)\n",
    "    plt.savefig('./cooling_curves/cooling_'+simname+'_'+str(wavelength)+'_vs radius.png')\n",
    "\n",
    "    #return cooling_results\n",
    "    #hdu=fits.PrimaryHDU(data = cooling_results, header = header)\n",
    "    #hdu.writeto('./Perturbation/cooling_cube_OIII.fits', overwrite='True')\n"
   ]
  },
  {
   "cell_type": "code",
   "execution_count": 36,
   "metadata": {},
   "outputs": [
    {
     "ename": "FileNotFoundError",
     "evalue": "[Errno 2] No such file or directory: '/home/amrita/LVM/lvmnebular/Bubble_v2_1e-8/Perturbation/cube_4D_cart.fits'",
     "output_type": "error",
     "traceback": [
      "\u001b[0;31m---------------------------------------------------------------------------\u001b[0m",
      "\u001b[0;31mFileNotFoundError\u001b[0m                         Traceback (most recent call last)",
      "Cell \u001b[0;32mIn[36], line 12\u001b[0m\n\u001b[1;32m      5\u001b[0m         e_5007 \u001b[38;5;241m=\u001b[39m hdu[\u001b[38;5;124m'\u001b[39m\u001b[38;5;124mCOMP_0_FLUX_5006.84\u001b[39m\u001b[38;5;124m'\u001b[39m]\u001b[38;5;241m.\u001b[39mdata\n\u001b[1;32m      6\u001b[0m         \u001b[38;5;66;03m#print(np.mean(e_5007), np.max(e_5007), np.min(e_5007), e_5007.shape)\u001b[39;00m\n\u001b[1;32m      7\u001b[0m \n\u001b[1;32m      8\u001b[0m \u001b[38;5;66;03m#line = np.array([9532, 9069, 7319, 7320, 7330, 7331, 6731, 6716, 6584, 6548, 6312, 5755, 5007, 4959, 4363, 4069, 4076,  3729, 3726])\u001b[39;00m\n\u001b[1;32m      9\u001b[0m \u001b[38;5;66;03m#em_line = np.array([138, 132, 101, 102,  103,  104,  96,   95,    93,   91,    89,  86,  72,  70,    45,   36,   37,   17,  16])\u001b[39;00m\n\u001b[1;32m     10\u001b[0m \u001b[38;5;66;03m#\u001b[39;00m\n\u001b[1;32m     11\u001b[0m \u001b[38;5;66;03m#for i, j in zip(line, em_line):\u001b[39;00m\n\u001b[0;32m---> 12\u001b[0m         \u001b[43mcooling_func\u001b[49m\u001b[43m(\u001b[49m\u001b[38;5;241;43m5007\u001b[39;49m\u001b[43m,\u001b[49m\u001b[43m \u001b[49m\u001b[38;5;241;43m72\u001b[39;49m\u001b[43m,\u001b[49m\u001b[43m \u001b[49m\u001b[43mnp\u001b[49m\u001b[38;5;241;43m.\u001b[39;49m\u001b[43mmax\u001b[49m\u001b[43m(\u001b[49m\u001b[43mvals\u001b[49m\u001b[43m[\u001b[49m\u001b[38;5;241;43m6\u001b[39;49m\u001b[43m]\u001b[49m\u001b[43m)\u001b[49m\u001b[43m)\u001b[49m\n",
      "Cell \u001b[0;32mIn[35], line 11\u001b[0m, in \u001b[0;36mcooling_func\u001b[0;34m(wavelength, lineid, den)\u001b[0m\n\u001b[1;32m      6\u001b[0m     vals\u001b[38;5;241m=\u001b[39mhdu[\u001b[38;5;124m'\u001b[39m\u001b[38;5;124mComp_0_PhysParams\u001b[39m\u001b[38;5;124m'\u001b[39m]\u001b[38;5;241m.\u001b[39mdata\n\u001b[1;32m      8\u001b[0m \u001b[38;5;66;03m#den = np.array([vals[12], vals[12], vals[5], vals[5], vals[5], vals[5], vals[11], vals[11], vals[8], vals[8], vals[12], vals[8], vals[6],\u001b[39;00m\n\u001b[1;32m      9\u001b[0m \u001b[38;5;66;03m#vals[6], vals[6], vals[11], vals[11], vals[5],vals[5]])\u001b[39;00m\n\u001b[0;32m---> 11\u001b[0m \u001b[38;5;28;01mwith\u001b[39;00m \u001b[43mfits\u001b[49m\u001b[38;5;241;43m.\u001b[39;49m\u001b[43mopen\u001b[49m\u001b[43m(\u001b[49m\u001b[38;5;124;43m'\u001b[39;49m\u001b[38;5;124;43m/home/amrita/LVM/lvmnebular/\u001b[39;49m\u001b[38;5;124;43m'\u001b[39;49m\u001b[38;5;241;43m+\u001b[39;49m\u001b[43msimname\u001b[49m\u001b[38;5;241;43m+\u001b[39;49m\u001b[38;5;124;43m'\u001b[39;49m\u001b[38;5;124;43m/Perturbation/cube_4D_cart.fits\u001b[39;49m\u001b[38;5;124;43m'\u001b[39;49m\u001b[43m)\u001b[49m \u001b[38;5;28;01mas\u001b[39;00m hdul:\n\u001b[1;32m     12\u001b[0m      data\u001b[38;5;241m=\u001b[39mhdul[\u001b[38;5;241m0\u001b[39m]\u001b[38;5;241m.\u001b[39mdata\n\u001b[1;32m     13\u001b[0m      header \u001b[38;5;241m=\u001b[39m hdul[\u001b[38;5;241m0\u001b[39m]\u001b[38;5;241m.\u001b[39mheader\n",
      "File \u001b[0;32m~/miniconda3/lib/python3.10/site-packages/astropy/io/fits/hdu/hdulist.py:213\u001b[0m, in \u001b[0;36mfitsopen\u001b[0;34m(name, mode, memmap, save_backup, cache, lazy_load_hdus, ignore_missing_simple, use_fsspec, fsspec_kwargs, **kwargs)\u001b[0m\n\u001b[1;32m    210\u001b[0m \u001b[39mif\u001b[39;00m \u001b[39mnot\u001b[39;00m name:\n\u001b[1;32m    211\u001b[0m     \u001b[39mraise\u001b[39;00m \u001b[39mValueError\u001b[39;00m(\u001b[39mf\u001b[39m\u001b[39m\"\u001b[39m\u001b[39mEmpty filename: \u001b[39m\u001b[39m{\u001b[39;00mname\u001b[39m!r}\u001b[39;00m\u001b[39m\"\u001b[39m)\n\u001b[0;32m--> 213\u001b[0m \u001b[39mreturn\u001b[39;00m HDUList\u001b[39m.\u001b[39;49mfromfile(\n\u001b[1;32m    214\u001b[0m     name,\n\u001b[1;32m    215\u001b[0m     mode,\n\u001b[1;32m    216\u001b[0m     memmap,\n\u001b[1;32m    217\u001b[0m     save_backup,\n\u001b[1;32m    218\u001b[0m     cache,\n\u001b[1;32m    219\u001b[0m     lazy_load_hdus,\n\u001b[1;32m    220\u001b[0m     ignore_missing_simple,\n\u001b[1;32m    221\u001b[0m     use_fsspec\u001b[39m=\u001b[39;49muse_fsspec,\n\u001b[1;32m    222\u001b[0m     fsspec_kwargs\u001b[39m=\u001b[39;49mfsspec_kwargs,\n\u001b[1;32m    223\u001b[0m     \u001b[39m*\u001b[39;49m\u001b[39m*\u001b[39;49mkwargs,\n\u001b[1;32m    224\u001b[0m )\n",
      "File \u001b[0;32m~/miniconda3/lib/python3.10/site-packages/astropy/io/fits/hdu/hdulist.py:476\u001b[0m, in \u001b[0;36mHDUList.fromfile\u001b[0;34m(cls, fileobj, mode, memmap, save_backup, cache, lazy_load_hdus, ignore_missing_simple, **kwargs)\u001b[0m\n\u001b[1;32m    457\u001b[0m \u001b[39m@classmethod\u001b[39m\n\u001b[1;32m    458\u001b[0m \u001b[39mdef\u001b[39;00m \u001b[39mfromfile\u001b[39m(\n\u001b[1;32m    459\u001b[0m     \u001b[39mcls\u001b[39m,\n\u001b[0;32m   (...)\u001b[0m\n\u001b[1;32m    467\u001b[0m     \u001b[39m*\u001b[39m\u001b[39m*\u001b[39mkwargs,\n\u001b[1;32m    468\u001b[0m ):\n\u001b[1;32m    469\u001b[0m \u001b[39m    \u001b[39m\u001b[39m\"\"\"\u001b[39;00m\n\u001b[1;32m    470\u001b[0m \u001b[39m    Creates an `HDUList` instance from a file-like object.\u001b[39;00m\n\u001b[1;32m    471\u001b[0m \n\u001b[0;32m   (...)\u001b[0m\n\u001b[1;32m    474\u001b[0m \u001b[39m    documentation for details of the parameters accepted by this method).\u001b[39;00m\n\u001b[1;32m    475\u001b[0m \u001b[39m    \"\"\"\u001b[39;00m\n\u001b[0;32m--> 476\u001b[0m     \u001b[39mreturn\u001b[39;00m \u001b[39mcls\u001b[39;49m\u001b[39m.\u001b[39;49m_readfrom(\n\u001b[1;32m    477\u001b[0m         fileobj\u001b[39m=\u001b[39;49mfileobj,\n\u001b[1;32m    478\u001b[0m         mode\u001b[39m=\u001b[39;49mmode,\n\u001b[1;32m    479\u001b[0m         memmap\u001b[39m=\u001b[39;49mmemmap,\n\u001b[1;32m    480\u001b[0m         save_backup\u001b[39m=\u001b[39;49msave_backup,\n\u001b[1;32m    481\u001b[0m         cache\u001b[39m=\u001b[39;49mcache,\n\u001b[1;32m    482\u001b[0m         ignore_missing_simple\u001b[39m=\u001b[39;49mignore_missing_simple,\n\u001b[1;32m    483\u001b[0m         lazy_load_hdus\u001b[39m=\u001b[39;49mlazy_load_hdus,\n\u001b[1;32m    484\u001b[0m         \u001b[39m*\u001b[39;49m\u001b[39m*\u001b[39;49mkwargs,\n\u001b[1;32m    485\u001b[0m     )\n",
      "File \u001b[0;32m~/miniconda3/lib/python3.10/site-packages/astropy/io/fits/hdu/hdulist.py:1146\u001b[0m, in \u001b[0;36mHDUList._readfrom\u001b[0;34m(cls, fileobj, data, mode, memmap, cache, lazy_load_hdus, ignore_missing_simple, use_fsspec, fsspec_kwargs, **kwargs)\u001b[0m\n\u001b[1;32m   1143\u001b[0m \u001b[39mif\u001b[39;00m fileobj \u001b[39mis\u001b[39;00m \u001b[39mnot\u001b[39;00m \u001b[39mNone\u001b[39;00m:\n\u001b[1;32m   1144\u001b[0m     \u001b[39mif\u001b[39;00m \u001b[39mnot\u001b[39;00m \u001b[39misinstance\u001b[39m(fileobj, _File):\n\u001b[1;32m   1145\u001b[0m         \u001b[39m# instantiate a FITS file object (ffo)\u001b[39;00m\n\u001b[0;32m-> 1146\u001b[0m         fileobj \u001b[39m=\u001b[39m _File(\n\u001b[1;32m   1147\u001b[0m             fileobj,\n\u001b[1;32m   1148\u001b[0m             mode\u001b[39m=\u001b[39;49mmode,\n\u001b[1;32m   1149\u001b[0m             memmap\u001b[39m=\u001b[39;49mmemmap,\n\u001b[1;32m   1150\u001b[0m             cache\u001b[39m=\u001b[39;49mcache,\n\u001b[1;32m   1151\u001b[0m             use_fsspec\u001b[39m=\u001b[39;49muse_fsspec,\n\u001b[1;32m   1152\u001b[0m             fsspec_kwargs\u001b[39m=\u001b[39;49mfsspec_kwargs,\n\u001b[1;32m   1153\u001b[0m         )\n\u001b[1;32m   1154\u001b[0m     \u001b[39m# The Astropy mode is determined by the _File initializer if the\u001b[39;00m\n\u001b[1;32m   1155\u001b[0m     \u001b[39m# supplied mode was None\u001b[39;00m\n\u001b[1;32m   1156\u001b[0m     mode \u001b[39m=\u001b[39m fileobj\u001b[39m.\u001b[39mmode\n",
      "File \u001b[0;32m~/miniconda3/lib/python3.10/site-packages/astropy/io/fits/file.py:217\u001b[0m, in \u001b[0;36m_File.__init__\u001b[0;34m(self, fileobj, mode, memmap, overwrite, cache, use_fsspec, fsspec_kwargs)\u001b[0m\n\u001b[1;32m    215\u001b[0m     \u001b[39mself\u001b[39m\u001b[39m.\u001b[39m_open_fileobj(fileobj, mode, overwrite)\n\u001b[1;32m    216\u001b[0m \u001b[39melif\u001b[39;00m \u001b[39misinstance\u001b[39m(fileobj, (\u001b[39mstr\u001b[39m, \u001b[39mbytes\u001b[39m)):\n\u001b[0;32m--> 217\u001b[0m     \u001b[39mself\u001b[39;49m\u001b[39m.\u001b[39;49m_open_filename(fileobj, mode, overwrite)\n\u001b[1;32m    218\u001b[0m \u001b[39melse\u001b[39;00m:\n\u001b[1;32m    219\u001b[0m     \u001b[39mself\u001b[39m\u001b[39m.\u001b[39m_open_filelike(fileobj, mode, overwrite)\n",
      "File \u001b[0;32m~/miniconda3/lib/python3.10/site-packages/astropy/io/fits/file.py:626\u001b[0m, in \u001b[0;36m_File._open_filename\u001b[0;34m(self, filename, mode, overwrite)\u001b[0m\n\u001b[1;32m    623\u001b[0m ext \u001b[39m=\u001b[39m os\u001b[39m.\u001b[39mpath\u001b[39m.\u001b[39msplitext(\u001b[39mself\u001b[39m\u001b[39m.\u001b[39mname)[\u001b[39m1\u001b[39m]\n\u001b[1;32m    625\u001b[0m \u001b[39mif\u001b[39;00m \u001b[39mnot\u001b[39;00m \u001b[39mself\u001b[39m\u001b[39m.\u001b[39m_try_read_compressed(\u001b[39mself\u001b[39m\u001b[39m.\u001b[39mname, magic, mode, ext\u001b[39m=\u001b[39mext):\n\u001b[0;32m--> 626\u001b[0m     \u001b[39mself\u001b[39m\u001b[39m.\u001b[39m_file \u001b[39m=\u001b[39m \u001b[39mopen\u001b[39;49m(\u001b[39mself\u001b[39;49m\u001b[39m.\u001b[39;49mname, IO_FITS_MODES[mode])\n\u001b[1;32m    627\u001b[0m     \u001b[39mself\u001b[39m\u001b[39m.\u001b[39mclose_on_error \u001b[39m=\u001b[39m \u001b[39mTrue\u001b[39;00m\n\u001b[1;32m    629\u001b[0m \u001b[39m# Make certain we're back at the beginning of the file\u001b[39;00m\n\u001b[1;32m    630\u001b[0m \u001b[39m# BZ2File does not support seek when the file is open for writing, but\u001b[39;00m\n\u001b[1;32m    631\u001b[0m \u001b[39m# when opening a file for write, bz2.BZ2File always truncates anyway.\u001b[39;00m\n",
      "\u001b[0;31mFileNotFoundError\u001b[0m: [Errno 2] No such file or directory: '/home/amrita/LVM/lvmnebular/Bubble_v2_1e-8/Perturbation/cube_4D_cart.fits'"
     ]
    }
   ],
   "source": [
    "simname = 'Bubble_v2_1e-8'\n",
    "with fits.open('/home/amrita/LVM/lvmnebular/'+simname+'/testneb_tutorial3_ex1.fits') as hdu:\n",
    "        vals=hdu['Comp_0_PhysParams'].data\n",
    "\n",
    "        e_5007 = hdu['COMP_0_FLUX_5006.84'].data\n",
    "        #print(np.mean(e_5007), np.max(e_5007), np.min(e_5007), e_5007.shape)\n",
    "\n",
    "#line = np.array([9532, 9069, 7319, 7320, 7330, 7331, 6731, 6716, 6584, 6548, 6312, 5755, 5007, 4959, 4363, 4069, 4076,  3729, 3726])\n",
    "#em_line = np.array([138, 132, 101, 102,  103,  104,  96,   95,    93,   91,    89,  86,  72,  70,    45,   36,   37,   17,  16])\n",
    "#\n",
    "#for i, j in zip(line, em_line):\n",
    "        cooling_func(5007, 72, np.max(vals[6]))"
   ]
  },
  {
   "cell_type": "code",
   "execution_count": null,
   "metadata": {},
   "outputs": [
    {
     "name": "stderr",
     "output_type": "stream",
     "text": [
      "\u001b[0;31m[ERROR]: \u001b[0mTraceback (most recent call last):\n",
      "  File \u001b[36m\"/home/amrita/miniconda3/envs/lvmdatasimulator/lib/python3.10/site-packages/IPython/core/interactiveshell.py\"\u001b[39;49;00m, line \u001b[34m3508\u001b[39;49;00m, in run_code\u001b[37m\u001b[39;49;00m\n",
      "\u001b[37m    \u001b[39;49;00mexec(code_obj, \u001b[36mself\u001b[39;49;00m.user_global_ns, \u001b[36mself\u001b[39;49;00m.user_ns)\u001b[37m\u001b[39;49;00m\n",
      "  File \u001b[36m\"/tmp/ipykernel_195912/2328972305.py\"\u001b[39;49;00m, line \u001b[34m1\u001b[39;49;00m, in <module>\u001b[37m\u001b[39;49;00m\n",
      "\u001b[37m    \u001b[39;49;00mhdul1.writeto(\u001b[33m'\u001b[39;49;00m\u001b[33m./Perturbation/lines_from_4Dcube.fits\u001b[39;49;00m\u001b[33m'\u001b[39;49;00m, overwrite=\u001b[34mTrue\u001b[39;49;00m)\u001b[37m\u001b[39;49;00m\n",
      "  File \u001b[36m\"/home/amrita/miniconda3/envs/lvmdatasimulator/lib/python3.10/site-packages/astropy/io/fits/hdu/hdulist.py\"\u001b[39;49;00m, line \u001b[34m1010\u001b[39;49;00m, in writeto\u001b[37m\u001b[39;49;00m\n",
      "\u001b[37m    \u001b[39;49;00mfileobj = _File(fileobj, mode=mode, overwrite=overwrite)\u001b[37m\u001b[39;49;00m\n",
      "  File \u001b[36m\"/home/amrita/miniconda3/envs/lvmdatasimulator/lib/python3.10/site-packages/astropy/io/fits/file.py\"\u001b[39;49;00m, line \u001b[34m217\u001b[39;49;00m, in __init__\u001b[37m\u001b[39;49;00m\n",
      "\u001b[37m    \u001b[39;49;00m\u001b[36mself\u001b[39;49;00m._open_filename(fileobj, mode, overwrite)\u001b[37m\u001b[39;49;00m\n",
      "  File \u001b[36m\"/home/amrita/miniconda3/envs/lvmdatasimulator/lib/python3.10/site-packages/astropy/io/fits/file.py\"\u001b[39;49;00m, line \u001b[34m626\u001b[39;49;00m, in _open_filename\u001b[37m\u001b[39;49;00m\n",
      "\u001b[37m    \u001b[39;49;00m\u001b[36mself\u001b[39;49;00m._file = \u001b[36mopen\u001b[39;49;00m(\u001b[36mself\u001b[39;49;00m.name, IO_FITS_MODES[mode])\u001b[37m\u001b[39;49;00m\n",
      "\u001b[91mFileNotFoundError\u001b[39;49;00m: [Errno 2] No such file or directory: './Perturbation/lines_from_4Dcube.fits'\u001b[37m\u001b[39;49;00m\n",
      "\n"
     ]
    }
   ],
   "source": [
    "hdul1.writeto('./Perturbation/lines_from_4Dcube.fits', overwrite=True)\n",
    "\n",
    "for i, lines in enumerate(my_lvmfield.ism.nebulae_objects[0].wl_list):\n",
    "    print(lines)\n",
    "\n",
    "    simname = 'pert_0.248_0.05_Bubble_v2_1e-8'                                                    #simulation with perturbations\n",
    "\n",
    "\n",
    "    e_lines = []\n",
    "\n",
    "    with fits.open('/home/amrita/LVM/lvmnebular/'+simname+'/testneb_tutorial3_ex1.fits') as hdu:\n",
    "            vals=hdu['Comp_0_PhysParams'].data\n",
    "\n",
    "            e_lines.append(hdu['COMP_0_FLUX_'+str(lines)].data)\n",
    "            \n",
    "            print(np.mean(e_lines), np.max(e_lines), np.min(e_lines))\n",
    "print(lines.shape)"
   ]
  },
  {
   "cell_type": "code",
   "execution_count": null,
   "metadata": {},
   "outputs": [
    {
     "name": "stderr",
     "output_type": "stream",
     "text": [
      "\u001b[0;31m[ERROR]: \u001b[0mTraceback (most recent call last):\n",
      "  File \u001b[36m\"/home/amrita/miniconda3/envs/lvmdatasimulator/lib/python3.10/site-packages/IPython/core/interactiveshell.py\"\u001b[39;49;00m, line \u001b[34m3508\u001b[39;49;00m, in run_code\u001b[37m\u001b[39;49;00m\n",
      "\u001b[37m    \u001b[39;49;00mexec(code_obj, \u001b[36mself\u001b[39;49;00m.user_global_ns, \u001b[36mself\u001b[39;49;00m.user_ns)\u001b[37m\u001b[39;49;00m\n",
      "  File \u001b[36m\"/tmp/ipykernel_195912/3635964676.py\"\u001b[39;49;00m, line \u001b[34m1\u001b[39;49;00m, in <module>\u001b[37m\u001b[39;49;00m\n",
      "\u001b[37m    \u001b[39;49;00mhdul1.writeto(\u001b[33m'\u001b[39;49;00m\u001b[33m./Perturbation/lines_from_4Dcube.fits\u001b[39;49;00m\u001b[33m'\u001b[39;49;00m, overwrite=\u001b[34mTrue\u001b[39;49;00m)\u001b[37m\u001b[39;49;00m\n",
      "  File \u001b[36m\"/home/amrita/miniconda3/envs/lvmdatasimulator/lib/python3.10/site-packages/astropy/io/fits/hdu/hdulist.py\"\u001b[39;49;00m, line \u001b[34m1010\u001b[39;49;00m, in writeto\u001b[37m\u001b[39;49;00m\n",
      "\u001b[37m    \u001b[39;49;00mfileobj = _File(fileobj, mode=mode, overwrite=overwrite)\u001b[37m\u001b[39;49;00m\n",
      "  File \u001b[36m\"/home/amrita/miniconda3/envs/lvmdatasimulator/lib/python3.10/site-packages/astropy/io/fits/file.py\"\u001b[39;49;00m, line \u001b[34m217\u001b[39;49;00m, in __init__\u001b[37m\u001b[39;49;00m\n",
      "\u001b[37m    \u001b[39;49;00m\u001b[36mself\u001b[39;49;00m._open_filename(fileobj, mode, overwrite)\u001b[37m\u001b[39;49;00m\n",
      "  File \u001b[36m\"/home/amrita/miniconda3/envs/lvmdatasimulator/lib/python3.10/site-packages/astropy/io/fits/file.py\"\u001b[39;49;00m, line \u001b[34m626\u001b[39;49;00m, in _open_filename\u001b[37m\u001b[39;49;00m\n",
      "\u001b[37m    \u001b[39;49;00m\u001b[36mself\u001b[39;49;00m._file = \u001b[36mopen\u001b[39;49;00m(\u001b[36mself\u001b[39;49;00m.name, IO_FITS_MODES[mode])\u001b[37m\u001b[39;49;00m\n",
      "\u001b[91mFileNotFoundError\u001b[39;49;00m: [Errno 2] No such file or directory: './Perturbation/lines_from_4Dcube.fits'\u001b[37m\u001b[39;49;00m\n",
      "\n"
     ]
    }
   ],
   "source": [
    "hdul1.writeto('./Perturbation/lines_from_4Dcube.fits', overwrite=True)\n",
    "\n",
    "for i, lines in enumerate(my_lvmfield.ism.nebulae_objects[0].wl_list):\n",
    "    print(lines)\n",
    "\n",
    "    simname = 'Bubble_v2_1e-8'                                               #simulation without perturbations\n",
    "\n",
    "    e_lines = []\n",
    "\n",
    "    with fits.open('/home/amrita/LVM/lvmnebular/'+simname+'/testneb_tutorial3_ex1.fits') as hdu:\n",
    "            vals=hdu['Comp_0_PhysParams'].data\n",
    "\n",
    "            e_lines.append(hdu['COMP_0_FLUX_'+str(lines)].data)\n",
    "\n",
    "            print(np.mean(e_lines), np.max(e_lines), np.min(e_lines))"
   ]
  },
  {
   "cell_type": "code",
   "execution_count": null,
   "metadata": {},
   "outputs": [
    {
     "name": "stderr",
     "output_type": "stream",
     "text": [
      "\u001b[0;31m[ERROR]: \u001b[0mTraceback (most recent call last):\n",
      "  File \u001b[36m\"/home/amrita/miniconda3/envs/lvmdatasimulator/lib/python3.10/site-packages/IPython/core/interactiveshell.py\"\u001b[39;49;00m, line \u001b[34m3508\u001b[39;49;00m, in run_code\u001b[37m\u001b[39;49;00m\n",
      "\u001b[37m    \u001b[39;49;00mexec(code_obj, \u001b[36mself\u001b[39;49;00m.user_global_ns, \u001b[36mself\u001b[39;49;00m.user_ns)\u001b[37m\u001b[39;49;00m\n",
      "  File \u001b[36m\"/tmp/ipykernel_195912/1146155935.py\"\u001b[39;49;00m, line \u001b[34m7\u001b[39;49;00m, in <module>\u001b[37m\u001b[39;49;00m\n",
      "\u001b[37m    \u001b[39;49;00m\u001b[34mwith\u001b[39;49;00m fits.open(\u001b[33m'\u001b[39;49;00m\u001b[33m./Perturbation/cube_4D_cart.fits\u001b[39;49;00m\u001b[33m'\u001b[39;49;00m) \u001b[34mas\u001b[39;49;00m hdul:\u001b[37m\u001b[39;49;00m\n",
      "  File \u001b[36m\"/home/amrita/miniconda3/envs/lvmdatasimulator/lib/python3.10/site-packages/astropy/io/fits/hdu/hdulist.py\"\u001b[39;49;00m, line \u001b[34m213\u001b[39;49;00m, in fitsopen\u001b[37m\u001b[39;49;00m\n",
      "\u001b[37m    \u001b[39;49;00m\u001b[34mreturn\u001b[39;49;00m HDUList.fromfile(\u001b[37m\u001b[39;49;00m\n",
      "  File \u001b[36m\"/home/amrita/miniconda3/envs/lvmdatasimulator/lib/python3.10/site-packages/astropy/io/fits/hdu/hdulist.py\"\u001b[39;49;00m, line \u001b[34m476\u001b[39;49;00m, in fromfile\u001b[37m\u001b[39;49;00m\n",
      "\u001b[37m    \u001b[39;49;00m\u001b[34mreturn\u001b[39;49;00m \u001b[36mcls\u001b[39;49;00m._readfrom(\u001b[37m\u001b[39;49;00m\n",
      "  File \u001b[36m\"/home/amrita/miniconda3/envs/lvmdatasimulator/lib/python3.10/site-packages/astropy/io/fits/hdu/hdulist.py\"\u001b[39;49;00m, line \u001b[34m1146\u001b[39;49;00m, in _readfrom\u001b[37m\u001b[39;49;00m\n",
      "\u001b[37m    \u001b[39;49;00mfileobj = _File(\u001b[37m\u001b[39;49;00m\n",
      "  File \u001b[36m\"/home/amrita/miniconda3/envs/lvmdatasimulator/lib/python3.10/site-packages/astropy/io/fits/file.py\"\u001b[39;49;00m, line \u001b[34m217\u001b[39;49;00m, in __init__\u001b[37m\u001b[39;49;00m\n",
      "\u001b[37m    \u001b[39;49;00m\u001b[36mself\u001b[39;49;00m._open_filename(fileobj, mode, overwrite)\u001b[37m\u001b[39;49;00m\n",
      "  File \u001b[36m\"/home/amrita/miniconda3/envs/lvmdatasimulator/lib/python3.10/site-packages/astropy/io/fits/file.py\"\u001b[39;49;00m, line \u001b[34m626\u001b[39;49;00m, in _open_filename\u001b[37m\u001b[39;49;00m\n",
      "\u001b[37m    \u001b[39;49;00m\u001b[36mself\u001b[39;49;00m._file = \u001b[36mopen\u001b[39;49;00m(\u001b[36mself\u001b[39;49;00m.name, IO_FITS_MODES[mode])\u001b[37m\u001b[39;49;00m\n",
      "\u001b[91mFileNotFoundError\u001b[39;49;00m: [Errno 2] No such file or directory: './Perturbation/cube_4D_cart.fits'\u001b[37m\u001b[39;49;00m\n",
      "\n"
     ]
    }
   ],
   "source": [
    "simname = 'Bubble_v2_5e-14'\n",
    "\n",
    "with fits.open('/home/amrita/LVM/lvmnebular/'+simname+'/testneb_tutorial3_ex1.fits') as hdu:\n",
    "    vals=hdu['Comp_0_PhysParams'].data\n",
    "\n",
    "\n",
    "with fits.open('./Perturbation/cube_4D_cart.fits') as hdul:\n",
    "     data=hdul[0].data\n",
    "     header = hdul[0].header\n",
    "\n",
    "\n",
    "x1max = np.max(my_lvmfield.ism.nebulae_objects[0]._cartesian_x_grid)\n",
    "y1max = np.max(my_lvmfield.ism.nebulae_objects[0]._cartesian_y_grid)\n",
    "z1max = np.max(my_lvmfield.ism.nebulae_objects[0]._cartesian_z_grid)\n",
    "\n",
    "print(data[72, :, np.min(y1max/2), np.min(z1max/2)])\n",
    "\n",
    "\n",
    "line = 3726\n",
    "chi = 6.626e-24*299792458*1e7/line\n",
    "\n",
    "cooling_results = []  \n",
    "for i, j in enumerate(rad):\n",
    "    i = int(i)\n",
    "    cooling_value = data[16, i, i, i] * chi / np.mean(vals[5])\n",
    "    cooling_results.append((i, cooling_value))\n",
    "\n",
    "print(cooling_results)\n",
    "\n",
    "hdu=fits.PrimaryHDU(data = cooling_results, header = header)\n",
    "hdu.writeto('./Perturbation/cooling_cube_OIII.fits', overwrite='True')\n",
    "\n",
    "i_values, cooling_values = zip(*cooling_results)\n",
    "\n",
    "# Create a plot\n",
    "plt.plot(i_values, np.log10(cooling_values))\n",
    "\n",
    "# Add labels and title\n",
    "plt.xlabel('Pixels')\n",
    "plt.ylabel('Log(Cooling_'+str(line)+')')\n",
    "plt.title('Cooling_'+str(line)+'_vs. pixels')\n",
    "plt.xlim(0, 50)\n",
    "# Show the plot\n",
    "plt.show()"
   ]
  }
 ],
 "metadata": {
  "kernelspec": {
   "display_name": "Python 3.10.11 ('base')",
   "language": "python",
   "name": "python3"
  },
  "language_info": {
   "codemirror_mode": {
    "name": "ipython",
    "version": 3
   },
   "file_extension": ".py",
   "mimetype": "text/x-python",
   "name": "python",
   "nbconvert_exporter": "python",
   "pygments_lexer": "ipython3",
   "version": "3.10.11"
  },
  "vscode": {
   "interpreter": {
    "hash": "b943106136f0b7237aa45b13de07160508680759cd2ff79bd892a553daeee42a"
   }
  }
 },
 "nbformat": 4,
 "nbformat_minor": 0
}
