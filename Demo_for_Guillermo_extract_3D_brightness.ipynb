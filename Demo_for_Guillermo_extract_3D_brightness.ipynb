{
 "cells": [
  {
   "cell_type": "markdown",
   "metadata": {
    "collapsed": false,
    "pycharm": {
     "name": "#%% md\n"
    }
   },
   "source": [
    "# How to extract 3D structure of the nebulae from the LVM data simulator"
   ]
  },
  {
   "cell_type": "markdown",
   "metadata": {
    "collapsed": false,
    "pycharm": {
     "name": "#%% md\n"
    }
   },
   "source": [
    "1. Initialize the LVM Field"
   ]
  },
  {
   "cell_type": "code",
   "execution_count": 2,
   "metadata": {
    "collapsed": false,
    "pycharm": {
     "name": "#%%\n"
    }
   },
   "outputs": [],
   "source": [
    "import os\n",
    "from lvmdatasimulator.field import LVMField\n",
    "import astropy.units as u\n",
    "import astropy.table as Table\n",
    "from astropy.io import fits\n",
    "import numpy as np\n",
    "import matplotlib.pyplot as plt\n",
    "#os.chdir('/Users/mors/Science/LVM/Simulator_example/')  # Your top-level working directory\n",
    "os.chdir('/home/amrita/LVM/lvmnebular/')"
   ]
  },
  {
   "cell_type": "code",
   "execution_count": 3,
   "metadata": {
    "collapsed": false,
    "pycharm": {
     "name": "#%%\n"
    }
   },
   "outputs": [],
   "source": [
    "#Some random of the LVM Field\n",
    "'''\n",
    "ra = 12.34 # u.degree\n",
    "dec = -20.35 # u.degree\n",
    "fov_size = 35 # u.arcmin\n",
    "fov_pixel = 1 # u.arcsec\n",
    "distance = 50 # * u.kpc\n",
    "sys_vel = 0 #* u.km / u.s\n",
    "turbulent_sigma = 20 #* u.km / u.s\n",
    "preserve_kinematics = False\n",
    "'''\n",
    "#specifing parameters\n",
    "ra = 90.5625 # u.degree\n",
    "dec = 4.998333 # u.degree\n",
    "fov_size = 10 # u.arcmin\n",
    "fov_pixel = 10 # u.arcsec\n",
    "distance = 16.0 * u.kpc\n",
    "sys_vel = 20 #* u.km / u.s\n",
    "turbulent_sigma = 15 #* u.km / u.s\n",
    "preserve_kinematics = False\n",
    "\n",
    "unit_ra = u.degree\n",
    "unit_dec = u.degree\n",
    "unit_size = u.arcmin\n",
    "unit_pixel = u.arcsec\n",
    "\n",
    "name = 'LVM_extract3D'\n",
    "my_lvmfield = LVMField(ra=ra, dec=dec, size=fov_size, pxsize=fov_pixel, name=name,\n",
    "                       unit_ra=unit_ra, unit_dec=unit_dec, unit_size=unit_size, unit_pxsize=unit_pixel,\n",
    "                       ism_params={'distance': distance, 'sys_velocity': sys_vel, 'turbulent_sigma': turbulent_sigma,\n",
    "                                   'preserve_kinematics': preserve_kinematics})"
   ]
  },
  {
   "cell_type": "markdown",
   "metadata": {
    "collapsed": false,
    "pycharm": {
     "name": "#%% md\n"
    }
   },
   "source": [
    "2. Define the properties of the nebula to be simulated\n",
    "Let's simulate only a Bubble in our FOV"
   ]
  },
  {
   "cell_type": "code",
   "execution_count": 4,
   "metadata": {
    "collapsed": false,
    "pycharm": {
     "name": "#%%\n"
    }
   },
   "outputs": [],
   "source": [
    "'''\n",
    "my_nebulae = [{'type': 'Bubble3D',\n",
    "               'max_brightness': 1.e-14,\n",
    "               'thickness': 0.85,\n",
    "               'radius': 10*u.pc,\n",
    "               'expansion_velocity': 15,\n",
    "                'turbulent_sigma': 15,\n",
    "                'sys_velocity': 0,\n",
    "               'model_params': {'Z': 0.6, 'qH': 50, 'nH': 100, 'Geometry': 'Cloud', 'Teff': 35000.},\n",
    "               'model_type': 'cloudy',\n",
    "               'offset_RA':0,\n",
    "               'offset_DEC':-20},\n",
    "              ]\n",
    "'''\n",
    "my_nebulae = [{'type': 'Bubble3D',\n",
    "               'max_brightness': 5e-14,\n",
    "               'thickness': 0.8,\n",
    "               'radius': 18*u.pc,\n",
    "               'expansion_velocity': 10,\n",
    "                'turbulent_sigma': 15,\n",
    "                'sys_velocity': 10,\n",
    "               'model_params': {'Z': 1.0, 'qH': 50., 'nH': 100, 'Geometry': 'Shell', 'Teff': 40000.},\n",
    "               'model_type': 'cloudy',\n",
    "               'offset_RA':0,\n",
    "               'offset_DEC':0},\n",
    "              ]"
   ]
  },
  {
   "cell_type": "markdown",
   "metadata": {
    "collapsed": false,
    "pycharm": {
     "name": "#%% md\n"
    }
   },
   "source": [
    "3. Add this nebula to the LVM Field"
   ]
  },
  {
   "cell_type": "code",
   "execution_count": 5,
   "metadata": {
    "collapsed": false,
    "pycharm": {
     "name": "#%%\n"
    }
   },
   "outputs": [
    {
     "name": "stderr",
     "output_type": "stream",
     "text": [
      "\u001b[0;34m[INFO]: \u001b[0mStart generating 1 nebulae\n",
      "\u001b[1;33m[WARNING]: \u001b[0mUse the closest pre-computed model with id = Shell_921. Its parameters: Geometry = Shell; Z = 1.0; qH = 50.0; LogLsun = 6.5; Teff = 30000.0; nH = 100.0; \n"
     ]
    }
   ],
   "source": [
    "my_lvmfield.add_nebulae(my_nebulae)"
   ]
  },
  {
   "cell_type": "markdown",
   "metadata": {
    "collapsed": false,
    "pycharm": {
     "name": "#%% md\n"
    }
   },
   "source": [
    "4. Perfect! Now you have access to all the properties of the nebulae considered in the simulator."
   ]
  },
  {
   "cell_type": "code",
   "execution_count": 6,
   "metadata": {
    "collapsed": false,
    "pycharm": {
     "name": "#%%\n"
    }
   },
   "outputs": [
    {
     "name": "stdout",
     "output_type": "stream",
     "text": [
      "5e-14 erg / (s arcsec2 cm2)\n",
      "0.8\n",
      "18.0 pc\n",
      "10.0 km / s\n"
     ]
    }
   ],
   "source": [
    "print(my_lvmfield.ism.nebulae_objects[0].max_brightness)\n",
    "print(my_lvmfield.ism.nebulae_objects[0].thickness)\n",
    "print(my_lvmfield.ism.nebulae_objects[0].radius)\n",
    "print(my_lvmfield.ism.nebulae_objects[0].expansion_velocity)\n"
   ]
  },
  {
   "cell_type": "markdown",
   "metadata": {
    "collapsed": false,
    "pycharm": {
     "name": "#%% md\n"
    }
   },
   "source": [
    "One access the relative 3D brightness distribution in cartesian or in spherical coordinates."
   ]
  },
  {
   "cell_type": "code",
   "execution_count": 7,
   "metadata": {
    "collapsed": false,
    "pycharm": {
     "name": "#%%\n"
    }
   },
   "outputs": [
    {
     "name": "stdout",
     "output_type": "stream",
     "text": [
      "(49, 49, 100)\n",
      "(70, 90, 90)\n",
      "2.204585537918871e-06\n"
     ]
    }
   ],
   "source": [
    "print(my_lvmfield.ism.nebulae_objects[0]._brightness_3d_cartesian.shape)  # nz, ny, nx, where nx is along line-of-sight\n",
    "print(my_lvmfield.ism.nebulae_objects[0]._brightness_3d_spherical.shape)  # rad, theta, phi\n",
    "\n",
    "c3D=my_lvmfield.ism.nebulae_objects[0]._brightness_3d_cartesian #\n",
    "print(c3D[10,20,30]) #considering uniform brightness in each shell=1 (default)\n"
   ]
  },
  {
   "cell_type": "code",
   "execution_count": 8,
   "metadata": {
    "collapsed": false,
    "pycharm": {
     "name": "#%%\n"
    }
   },
   "outputs": [
    {
     "name": "stdout",
     "output_type": "stream",
     "text": [
      "(100,)\n",
      "(49,)\n",
      "(49,)\n"
     ]
    }
   ],
   "source": [
    "print(my_lvmfield.ism.nebulae_objects[0]._cartesian_x_grid.shape)  # this one is along line-of-sight\n",
    "print(my_lvmfield.ism.nebulae_objects[0]._cartesian_y_grid.shape)\n",
    "print(my_lvmfield.ism.nebulae_objects[0]._cartesian_z_grid.shape)"
   ]
  },
  {
   "cell_type": "code",
   "execution_count": 9,
   "metadata": {
    "collapsed": false,
    "pycharm": {
     "name": "#%%\n"
    }
   },
   "outputs": [
    {
     "name": "stdout",
     "output_type": "stream",
     "text": [
      "[0.         0.03529879 0.07059759 0.10589638 0.14119518 0.17649397\n",
      " 0.21179276 0.24709156 0.28239035 0.31768914 0.35298794 0.38828673\n",
      " 0.42358553 0.45888432 0.49418311 0.52948191 0.5647807  0.6000795\n",
      " 0.63537829 0.67067708 0.70597588 0.74127467 0.77657346 0.81187226\n",
      " 0.84717105 0.88246985 0.91776864 0.95306743 0.98836623 1.02366502\n",
      " 1.05896382 1.09426261 1.1295614  1.1648602  1.20015899 1.23545779\n",
      " 1.27075658 1.30605537 1.34135417 1.37665296 1.41195175 1.44725055\n",
      " 1.48254934 1.51784814 1.55314693 1.58844572 1.62374452 1.65904331\n",
      " 1.69434211 1.7296409  1.76493969 1.80023849 1.83553728 1.87083607\n",
      " 1.90613487 1.94143366 1.97673246 2.01203125 2.04733004 2.08262884\n",
      " 2.11792763 2.15322643 2.18852522 2.22382401 2.25912281 2.2944216\n",
      " 2.32972039 2.36501919 2.40031798 2.43561678 2.47091557 2.50621436\n",
      " 2.54151316 2.57681195 2.61211075 2.64740954 2.68270833 2.71800713\n",
      " 2.75330592 2.78860471 2.82390351 2.8592023  2.8945011  2.92979989\n",
      " 2.96509868 3.00039748 3.03569627 3.07099507 3.10629386 3.14159265] [ 0.          0.26086957  0.52173913  0.7826087   1.04347826  1.30434783\n",
      "  1.56521739  1.82608696  2.08695652  2.34782609  2.60869565  2.86956522\n",
      "  3.13043478  3.39130435  3.65217391  3.91304348  4.17391304  4.43478261\n",
      "  4.69565217  4.95652174  5.2173913   5.47826087  5.73913043  6.\n",
      "  6.26086957  6.52173913  6.7826087   7.04347826  7.30434783  7.56521739\n",
      "  7.82608696  8.08695652  8.34782609  8.60869565  8.86956522  9.13043478\n",
      "  9.39130435  9.65217391  9.91304348 10.17391304 10.43478261 10.69565217\n",
      " 10.95652174 11.2173913  11.47826087 11.73913043 12.         12.26086957\n",
      " 12.52173913 12.7826087  13.04347826 13.30434783 13.56521739 13.82608696\n",
      " 14.08695652 14.34782609 14.60869565 14.86956522 15.13043478 15.39130435\n",
      " 15.65217391 15.91304348 16.17391304 16.43478261 16.69565217 16.95652174\n",
      " 17.2173913  17.47826087 17.73913043 18.        ] pc [0.         0.07059759 0.14119518 0.21179276 0.28239035 0.35298794\n",
      " 0.42358553 0.49418311 0.5647807  0.63537829 0.70597588 0.77657346\n",
      " 0.84717105 0.91776864 0.98836623 1.05896382 1.1295614  1.20015899\n",
      " 1.27075658 1.34135417 1.41195175 1.48254934 1.55314693 1.62374452\n",
      " 1.69434211 1.76493969 1.83553728 1.90613487 1.97673246 2.04733004\n",
      " 2.11792763 2.18852522 2.25912281 2.32972039 2.40031798 2.47091557\n",
      " 2.54151316 2.61211075 2.68270833 2.75330592 2.82390351 2.8945011\n",
      " 2.96509868 3.03569627 3.10629386 3.17689145 3.24748904 3.31808662\n",
      " 3.38868421 3.4592818  3.52987939 3.60047697 3.67107456 3.74167215\n",
      " 3.81226974 3.88286732 3.95346491 4.0240625  4.09466009 4.16525768\n",
      " 4.23585526 4.30645285 4.37705044 4.44764803 4.51824561 4.5888432\n",
      " 4.65944079 4.73003838 4.80063597 4.87123355 4.94183114 5.01242873\n",
      " 5.08302632 5.1536239  5.22422149 5.29481908 5.36541667 5.43601425\n",
      " 5.50661184 5.57720943 5.64780702 5.71840461 5.78900219 5.85959978\n",
      " 5.93019737 6.00079496 6.07139254 6.14199013 6.21258772 6.28318531]\n"
     ]
    }
   ],
   "source": [
    "print(my_lvmfield.ism.nebulae_objects[0]._theta_grid,\n",
    "      my_lvmfield.ism.nebulae_objects[0]._rad_grid,\n",
    "      my_lvmfield.ism.nebulae_objects[0]._phi_grid)"
   ]
  },
  {
   "cell_type": "markdown",
   "metadata": {
    "collapsed": false,
    "pycharm": {
     "name": "#%% md\n"
    }
   },
   "source": [
    "Similar for 4D, where first dimension is a line ID"
   ]
  },
  {
   "cell_type": "code",
   "execution_count": 10,
   "metadata": {
    "collapsed": false,
    "pycharm": {
     "name": "#%%\n"
    }
   },
   "outputs": [
    {
     "name": "stdout",
     "output_type": "stream",
     "text": [
      "(141, 49, 49, 100)\n",
      "(141, 70, 90, 90)\n"
     ]
    }
   ],
   "source": [
    "print(my_lvmfield.ism.nebulae_objects[0]._brightness_4d_cartesian.shape)\n",
    "print(my_lvmfield.ism.nebulae_objects[0]._brightness_4d_spherical.shape)\n",
    "\n",
    "#print(my_lvmfield.ism.nebulae_objects[0]._brightness_4d_cartesian)\n",
    "#print(my_lvmfield.ism.nebulae_objects[0]._brightness_4d_spherical)\n",
    "\n",
    "#ind5007=100\n",
    "#my_lvmfield.ism.nebulae_objects[0]._brightness_4d_cartesian[ind5007,:,:,:]=pertemcube"
   ]
  },
  {
   "cell_type": "code",
   "execution_count": 11,
   "metadata": {},
   "outputs": [],
   "source": [
    "hdu1=fits.PrimaryHDU(my_lvmfield.ism.nebulae_objects[0]._brightness_4d_cartesian)\n",
    "hdul1=fits.HDUList([hdu1])\n",
    "hdul1.writeto('cube_4D_cart.fits', overwrite=True)"
   ]
  },
  {
   "cell_type": "code",
   "execution_count": 12,
   "metadata": {},
   "outputs": [],
   "source": [
    "hdu1=fits.PrimaryHDU(my_lvmfield.ism.nebulae_objects[0]._brightness_3d_cartesian)\n",
    "hdul1=fits.HDUList([hdu1])\n",
    "hdul1.writeto('cube_3D_cart.fits', overwrite=True)"
   ]
  },
  {
   "cell_type": "code",
   "execution_count": 13,
   "metadata": {},
   "outputs": [],
   "source": [
    "hdu=fits.PrimaryHDU(my_lvmfield.ism.nebulae_objects[0]._brightness_4d_spherical)\n",
    "hdul=fits.HDUList([hdu])\n",
    "hdul.writeto('cube_sph.fits', overwrite=True) #storing 4D cube in fits format (spherical coordinate)"
   ]
  },
  {
   "cell_type": "code",
   "execution_count": 53,
   "metadata": {},
   "outputs": [
    {
     "name": "stdout",
     "output_type": "stream",
     "text": [
      "0.0 1.6485494914890712e-08 4.619502831194954e-08 1.8416174297160965e-10 (141, 70, 90, 90)\n"
     ]
    }
   ],
   "source": [
    "#Reading fits file\n",
    "hdul1=fits.open('cube_sph.fits')\n",
    "data=hdul1[0].data\n",
    "print(data[100, 10, 20, 30], data[10, 20, 10, 10], data[140, 20, 30, 10], data[140, 69, 89, 89], data.shape)\n"
   ]
  },
  {
   "cell_type": "code",
   "execution_count": 63,
   "metadata": {},
   "outputs": [
    {
     "name": "stdout",
     "output_type": "stream",
     "text": [
      "[6.90848741e-11 1.47518404e-11 5.58428223e-08 9.84310992e-09\n",
      " 8.94512595e-09 9.14154304e-09 9.79337848e-09 1.07724139e-08\n",
      " 1.20666943e-08 1.37171966e-08 1.58000536e-08 1.84219449e-08\n",
      " 1.91813305e-11 2.17523536e-08 3.68165132e-10 2.60326513e-08\n",
      " 1.64081016e-07 2.18903400e-07 3.16173544e-08 3.90474520e-08\n",
      " 4.91519086e-08 4.26945953e-08 7.65922524e-12 2.38747426e-12\n",
      " 5.84546125e-08 5.06772576e-15 2.81338566e-12 5.54975489e-11\n",
      " 8.34737334e-08 3.38947721e-12 4.26014852e-10 1.83674938e-10\n",
      " 1.53812407e-15 1.25855215e-07 4.42996323e-12 1.43533263e-11\n",
      " 4.04876789e-09 1.30966428e-09 2.04311386e-07 5.03397205e-13\n",
      " 7.63162377e-12 5.68908408e-10 1.01513383e-09 3.69259287e-07\n",
      " 7.43323785e-10 1.37979364e-17 1.47029799e-11 5.21834870e-10\n",
      " 8.70629904e-10 3.18230959e-11 2.54288773e-10 9.69618170e-11\n",
      " 1.18708063e-09 2.17948394e-08 4.87515077e-10 4.88400461e-21\n",
      " 6.92393858e-09 0.00000000e+00 1.53474769e-12 1.74448735e-09\n",
      " 0.00000000e+00 3.98576682e-09 2.32062209e-09 8.28977273e-10\n",
      " 8.71068496e-10 7.90351908e-07 5.46183337e-09 7.50716744e-10\n",
      " 3.23256896e-11 6.64325272e-10 9.97464428e-15 9.37803555e-10\n",
      " 2.97602988e-14 3.05009745e-09 6.01494897e-10 4.98507721e-12\n",
      " 5.17710072e-10 3.93204985e-09 2.25081744e-10 2.14475877e-10\n",
      " 1.34770878e-09 2.13117445e-08 9.79841715e-10 1.92719777e-09\n",
      " 1.04474911e-09 7.43022246e-10 7.09122088e-10 9.84900389e-11\n",
      " 7.32522644e-10 6.90943427e-10 2.34000254e-10 1.20320021e-07\n",
      " 2.25824307e-06 3.54678491e-07 8.44466636e-11 1.72307999e-07\n",
      " 1.33871556e-07 9.08020306e-12 3.66753399e-14 1.71389222e-09\n",
      " 4.23683112e-11 1.97103485e-10 5.81622821e-10 3.28862781e-10\n",
      " 3.13039975e-10 4.03798725e-09 2.01894077e-09 8.70599977e-15\n",
      " 0.00000000e+00 1.71224840e-08 3.01784288e-09 2.74227132e-09\n",
      " 2.80216899e-09 3.00168113e-09 3.30126873e-09 3.69734055e-09\n",
      " 4.20206851e-09 4.83913530e-09 5.64082231e-09 9.20537578e-10\n",
      " 6.65855781e-09 7.04727662e-09 7.96544188e-09 1.52965132e-08\n",
      " 4.71457250e-10 9.66910786e-09 1.19334801e-08 1.50077484e-08\n",
      " 4.58945480e-09 1.53664444e-08 3.36035832e-09 1.98309947e-12\n",
      " 6.85379434e-08 2.54649204e-09 2.11121077e-08 5.63516268e-13\n",
      " 2.48948297e-12 2.20667634e-12 1.72161666e-07 3.02537194e-08\n",
      " 4.57734176e-08] (141, 49, 49, 100) (49, 49, 100)\n"
     ]
    }
   ],
   "source": [
    "with fits.open('cube_4D_cart.fits') as hdul:\n",
    "    data=hdul[0].data\n",
    "\n",
    "print(data[:, 10,20,30], data.shape, data[0, :].shape)"
   ]
  },
  {
   "cell_type": "code",
   "execution_count": 92,
   "metadata": {},
   "outputs": [
    {
     "name": "stdout",
     "output_type": "stream",
     "text": [
      "(141, 49, 49, 100) 2.258243067783357e-06 [3.33870847e-09 6.28475391e-09 5.67530107e-08 1.00823341e-08\n",
      " 9.19968952e-09 9.42127632e-09 1.01053033e-08 1.11228709e-08\n",
      " 1.24630785e-08 1.41662218e-08 1.63162063e-08 1.90200017e-08\n",
      " 8.99213086e-09 2.24550440e-08 6.39659701e-10 2.68732182e-08\n",
      " 2.23174875e-07 2.95972343e-07 3.26463923e-08 4.03321732e-08\n",
      " 5.07903260e-08 4.46510015e-08 7.45456418e-09 7.93162083e-10\n",
      " 6.10764072e-08 2.52565009e-10 1.05159076e-09 6.27986809e-08\n",
      " 8.71391732e-08 1.44401250e-09 5.83776304e-10 6.69199031e-09\n",
      " 7.66576973e-11 1.31304689e-07 2.07672904e-09 1.34435995e-08\n",
      " 4.16625318e-09 1.34696934e-09 2.13079793e-07 8.62949750e-10\n",
      " 1.99558957e-09 3.68334619e-10 6.28692960e-10 3.84917182e-07\n",
      " 4.60363075e-10 1.31953193e-11 3.61072353e-09 3.23175085e-10\n",
      " 5.41987713e-10 2.80173558e-08 2.43127156e-10 9.25275856e-11\n",
      " 1.76907295e-09 3.23839131e-08 7.28924454e-10 3.30334595e-14\n",
      " 1.03186462e-08 8.11321212e-13 2.35501752e-09 2.60839997e-09\n",
      " 5.65427694e-13 5.92208753e-09 3.45834949e-09 1.23949360e-09\n",
      " 5.42222259e-10 8.23040025e-07 8.05765462e-09 4.52763008e-10\n",
      " 7.61873639e-09 9.73544100e-10 7.49312082e-09 1.38351587e-09\n",
      " 2.23564455e-08 4.50279144e-09 1.67090470e-08 9.34770612e-10\n",
      " 7.64297770e-10 2.37998329e-09 1.30621685e-10 1.31040381e-10\n",
      " 8.16533062e-10 3.10886781e-08 5.90964552e-10 2.81128177e-09\n",
      " 1.80515596e-09 1.28620246e-09 9.59585047e-10 7.31949493e-08\n",
      " 4.22291119e-10 1.20048298e-09 1.34897136e-10 1.36195807e-07\n",
      " 2.34668105e-06 4.01480627e-07 2.08301373e-08 1.58966783e-07\n",
      " 1.24322318e-07 1.21807155e-08 2.78316741e-08 1.02560628e-09\n",
      " 3.57086567e-09 3.09168645e-10 9.13030642e-10 5.15839350e-10\n",
      " 4.91419049e-10 2.26852263e-09 1.13456662e-09 6.60652133e-09\n",
      " 7.19819345e-13 1.74014252e-08 3.09112516e-09 2.82026480e-09\n",
      " 2.88797576e-09 3.09725879e-09 3.40865056e-09 3.81877161e-09\n",
      " 4.33986843e-09 4.99723935e-09 5.82405643e-09 9.11214480e-10\n",
      " 6.87342405e-09 6.24276212e-09 8.22259109e-09 8.59362809e-09\n",
      " 4.72976761e-10 9.98376544e-09 1.23262519e-08 1.55078960e-08\n",
      " 2.57902005e-09 1.59754997e-08 1.88782424e-09 8.44842363e-10\n",
      " 1.00425989e-07 1.43103167e-09 2.19377260e-08 7.06371000e-10\n",
      " 1.16705624e-09 9.40115661e-10 2.52261983e-07 3.14199820e-08\n",
      " 4.75106216e-08] (141,)\n"
     ]
    }
   ],
   "source": [
    "print(data.shape, np.max(data[:, 10, 20, 30]), data[:, 15, 25, 35], data[:, 0, 0, 0].shape)"
   ]
  },
  {
   "cell_type": "code",
   "execution_count": null,
   "metadata": {},
   "outputs": [],
   "source": []
  }
 ],
 "metadata": {
  "kernelspec": {
   "display_name": "Python 3.9.12 ('base')",
   "language": "python",
   "name": "python3"
  },
  "language_info": {
   "codemirror_mode": {
    "name": "ipython",
    "version": 3
   },
   "file_extension": ".py",
   "mimetype": "text/x-python",
   "name": "python",
   "nbconvert_exporter": "python",
   "pygments_lexer": "ipython3",
   "version": "3.10.11"
  },
  "vscode": {
   "interpreter": {
    "hash": "b943106136f0b7237aa45b13de07160508680759cd2ff79bd892a553daeee42a"
   }
  }
 },
 "nbformat": 4,
 "nbformat_minor": 0
}
