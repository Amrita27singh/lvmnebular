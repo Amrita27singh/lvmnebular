{
 "cells": [
  {
   "cell_type": "markdown",
   "metadata": {
    "collapsed": false,
    "pycharm": {
     "name": "#%% md\n"
    }
   },
   "source": [
    "# How to extract 3D structure of the nebulae from the LVM data simulator"
   ]
  },
  {
   "cell_type": "markdown",
   "metadata": {
    "collapsed": false,
    "pycharm": {
     "name": "#%% md\n"
    }
   },
   "source": [
    "1. Initialize the LVM Field"
   ]
  },
  {
   "cell_type": "code",
   "execution_count": 72,
   "metadata": {
    "collapsed": false,
    "pycharm": {
     "name": "#%%\n"
    }
   },
   "outputs": [],
   "source": [
    "import os\n",
    "from lvmdatasimulator.field import LVMField\n",
    "import astropy.units as u\n",
    "import astropy.table as Table\n",
    "from astropy.io import fits\n",
    "import numpy as np\n",
    "import matplotlib.pyplot as plt\n",
    "#os.chdir('/Users/mors/Science/LVM/Simulator_example/')  # Your top-level working directory\n",
    "os.chdir('/home/amrita/LVM/lvmnebular/')"
   ]
  },
  {
   "cell_type": "code",
   "execution_count": 73,
   "metadata": {
    "collapsed": false,
    "pycharm": {
     "name": "#%%\n"
    }
   },
   "outputs": [],
   "source": [
    "#Some random of the LVM Field\n",
    "'''\n",
    "ra = 12.34 # u.degree\n",
    "dec = -20.35 # u.degree\n",
    "fov_size = 35 # u.arcmin\n",
    "fov_pixel = 1 # u.arcsec\n",
    "distance = 50 # * u.kpc\n",
    "sys_vel = 0 #* u.km / u.s\n",
    "turbulent_sigma = 20 #* u.km / u.s\n",
    "preserve_kinematics = False\n",
    "'''\n",
    "#specifing parameters\n",
    "ra = 90.5625 # u.degree\n",
    "dec = 4.998333 # u.degree\n",
    "fov_size = 10 # u.arcmin\n",
    "fov_pixel = 10 # u.arcsec\n",
    "distance = 16.0 * u.kpc\n",
    "sys_vel = 20 #* u.km / u.s\n",
    "turbulent_sigma = 15 #* u.km / u.s\n",
    "preserve_kinematics = False\n",
    "\n",
    "unit_ra = u.degree\n",
    "unit_dec = u.degree\n",
    "unit_size = u.arcmin\n",
    "unit_pixel = u.arcsec\n",
    "\n",
    "name = 'LVM_extract3D'\n",
    "my_lvmfield = LVMField(ra=ra, dec=dec, size=fov_size, pxsize=fov_pixel, name=name,\n",
    "                       unit_ra=unit_ra, unit_dec=unit_dec, unit_size=unit_size, unit_pxsize=unit_pixel,\n",
    "                       ism_params={'distance': distance, 'sys_velocity': sys_vel, 'turbulent_sigma': turbulent_sigma,\n",
    "                                   'preserve_kinematics': preserve_kinematics})"
   ]
  },
  {
   "cell_type": "markdown",
   "metadata": {
    "collapsed": false,
    "pycharm": {
     "name": "#%% md\n"
    }
   },
   "source": [
    "2. Define the properties of the nebula to be simulated\n",
    "Let's simulate only a Bubble in our FOV"
   ]
  },
  {
   "cell_type": "code",
   "execution_count": 74,
   "metadata": {
    "collapsed": false,
    "pycharm": {
     "name": "#%%\n"
    }
   },
   "outputs": [],
   "source": [
    "'''\n",
    "my_nebulae = [{'type': 'Bubble3D',\n",
    "               'max_brightness': 1.e-14,\n",
    "               'thickness': 0.85,\n",
    "               'radius': 10*u.pc,\n",
    "               'expansion_velocity': 15,\n",
    "                'turbulent_sigma': 15,\n",
    "                'sys_velocity': 0,\n",
    "               'model_params': {'Z': 0.6, 'qH': 50, 'nH': 100, 'Geometry': 'Cloud', 'Teff': 35000.},\n",
    "               'model_type': 'cloudy',\n",
    "               'offset_RA':0,\n",
    "               'offset_DEC':-20},\n",
    "              ]\n",
    "'''\n",
    "my_nebulae = [{'type': 'Bubble3D',\n",
    "               'max_brightness': 5e-14,\n",
    "               'thickness': 0.8,\n",
    "               'radius': 18*u.pc,\n",
    "               'expansion_velocity': 10,\n",
    "                'turbulent_sigma': 15,\n",
    "                'sys_velocity': 10,\n",
    "               'model_params': {'Z': 1.0, 'qH': 50., 'nH': 100, 'Geometry': 'Shell', 'Teff': 40000.},\n",
    "               'model_type': 'cloudy',\n",
    "               'offset_RA':0,\n",
    "               'offset_DEC':0},\n",
    "              ]"
   ]
  },
  {
   "cell_type": "markdown",
   "metadata": {
    "collapsed": false,
    "pycharm": {
     "name": "#%% md\n"
    }
   },
   "source": [
    "3. Add this nebula to the LVM Field"
   ]
  },
  {
   "cell_type": "code",
   "execution_count": 75,
   "metadata": {
    "collapsed": false,
    "pycharm": {
     "name": "#%%\n"
    }
   },
   "outputs": [
    {
     "name": "stderr",
     "output_type": "stream",
     "text": [
      "\u001b[0;34m[INFO]: \u001b[0mStart generating 1 nebulae\n",
      "\u001b[1;33m[WARNING]: \u001b[0mUse the closest pre-computed model with id = Shell_921. Its parameters: Geometry = Shell; Z = 1.0; qH = 50.0; LogLsun = 6.5; Teff = 30000.0; nH = 100.0; \n"
     ]
    }
   ],
   "source": [
    "my_lvmfield.add_nebulae(my_nebulae)"
   ]
  },
  {
   "cell_type": "markdown",
   "metadata": {
    "collapsed": false,
    "pycharm": {
     "name": "#%% md\n"
    }
   },
   "source": [
    "4. Perfect! Now you have access to all the properties of the nebulae considered in the simulator."
   ]
  },
  {
   "cell_type": "code",
   "execution_count": 76,
   "metadata": {
    "collapsed": false,
    "pycharm": {
     "name": "#%%\n"
    }
   },
   "outputs": [
    {
     "name": "stdout",
     "output_type": "stream",
     "text": [
      "5e-14 erg / (s arcsec2 cm2)\n",
      "0.8\n",
      "18.0 pc\n",
      "10.0 km / s\n"
     ]
    }
   ],
   "source": [
    "print(my_lvmfield.ism.nebulae_objects[0].max_brightness)\n",
    "print(my_lvmfield.ism.nebulae_objects[0].thickness)\n",
    "print(my_lvmfield.ism.nebulae_objects[0].radius)\n",
    "print(my_lvmfield.ism.nebulae_objects[0].expansion_velocity)\n"
   ]
  },
  {
   "cell_type": "markdown",
   "metadata": {
    "collapsed": false,
    "pycharm": {
     "name": "#%% md\n"
    }
   },
   "source": [
    "One access the relative 3D brightness distribution in cartesian or in spherical coordinates."
   ]
  },
  {
   "cell_type": "code",
   "execution_count": 77,
   "metadata": {
    "collapsed": false,
    "pycharm": {
     "name": "#%%\n"
    }
   },
   "outputs": [
    {
     "name": "stdout",
     "output_type": "stream",
     "text": [
      "(49, 49, 100)\n",
      "(70, 90, 90)\n",
      "2.204585537918871e-06\n"
     ]
    }
   ],
   "source": [
    "print(my_lvmfield.ism.nebulae_objects[0]._brightness_3d_cartesian.shape)  # nz, ny, nx, where nx is along line-of-sight\n",
    "print(my_lvmfield.ism.nebulae_objects[0]._brightness_3d_spherical.shape)  # rad, theta, phi\n",
    "\n",
    "c3D=my_lvmfield.ism.nebulae_objects[0]._brightness_3d_cartesian #\n",
    "print(c3D[10,20,30]) #considering uniform brightness in each shell=1 (default)\n"
   ]
  },
  {
   "cell_type": "code",
   "execution_count": 78,
   "metadata": {
    "collapsed": false,
    "pycharm": {
     "name": "#%%\n"
    }
   },
   "outputs": [
    {
     "name": "stdout",
     "output_type": "stream",
     "text": [
      "(100,)\n",
      "(49,)\n",
      "(49,)\n"
     ]
    }
   ],
   "source": [
    "print(my_lvmfield.ism.nebulae_objects[0]._cartesian_x_grid.shape)  # this one is along line-of-sight\n",
    "print(my_lvmfield.ism.nebulae_objects[0]._cartesian_y_grid.shape)\n",
    "print(my_lvmfield.ism.nebulae_objects[0]._cartesian_z_grid.shape)"
   ]
  },
  {
   "cell_type": "code",
   "execution_count": 79,
   "metadata": {
    "collapsed": false,
    "pycharm": {
     "name": "#%%\n"
    }
   },
   "outputs": [
    {
     "name": "stdout",
     "output_type": "stream",
     "text": [
      "[0.         0.03529879 0.07059759 0.10589638 0.14119518 0.17649397\n",
      " 0.21179276 0.24709156 0.28239035 0.31768914 0.35298794 0.38828673\n",
      " 0.42358553 0.45888432 0.49418311 0.52948191 0.5647807  0.6000795\n",
      " 0.63537829 0.67067708 0.70597588 0.74127467 0.77657346 0.81187226\n",
      " 0.84717105 0.88246985 0.91776864 0.95306743 0.98836623 1.02366502\n",
      " 1.05896382 1.09426261 1.1295614  1.1648602  1.20015899 1.23545779\n",
      " 1.27075658 1.30605537 1.34135417 1.37665296 1.41195175 1.44725055\n",
      " 1.48254934 1.51784814 1.55314693 1.58844572 1.62374452 1.65904331\n",
      " 1.69434211 1.7296409  1.76493969 1.80023849 1.83553728 1.87083607\n",
      " 1.90613487 1.94143366 1.97673246 2.01203125 2.04733004 2.08262884\n",
      " 2.11792763 2.15322643 2.18852522 2.22382401 2.25912281 2.2944216\n",
      " 2.32972039 2.36501919 2.40031798 2.43561678 2.47091557 2.50621436\n",
      " 2.54151316 2.57681195 2.61211075 2.64740954 2.68270833 2.71800713\n",
      " 2.75330592 2.78860471 2.82390351 2.8592023  2.8945011  2.92979989\n",
      " 2.96509868 3.00039748 3.03569627 3.07099507 3.10629386 3.14159265] [ 0.          0.26086957  0.52173913  0.7826087   1.04347826  1.30434783\n",
      "  1.56521739  1.82608696  2.08695652  2.34782609  2.60869565  2.86956522\n",
      "  3.13043478  3.39130435  3.65217391  3.91304348  4.17391304  4.43478261\n",
      "  4.69565217  4.95652174  5.2173913   5.47826087  5.73913043  6.\n",
      "  6.26086957  6.52173913  6.7826087   7.04347826  7.30434783  7.56521739\n",
      "  7.82608696  8.08695652  8.34782609  8.60869565  8.86956522  9.13043478\n",
      "  9.39130435  9.65217391  9.91304348 10.17391304 10.43478261 10.69565217\n",
      " 10.95652174 11.2173913  11.47826087 11.73913043 12.         12.26086957\n",
      " 12.52173913 12.7826087  13.04347826 13.30434783 13.56521739 13.82608696\n",
      " 14.08695652 14.34782609 14.60869565 14.86956522 15.13043478 15.39130435\n",
      " 15.65217391 15.91304348 16.17391304 16.43478261 16.69565217 16.95652174\n",
      " 17.2173913  17.47826087 17.73913043 18.        ] pc [0.         0.07059759 0.14119518 0.21179276 0.28239035 0.35298794\n",
      " 0.42358553 0.49418311 0.5647807  0.63537829 0.70597588 0.77657346\n",
      " 0.84717105 0.91776864 0.98836623 1.05896382 1.1295614  1.20015899\n",
      " 1.27075658 1.34135417 1.41195175 1.48254934 1.55314693 1.62374452\n",
      " 1.69434211 1.76493969 1.83553728 1.90613487 1.97673246 2.04733004\n",
      " 2.11792763 2.18852522 2.25912281 2.32972039 2.40031798 2.47091557\n",
      " 2.54151316 2.61211075 2.68270833 2.75330592 2.82390351 2.8945011\n",
      " 2.96509868 3.03569627 3.10629386 3.17689145 3.24748904 3.31808662\n",
      " 3.38868421 3.4592818  3.52987939 3.60047697 3.67107456 3.74167215\n",
      " 3.81226974 3.88286732 3.95346491 4.0240625  4.09466009 4.16525768\n",
      " 4.23585526 4.30645285 4.37705044 4.44764803 4.51824561 4.5888432\n",
      " 4.65944079 4.73003838 4.80063597 4.87123355 4.94183114 5.01242873\n",
      " 5.08302632 5.1536239  5.22422149 5.29481908 5.36541667 5.43601425\n",
      " 5.50661184 5.57720943 5.64780702 5.71840461 5.78900219 5.85959978\n",
      " 5.93019737 6.00079496 6.07139254 6.14199013 6.21258772 6.28318531]\n"
     ]
    }
   ],
   "source": [
    "print(my_lvmfield.ism.nebulae_objects[0]._theta_grid,\n",
    "      my_lvmfield.ism.nebulae_objects[0]._rad_grid,\n",
    "      my_lvmfield.ism.nebulae_objects[0]._phi_grid)"
   ]
  },
  {
   "cell_type": "markdown",
   "metadata": {
    "collapsed": false,
    "pycharm": {
     "name": "#%% md\n"
    }
   },
   "source": [
    "Similar for 4D, where first dimension is a line ID"
   ]
  },
  {
   "cell_type": "code",
   "execution_count": 80,
   "metadata": {
    "collapsed": false,
    "pycharm": {
     "name": "#%%\n"
    }
   },
   "outputs": [
    {
     "name": "stdout",
     "output_type": "stream",
     "text": [
      "(141, 49, 49, 100)\n",
      "(141, 70, 90, 90)\n"
     ]
    }
   ],
   "source": [
    "print(my_lvmfield.ism.nebulae_objects[0]._brightness_4d_cartesian.shape)\n",
    "print(my_lvmfield.ism.nebulae_objects[0]._brightness_4d_spherical.shape)\n",
    "\n",
    "#print(my_lvmfield.ism.nebulae_objects[0]._brightness_4d_cartesian)\n",
    "#print(my_lvmfield.ism.nebulae_objects[0]._brightness_4d_spherical)"
   ]
  },
  {
   "cell_type": "code",
   "execution_count": 82,
   "metadata": {},
   "outputs": [],
   "source": [
    "hdu=fits.PrimaryHDU(my_lvmfield.ism.nebulae_objects[0]._brightness_4d_spherical)\n",
    "hdul=fits.HDUList([hdu])\n",
    "hdul.writeto('cube_sph.fits', overwrite=True) #storing 4D cube in fits format (spherical coordinate)"
   ]
  },
  {
   "cell_type": "code",
   "execution_count": 83,
   "metadata": {},
   "outputs": [
    {
     "name": "stdout",
     "output_type": "stream",
     "text": [
      "0.0 1.6485494914890712e-08 4.619502831194954e-08 1.8416174297160965e-10 (141, 70, 90, 90)\n"
     ]
    }
   ],
   "source": [
    "#Reading fits file\n",
    "hdul1=fits.open('cube_sph.fits')\n",
    "data=hdul1[0].data\n",
    "print(data[100, 0, 0, 0], data[10, 20, 10, 10], data[140, 20, 30, 10], data[140, 69, 89, 89], data.shape)\n"
   ]
  },
  {
   "cell_type": "code",
   "execution_count": null,
   "metadata": {},
   "outputs": [],
   "source": []
  }
 ],
 "metadata": {
  "kernelspec": {
   "display_name": "Python 3.9.12 ('base')",
   "language": "python",
   "name": "python3"
  },
  "language_info": {
   "codemirror_mode": {
    "name": "ipython",
    "version": 3
   },
   "file_extension": ".py",
   "mimetype": "text/x-python",
   "name": "python",
   "nbconvert_exporter": "python",
   "pygments_lexer": "ipython3",
   "version": "3.10.11"
  },
  "vscode": {
   "interpreter": {
    "hash": "b943106136f0b7237aa45b13de07160508680759cd2ff79bd892a553daeee42a"
   }
  }
 },
 "nbformat": 4,
 "nbformat_minor": 0
}
