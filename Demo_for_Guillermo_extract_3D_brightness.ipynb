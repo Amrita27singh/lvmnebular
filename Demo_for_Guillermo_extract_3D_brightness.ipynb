{
 "cells": [
  {
   "cell_type": "markdown",
   "metadata": {
    "collapsed": false,
    "pycharm": {
     "name": "#%% md\n"
    }
   },
   "source": [
    "# How to extract 3D structure of the nebulae from the LVM data simulator"
   ]
  },
  {
   "cell_type": "markdown",
   "metadata": {
    "collapsed": false,
    "pycharm": {
     "name": "#%% md\n"
    }
   },
   "source": [
    "1. Initialize the LVM Field"
   ]
  },
  {
   "cell_type": "code",
   "execution_count": 24,
   "metadata": {
    "collapsed": false,
    "pycharm": {
     "name": "#%%\n"
    }
   },
   "outputs": [],
   "source": [
    "import os\n",
    "from lvmdatasimulator.field import LVMField\n",
    "import astropy.units as u\n",
    "import astropy.table as Table\n",
    "from astropy.io import fits\n",
    "import numpy as np\n",
    "import matplotlib.pyplot as plt\n",
    "#os.chdir('/Users/mors/Science/LVM/Simulator_example/')  # Your top-level working directory\n",
    "os.chdir('/home/amrita/LVM/lvmnebular/')"
   ]
  },
  {
   "cell_type": "code",
   "execution_count": 25,
   "metadata": {
    "collapsed": false,
    "pycharm": {
     "name": "#%%\n"
    }
   },
   "outputs": [],
   "source": [
    "#Some random of the LVM Field\n",
    "'''\n",
    "ra = 12.34 # u.degree\n",
    "dec = -20.35 # u.degree\n",
    "fov_size = 35 # u.arcmin\n",
    "fov_pixel = 1 # u.arcsec\n",
    "distance = 50 # * u.kpc\n",
    "sys_vel = 0 #* u.km / u.s\n",
    "turbulent_sigma = 20 #* u.km / u.s\n",
    "preserve_kinematics = False\n",
    "'''\n",
    "#specifing parameters\n",
    "ra = 90.5625 # u.degree\n",
    "dec = 4.998333 # u.degree\n",
    "fov_size = 10 # u.arcmin\n",
    "fov_pixel = 10 # u.arcsec\n",
    "distance = 16.0 * u.kpc\n",
    "sys_vel = 20 #* u.km / u.s\n",
    "turbulent_sigma = 15 #* u.km / u.s\n",
    "preserve_kinematics = False\n",
    "\n",
    "unit_ra = u.degree\n",
    "unit_dec = u.degree\n",
    "unit_size = u.arcmin\n",
    "unit_pixel = u.arcsec\n",
    "\n",
    "name = 'LVM_extract3D'\n",
    "my_lvmfield = LVMField(ra=ra, dec=dec, size=fov_size, pxsize=fov_pixel, name=name,\n",
    "                       unit_ra=unit_ra, unit_dec=unit_dec, unit_size=unit_size, unit_pxsize=unit_pixel,\n",
    "                       ism_params={'distance': distance, 'sys_velocity': sys_vel, 'turbulent_sigma': turbulent_sigma,\n",
    "                                   'preserve_kinematics': preserve_kinematics})"
   ]
  },
  {
   "cell_type": "markdown",
   "metadata": {
    "collapsed": false,
    "pycharm": {
     "name": "#%% md\n"
    }
   },
   "source": [
    "2. Define the properties of the nebula to be simulated\n",
    "Let's simulate only a Bubble in our FOV"
   ]
  },
  {
   "cell_type": "code",
   "execution_count": 26,
   "metadata": {
    "collapsed": false,
    "pycharm": {
     "name": "#%%\n"
    }
   },
   "outputs": [],
   "source": [
    "'''\n",
    "my_nebulae = [{'type': 'Bubble3D',\n",
    "               'max_brightness': 1.e-14,\n",
    "               'thickness': 0.85,\n",
    "               'radius': 10*u.pc,\n",
    "               'expansion_velocity': 15,\n",
    "                'turbulent_sigma': 15,\n",
    "                'sys_velocity': 0,\n",
    "               'model_params': {'Z': 0.6, 'qH': 50, 'nH': 100, 'Geometry': 'Cloud', 'Teff': 35000.},\n",
    "               'model_type': 'cloudy',\n",
    "               'offset_RA':0,\n",
    "               'offset_DEC':-20},\n",
    "              ]\n",
    "'''\n",
    "my_nebulae = [{'type': 'Bubble3D',\n",
    "               'max_brightness': 1e-8,\n",
    "               'thickness': 0.8,\n",
    "               'radius': 18*u.pc,\n",
    "               'expansion_velocity': 10,\n",
    "                'turbulent_sigma': 15,\n",
    "                'sys_velocity': 10,\n",
    "               'model_params': {'Z': 1.0, 'qH': 50., 'nH': 100, 'Geometry': 'Shell', 'Teff': 40000.},\n",
    "               'model_type': 'cloudy',\n",
    "               'offset_RA':0,\n",
    "               'offset_DEC':0},\n",
    "              ]"
   ]
  },
  {
   "cell_type": "markdown",
   "metadata": {
    "collapsed": false,
    "pycharm": {
     "name": "#%% md\n"
    }
   },
   "source": [
    "3. Add this nebula to the LVM Field"
   ]
  },
  {
   "cell_type": "code",
   "execution_count": 27,
   "metadata": {
    "collapsed": false,
    "pycharm": {
     "name": "#%%\n"
    }
   },
   "outputs": [
    {
     "name": "stderr",
     "output_type": "stream",
     "text": [
      "\u001b[0;34m[INFO]: \u001b[0mStart generating 1 nebulae\n",
      "\u001b[1;33m[WARNING]: \u001b[0mUse the closest pre-computed model with id = Shell_921. Its parameters: Geometry = Shell; Z = 1.0; qH = 50.0; LogLsun = 6.5; Teff = 30000.0; nH = 100.0; \n"
     ]
    }
   ],
   "source": [
    "my_lvmfield.add_nebulae(my_nebulae)"
   ]
  },
  {
   "cell_type": "markdown",
   "metadata": {
    "collapsed": false,
    "pycharm": {
     "name": "#%% md\n"
    }
   },
   "source": [
    "4. Perfect! Now you have access to all the properties of the nebulae considered in the simulator."
   ]
  },
  {
   "cell_type": "code",
   "execution_count": 28,
   "metadata": {
    "collapsed": false,
    "pycharm": {
     "name": "#%%\n"
    }
   },
   "outputs": [
    {
     "name": "stdout",
     "output_type": "stream",
     "text": [
      "1e-08 erg / (s arcsec2 cm2)\n",
      "0.8\n",
      "18.0 pc\n",
      "10.0 km / s\n"
     ]
    }
   ],
   "source": [
    "print(my_lvmfield.ism.nebulae_objects[0].max_brightness)\n",
    "print(my_lvmfield.ism.nebulae_objects[0].thickness)\n",
    "print(my_lvmfield.ism.nebulae_objects[0].radius)\n",
    "print(my_lvmfield.ism.nebulae_objects[0].expansion_velocity)\n"
   ]
  },
  {
   "cell_type": "markdown",
   "metadata": {
    "collapsed": false,
    "pycharm": {
     "name": "#%% md\n"
    }
   },
   "source": [
    "One access the relative 3D brightness distribution in cartesian or in spherical coordinates."
   ]
  },
  {
   "cell_type": "code",
   "execution_count": 29,
   "metadata": {
    "collapsed": false,
    "pycharm": {
     "name": "#%%\n"
    }
   },
   "outputs": [
    {
     "name": "stdout",
     "output_type": "stream",
     "text": [
      "(49, 49, 100)\n",
      "(70, 90, 90)\n",
      "2.204585537918871e-06\n"
     ]
    }
   ],
   "source": [
    "print(my_lvmfield.ism.nebulae_objects[0]._brightness_3d_cartesian.shape)  # nz, ny, nx, where nx is along line-of-sight\n",
    "print(my_lvmfield.ism.nebulae_objects[0]._brightness_3d_spherical.shape)  # rad, theta, phi\n",
    "\n",
    "c3D=my_lvmfield.ism.nebulae_objects[0]._brightness_3d_cartesian #\n",
    "print(c3D[10,20,30]) #considering uniform brightness in each shell=1 (default)\n"
   ]
  },
  {
   "cell_type": "code",
   "execution_count": 30,
   "metadata": {
    "collapsed": false,
    "pycharm": {
     "name": "#%%\n"
    }
   },
   "outputs": [
    {
     "name": "stdout",
     "output_type": "stream",
     "text": [
      "(100,)\n",
      "(49,)\n",
      "(49,)\n"
     ]
    }
   ],
   "source": [
    "print(my_lvmfield.ism.nebulae_objects[0]._cartesian_x_grid.shape)  # this one is along line-of-sight\n",
    "print(my_lvmfield.ism.nebulae_objects[0]._cartesian_y_grid.shape)\n",
    "print(my_lvmfield.ism.nebulae_objects[0]._cartesian_z_grid.shape)"
   ]
  },
  {
   "cell_type": "code",
   "execution_count": 31,
   "metadata": {
    "collapsed": false,
    "pycharm": {
     "name": "#%%\n"
    }
   },
   "outputs": [
    {
     "data": {
      "text/plain": [
       "array([0.        , 0.07059759, 0.14119518, 0.21179276, 0.28239035,\n",
       "       0.35298794, 0.42358553, 0.49418311, 0.5647807 , 0.63537829,\n",
       "       0.70597588, 0.77657346, 0.84717105, 0.91776864, 0.98836623,\n",
       "       1.05896382, 1.1295614 , 1.20015899, 1.27075658, 1.34135417,\n",
       "       1.41195175, 1.48254934, 1.55314693, 1.62374452, 1.69434211,\n",
       "       1.76493969, 1.83553728, 1.90613487, 1.97673246, 2.04733004,\n",
       "       2.11792763, 2.18852522, 2.25912281, 2.32972039, 2.40031798,\n",
       "       2.47091557, 2.54151316, 2.61211075, 2.68270833, 2.75330592,\n",
       "       2.82390351, 2.8945011 , 2.96509868, 3.03569627, 3.10629386,\n",
       "       3.17689145, 3.24748904, 3.31808662, 3.38868421, 3.4592818 ,\n",
       "       3.52987939, 3.60047697, 3.67107456, 3.74167215, 3.81226974,\n",
       "       3.88286732, 3.95346491, 4.0240625 , 4.09466009, 4.16525768,\n",
       "       4.23585526, 4.30645285, 4.37705044, 4.44764803, 4.51824561,\n",
       "       4.5888432 , 4.65944079, 4.73003838, 4.80063597, 4.87123355,\n",
       "       4.94183114, 5.01242873, 5.08302632, 5.1536239 , 5.22422149,\n",
       "       5.29481908, 5.36541667, 5.43601425, 5.50661184, 5.57720943,\n",
       "       5.64780702, 5.71840461, 5.78900219, 5.85959978, 5.93019737,\n",
       "       6.00079496, 6.07139254, 6.14199013, 6.21258772, 6.28318531])"
      ]
     },
     "execution_count": 31,
     "metadata": {},
     "output_type": "execute_result"
    }
   ],
   "source": [
    "my_lvmfield.ism.nebulae_objects[0]._theta_grid,\n",
    "my_lvmfield.ism.nebulae_objects[0]._rad_grid,\n",
    "my_lvmfield.ism.nebulae_objects[0]._phi_grid"
   ]
  },
  {
   "cell_type": "markdown",
   "metadata": {
    "collapsed": false,
    "pycharm": {
     "name": "#%% md\n"
    }
   },
   "source": [
    "Similar for 4D, where first dimension is a line ID"
   ]
  },
  {
   "cell_type": "code",
   "execution_count": 32,
   "metadata": {
    "collapsed": false,
    "pycharm": {
     "name": "#%%\n"
    }
   },
   "outputs": [
    {
     "name": "stdout",
     "output_type": "stream",
     "text": [
      "(141, 49, 49, 100)\n",
      "(141, 70, 90, 90)\n"
     ]
    }
   ],
   "source": [
    "print(my_lvmfield.ism.nebulae_objects[0]._brightness_4d_cartesian.shape)\n",
    "print(my_lvmfield.ism.nebulae_objects[0]._brightness_4d_spherical.shape)\n",
    "\n",
    "#print(my_lvmfield.ism.nebulae_objects[0]._brightness_4d_cartesian)\n",
    "#print(my_lvmfield.ism.nebulae_objects[0]._brightness_4d_spherical)\n",
    "\n",
    "#ind5007=100\n",
    "#my_lvmfield.ism.nebulae_objects[0]._brightness_4d_cartesian[ind5007,:,:,:]=pertemcube"
   ]
  },
  {
   "cell_type": "code",
   "execution_count": 33,
   "metadata": {},
   "outputs": [],
   "source": [
    "hdu1=fits.PrimaryHDU(my_lvmfield.ism.nebulae_objects[0]._brightness_3d_cartesian)\n",
    "hdul1=fits.HDUList([hdu1])\n",
    "hdul1.writeto('./Perturbation/cube_3D_cart.fits', overwrite=True)"
   ]
  },
  {
   "cell_type": "code",
   "execution_count": 34,
   "metadata": {},
   "outputs": [],
   "source": [
    "hdu=fits.PrimaryHDU(my_lvmfield.ism.nebulae_objects[0]._brightness_4d_spherical)\n",
    "hdul=fits.HDUList([hdu])\n",
    "hdul.writeto('./Perturbation/cube_sph.fits', overwrite=True) #storing 4D cube in fits format (spherical coordinate)"
   ]
  },
  {
   "cell_type": "code",
   "execution_count": 35,
   "metadata": {},
   "outputs": [],
   "source": [
    "hdu1=fits.PrimaryHDU(my_lvmfield.ism.nebulae_objects[0]._brightness_4d_cartesian)\n",
    "hdul1=fits.HDUList([hdu1])\n",
    "\n",
    "hdul1.writeto('./Perturbation/cube_4D_cart.fits', overwrite=True)"
   ]
  },
  {
   "cell_type": "code",
   "execution_count": 36,
   "metadata": {},
   "outputs": [
    {
     "name": "stdout",
     "output_type": "stream",
     "text": [
      "[ 3613.64  3634.08  3669.46  3671.47  3673.75  3676.36  3679.35  3682.8\n",
      "  3686.83  3691.55  3697.15  3703.85  3704.76  3711.97  3721.63  3721.93\n",
      "  3726.03  3728.81  3734.36  3750.15  3770.63  3797.89  3819.61  3833.48\n",
      "  3835.38  3868.76  3871.69  3888.63  3889.05  3926.41  3933.66  3964.73\n",
      "  3967.47  3970.07  4009.05  4026.2   4068.6   4076.35  4101.73  4120.82\n",
      "  4143.76  4243.97  4287.39  4340.46  4359.33  4363.21  4387.93  4413.78\n",
      "  4416.27  4471.49  4562.6   4571.1   4607.11  4658.01  4666.94  4685.64\n",
      "  4701.62  4711.26  4713.03  4733.84  4740.12  4754.64  4769.52  4777.61\n",
      "  4814.53  4861.33  4881.12  4889.62  4921.93  4924.66  4958.91  4987.33\n",
      "  5006.84  5011.16  5015.68  5047.64  5084.66  5158.78  5197.9   5200.26\n",
      "  5261.62  5270.4   5273.35  5411.98  5517.71  5537.87  5754.61  5875.64\n",
      "  6300.3   6312.06  6363.78  6548.05  6562.81  6583.45  6678.15  6716.44\n",
      "  6730.82  7065.22  7135.79  7155.16  7281.35  7318.92  7319.99  7329.67\n",
      "  7330.73  7637.54  7686.94  7751.11  8045.62  8323.38  8333.74  8345.51\n",
      "  8358.96  8374.43  8392.35  8413.28  8437.91  8467.21  8502.44  8542.09\n",
      "  8545.34  8578.7   8598.35  8616.95  8662.14  8664.98  8750.43  8862.74\n",
      "  8891.91  9014.87  9051.95  9062.39  9068.62  9226.62  9228.97  9463.57\n",
      "  9515.06  9526.01  9530.62  9545.93 10049.3 ]\n"
     ]
    }
   ],
   "source": [
    "print(my_lvmfield.ism.nebulae_objects[0].wl_list)\n",
    "\n",
    "hdu1=fits.PrimaryHDU(my_lvmfield.ism.nebulae_objects[0].wl_list)\n",
    "hdul1=fits.HDUList([hdu1])\n",
    "\n",
    "hdul1.writeto('./Perturbation/lines_from_4Dcube.fits', overwrite=True)\n"
   ]
  },
  {
   "cell_type": "code",
   "execution_count": 37,
   "metadata": {},
   "outputs": [
    {
     "data": {
      "text/plain": [
       "'\\n9532, 9069, 7319, 7320, 7330, 7331, 6731, 6716, 6717, 6584, 6563, 6548, 6312, 5755, 5007, 4959, 4861, 4363, 4069, 4076, 3970, 3729, 3726\\n138,  132,  101,  102,  103,  104,   96,   95,   95,   93,   92,   91,   89,   86,   72,   70,   65,    45,   36,   37,   33,   17,   16 \\n'"
      ]
     },
     "execution_count": 37,
     "metadata": {},
     "output_type": "execute_result"
    }
   ],
   "source": [
    "'''\n",
    "9532, 9069, 7319, 7320, 7330, 7331, 6731, 6716, 6717, 6584, 6563, 6548, 6312, 5755, 5007, 4959, 4861, 4363, 4069, 4076, 3970, 3729, 3726\n",
    "138,  132,  101,  102,  103,  104,   96,   95,   95,   93,   92,   91,   89,   86,   72,   70,   65,    45,   36,   37,   33,   17,   16 \n",
    "'''"
   ]
  },
  {
   "cell_type": "code",
   "execution_count": 38,
   "metadata": {},
   "outputs": [
    {
     "ename": "FileNotFoundError",
     "evalue": "[Errno 2] No such file or directory: 'cube_4D_cart.fits'",
     "output_type": "error",
     "traceback": [
      "\u001b[0;31m---------------------------------------------------------------------------\u001b[0m",
      "\u001b[0;31mFileNotFoundError\u001b[0m                         Traceback (most recent call last)",
      "Cell \u001b[0;32mIn[38], line 1\u001b[0m\n\u001b[0;32m----> 1\u001b[0m \u001b[38;5;28;01mwith\u001b[39;00m \u001b[43mfits\u001b[49m\u001b[38;5;241;43m.\u001b[39;49m\u001b[43mopen\u001b[49m\u001b[43m(\u001b[49m\u001b[38;5;124;43m'\u001b[39;49m\u001b[38;5;124;43mcube_4D_cart.fits\u001b[39;49m\u001b[38;5;124;43m'\u001b[39;49m\u001b[43m)\u001b[49m \u001b[38;5;28;01mas\u001b[39;00m hdul:\n\u001b[1;32m      2\u001b[0m     data\u001b[38;5;241m=\u001b[39mhdul[\u001b[38;5;241m0\u001b[39m]\u001b[38;5;241m.\u001b[39mdata\n\u001b[1;32m      4\u001b[0m \u001b[38;5;66;03m#line = np.array(9532, 9069, 7319, 7320, 7330, 7331, 6731, 6716, 6717, 6584, 6563, 6548, 6312, 5755, 5007, 4959, 4861, 4363, 4069, 4076, 3970, 3729, 3726)\u001b[39;00m\n\u001b[1;32m      5\u001b[0m \u001b[38;5;66;03m#lineid=line.astype(str)\u001b[39;00m\n",
      "File \u001b[0;32m~/miniconda3/lib/python3.10/site-packages/astropy/io/fits/hdu/hdulist.py:213\u001b[0m, in \u001b[0;36mfitsopen\u001b[0;34m(name, mode, memmap, save_backup, cache, lazy_load_hdus, ignore_missing_simple, use_fsspec, fsspec_kwargs, **kwargs)\u001b[0m\n\u001b[1;32m    210\u001b[0m \u001b[39mif\u001b[39;00m \u001b[39mnot\u001b[39;00m name:\n\u001b[1;32m    211\u001b[0m     \u001b[39mraise\u001b[39;00m \u001b[39mValueError\u001b[39;00m(\u001b[39mf\u001b[39m\u001b[39m\"\u001b[39m\u001b[39mEmpty filename: \u001b[39m\u001b[39m{\u001b[39;00mname\u001b[39m!r}\u001b[39;00m\u001b[39m\"\u001b[39m)\n\u001b[0;32m--> 213\u001b[0m \u001b[39mreturn\u001b[39;00m HDUList\u001b[39m.\u001b[39;49mfromfile(\n\u001b[1;32m    214\u001b[0m     name,\n\u001b[1;32m    215\u001b[0m     mode,\n\u001b[1;32m    216\u001b[0m     memmap,\n\u001b[1;32m    217\u001b[0m     save_backup,\n\u001b[1;32m    218\u001b[0m     cache,\n\u001b[1;32m    219\u001b[0m     lazy_load_hdus,\n\u001b[1;32m    220\u001b[0m     ignore_missing_simple,\n\u001b[1;32m    221\u001b[0m     use_fsspec\u001b[39m=\u001b[39;49muse_fsspec,\n\u001b[1;32m    222\u001b[0m     fsspec_kwargs\u001b[39m=\u001b[39;49mfsspec_kwargs,\n\u001b[1;32m    223\u001b[0m     \u001b[39m*\u001b[39;49m\u001b[39m*\u001b[39;49mkwargs,\n\u001b[1;32m    224\u001b[0m )\n",
      "File \u001b[0;32m~/miniconda3/lib/python3.10/site-packages/astropy/io/fits/hdu/hdulist.py:476\u001b[0m, in \u001b[0;36mHDUList.fromfile\u001b[0;34m(cls, fileobj, mode, memmap, save_backup, cache, lazy_load_hdus, ignore_missing_simple, **kwargs)\u001b[0m\n\u001b[1;32m    457\u001b[0m \u001b[39m@classmethod\u001b[39m\n\u001b[1;32m    458\u001b[0m \u001b[39mdef\u001b[39;00m \u001b[39mfromfile\u001b[39m(\n\u001b[1;32m    459\u001b[0m     \u001b[39mcls\u001b[39m,\n\u001b[0;32m   (...)\u001b[0m\n\u001b[1;32m    467\u001b[0m     \u001b[39m*\u001b[39m\u001b[39m*\u001b[39mkwargs,\n\u001b[1;32m    468\u001b[0m ):\n\u001b[1;32m    469\u001b[0m \u001b[39m    \u001b[39m\u001b[39m\"\"\"\u001b[39;00m\n\u001b[1;32m    470\u001b[0m \u001b[39m    Creates an `HDUList` instance from a file-like object.\u001b[39;00m\n\u001b[1;32m    471\u001b[0m \n\u001b[0;32m   (...)\u001b[0m\n\u001b[1;32m    474\u001b[0m \u001b[39m    documentation for details of the parameters accepted by this method).\u001b[39;00m\n\u001b[1;32m    475\u001b[0m \u001b[39m    \"\"\"\u001b[39;00m\n\u001b[0;32m--> 476\u001b[0m     \u001b[39mreturn\u001b[39;00m \u001b[39mcls\u001b[39;49m\u001b[39m.\u001b[39;49m_readfrom(\n\u001b[1;32m    477\u001b[0m         fileobj\u001b[39m=\u001b[39;49mfileobj,\n\u001b[1;32m    478\u001b[0m         mode\u001b[39m=\u001b[39;49mmode,\n\u001b[1;32m    479\u001b[0m         memmap\u001b[39m=\u001b[39;49mmemmap,\n\u001b[1;32m    480\u001b[0m         save_backup\u001b[39m=\u001b[39;49msave_backup,\n\u001b[1;32m    481\u001b[0m         cache\u001b[39m=\u001b[39;49mcache,\n\u001b[1;32m    482\u001b[0m         ignore_missing_simple\u001b[39m=\u001b[39;49mignore_missing_simple,\n\u001b[1;32m    483\u001b[0m         lazy_load_hdus\u001b[39m=\u001b[39;49mlazy_load_hdus,\n\u001b[1;32m    484\u001b[0m         \u001b[39m*\u001b[39;49m\u001b[39m*\u001b[39;49mkwargs,\n\u001b[1;32m    485\u001b[0m     )\n",
      "File \u001b[0;32m~/miniconda3/lib/python3.10/site-packages/astropy/io/fits/hdu/hdulist.py:1146\u001b[0m, in \u001b[0;36mHDUList._readfrom\u001b[0;34m(cls, fileobj, data, mode, memmap, cache, lazy_load_hdus, ignore_missing_simple, use_fsspec, fsspec_kwargs, **kwargs)\u001b[0m\n\u001b[1;32m   1143\u001b[0m \u001b[39mif\u001b[39;00m fileobj \u001b[39mis\u001b[39;00m \u001b[39mnot\u001b[39;00m \u001b[39mNone\u001b[39;00m:\n\u001b[1;32m   1144\u001b[0m     \u001b[39mif\u001b[39;00m \u001b[39mnot\u001b[39;00m \u001b[39misinstance\u001b[39m(fileobj, _File):\n\u001b[1;32m   1145\u001b[0m         \u001b[39m# instantiate a FITS file object (ffo)\u001b[39;00m\n\u001b[0;32m-> 1146\u001b[0m         fileobj \u001b[39m=\u001b[39m _File(\n\u001b[1;32m   1147\u001b[0m             fileobj,\n\u001b[1;32m   1148\u001b[0m             mode\u001b[39m=\u001b[39;49mmode,\n\u001b[1;32m   1149\u001b[0m             memmap\u001b[39m=\u001b[39;49mmemmap,\n\u001b[1;32m   1150\u001b[0m             cache\u001b[39m=\u001b[39;49mcache,\n\u001b[1;32m   1151\u001b[0m             use_fsspec\u001b[39m=\u001b[39;49muse_fsspec,\n\u001b[1;32m   1152\u001b[0m             fsspec_kwargs\u001b[39m=\u001b[39;49mfsspec_kwargs,\n\u001b[1;32m   1153\u001b[0m         )\n\u001b[1;32m   1154\u001b[0m     \u001b[39m# The Astropy mode is determined by the _File initializer if the\u001b[39;00m\n\u001b[1;32m   1155\u001b[0m     \u001b[39m# supplied mode was None\u001b[39;00m\n\u001b[1;32m   1156\u001b[0m     mode \u001b[39m=\u001b[39m fileobj\u001b[39m.\u001b[39mmode\n",
      "File \u001b[0;32m~/miniconda3/lib/python3.10/site-packages/astropy/io/fits/file.py:217\u001b[0m, in \u001b[0;36m_File.__init__\u001b[0;34m(self, fileobj, mode, memmap, overwrite, cache, use_fsspec, fsspec_kwargs)\u001b[0m\n\u001b[1;32m    215\u001b[0m     \u001b[39mself\u001b[39m\u001b[39m.\u001b[39m_open_fileobj(fileobj, mode, overwrite)\n\u001b[1;32m    216\u001b[0m \u001b[39melif\u001b[39;00m \u001b[39misinstance\u001b[39m(fileobj, (\u001b[39mstr\u001b[39m, \u001b[39mbytes\u001b[39m)):\n\u001b[0;32m--> 217\u001b[0m     \u001b[39mself\u001b[39;49m\u001b[39m.\u001b[39;49m_open_filename(fileobj, mode, overwrite)\n\u001b[1;32m    218\u001b[0m \u001b[39melse\u001b[39;00m:\n\u001b[1;32m    219\u001b[0m     \u001b[39mself\u001b[39m\u001b[39m.\u001b[39m_open_filelike(fileobj, mode, overwrite)\n",
      "File \u001b[0;32m~/miniconda3/lib/python3.10/site-packages/astropy/io/fits/file.py:626\u001b[0m, in \u001b[0;36m_File._open_filename\u001b[0;34m(self, filename, mode, overwrite)\u001b[0m\n\u001b[1;32m    623\u001b[0m ext \u001b[39m=\u001b[39m os\u001b[39m.\u001b[39mpath\u001b[39m.\u001b[39msplitext(\u001b[39mself\u001b[39m\u001b[39m.\u001b[39mname)[\u001b[39m1\u001b[39m]\n\u001b[1;32m    625\u001b[0m \u001b[39mif\u001b[39;00m \u001b[39mnot\u001b[39;00m \u001b[39mself\u001b[39m\u001b[39m.\u001b[39m_try_read_compressed(\u001b[39mself\u001b[39m\u001b[39m.\u001b[39mname, magic, mode, ext\u001b[39m=\u001b[39mext):\n\u001b[0;32m--> 626\u001b[0m     \u001b[39mself\u001b[39m\u001b[39m.\u001b[39m_file \u001b[39m=\u001b[39m \u001b[39mopen\u001b[39;49m(\u001b[39mself\u001b[39;49m\u001b[39m.\u001b[39;49mname, IO_FITS_MODES[mode])\n\u001b[1;32m    627\u001b[0m     \u001b[39mself\u001b[39m\u001b[39m.\u001b[39mclose_on_error \u001b[39m=\u001b[39m \u001b[39mTrue\u001b[39;00m\n\u001b[1;32m    629\u001b[0m \u001b[39m# Make certain we're back at the beginning of the file\u001b[39;00m\n\u001b[1;32m    630\u001b[0m \u001b[39m# BZ2File does not support seek when the file is open for writing, but\u001b[39;00m\n\u001b[1;32m    631\u001b[0m \u001b[39m# when opening a file for write, bz2.BZ2File always truncates anyway.\u001b[39;00m\n",
      "\u001b[0;31mFileNotFoundError\u001b[0m: [Errno 2] No such file or directory: 'cube_4D_cart.fits'"
     ]
    }
   ],
   "source": [
    "\n",
    "with fits.open('cube_4D_cart.fits') as hdul:\n",
    "    data=hdul[0].data\n",
    "\n",
    "#line = np.array(9532, 9069, 7319, 7320, 7330, 7331, 6731, 6716, 6717, 6584, 6563, 6548, 6312, 5755, 5007, 4959, 4861, 4363, 4069, 4076, 3970, 3729, 3726)\n",
    "#lineid=line.astype(str)\n",
    "\n",
    "num = np.array([138,  132,  101,  102,  103,  104,   96,   95,   95,   93,   92,   91,   89,   86,   72,   70,   65,    45,   36,   37,   33,   17,  16])\n",
    "\n",
    "#for i in range(num):\n",
    "#\n",
    "#   hdu1=fits.PrimaryHDU(data[num, :, :, :])\n",
    "#   hdul1=fits.HDUList([hdu1])\n",
    "#\n",
    "#   hdul1.writeto('./Perturbation/'+num+'_3D_cart.fits', overwrite=True)"
   ]
  },
  {
   "cell_type": "code",
   "execution_count": null,
   "metadata": {},
   "outputs": [
    {
     "ename": "AttributeError",
     "evalue": "module 'astropy.units' has no attribute 'linefitdict'.",
     "output_type": "error",
     "traceback": [
      "\u001b[0;31m---------------------------------------------------------------------------\u001b[0m",
      "\u001b[0;31mAttributeError\u001b[0m                            Traceback (most recent call last)",
      "Cell \u001b[0;32mIn[19], line 8\u001b[0m\n\u001b[1;32m      6\u001b[0m \u001b[38;5;28;01mimport\u001b[39;00m \u001b[38;5;21;01mastropy\u001b[39;00m\u001b[38;5;21;01m.\u001b[39;00m\u001b[38;5;21;01munits\u001b[39;00m \u001b[38;5;28;01mas\u001b[39;00m \u001b[38;5;21;01munit\u001b[39;00m \n\u001b[1;32m      7\u001b[0m distance\u001b[38;5;241m=\u001b[39m\u001b[38;5;241m16000\u001b[39m \u001b[38;5;241m*\u001b[39m unit\u001b[38;5;241m.\u001b[39mpc \n\u001b[0;32m----> 8\u001b[0m r\u001b[38;5;241m=\u001b[39mnp\u001b[38;5;241m.\u001b[39msqrt(\u001b[43mu\u001b[49m\u001b[38;5;241;43m.\u001b[39;49m\u001b[43mlinefitdict\u001b[49m[\u001b[38;5;124m'\u001b[39m\u001b[38;5;124mdelta_ra\u001b[39m\u001b[38;5;124m'\u001b[39m]\u001b[38;5;241m*\u001b[39m\u001b[38;5;241m*\u001b[39m\u001b[38;5;241m2\u001b[39m\u001b[38;5;241m+\u001b[39mu\u001b[38;5;241m.\u001b[39mlinefitdict[\u001b[38;5;124m'\u001b[39m\u001b[38;5;124mdelta_dec\u001b[39m\u001b[38;5;124m'\u001b[39m]\u001b[38;5;241m*\u001b[39m\u001b[38;5;241m*\u001b[39m\u001b[38;5;241m2\u001b[39m) \n\u001b[1;32m      9\u001b[0m rad\u001b[38;5;241m=\u001b[39mr\u001b[38;5;241m*\u001b[39mdistance\u001b[38;5;241m*\u001b[39mnp\u001b[38;5;241m.\u001b[39mpi\u001b[38;5;241m/\u001b[39m\u001b[38;5;241m648000\u001b[39m\n",
      "File \u001b[0;32m~/miniconda3/lib/python3.10/site-packages/astropy/units/__init__.py:67\u001b[0m, in \u001b[0;36m__getattr__\u001b[0;34m(attr)\u001b[0m\n\u001b[1;32m     63\u001b[0m     \u001b[39mfrom\u001b[39;00m \u001b[39mastropy\u001b[39;00m\u001b[39m.\u001b[39;00m\u001b[39munits\u001b[39;00m\u001b[39m.\u001b[39;00m\u001b[39mequivalencies\u001b[39;00m \u001b[39mimport\u001b[39;00m with_H0\n\u001b[1;32m     65\u001b[0m     \u001b[39mreturn\u001b[39;00m with_H0\n\u001b[0;32m---> 67\u001b[0m \u001b[39mraise\u001b[39;00m \u001b[39mAttributeError\u001b[39;00m(\u001b[39mf\u001b[39m\u001b[39m\"\u001b[39m\u001b[39mmodule \u001b[39m\u001b[39m{\u001b[39;00m\u001b[39m__name__\u001b[39m\u001b[39m!r}\u001b[39;00m\u001b[39m has no attribute \u001b[39m\u001b[39m{\u001b[39;00mattr\u001b[39m!r}\u001b[39;00m\u001b[39m.\u001b[39m\u001b[39m\"\u001b[39m)\n",
      "\u001b[0;31mAttributeError\u001b[0m: module 'astropy.units' has no attribute 'linefitdict'."
     ]
    }
   ],
   "source": [
    "#plotting cooling curve for [OIII]\n",
    "\n",
    "wave = 5007e-10\n",
    "pot_erg = 6.63e-34*299792458/wave\n",
    "#ni = vals[OIII]\n",
    "#Lc= (data[72,:, :, :]*pot_erg)/ni\n",
    "\n",
    "#import astropy.units as unit \n",
    "#distance=16000 * unit.pc \n",
    "#r=np.sqrt(u.linefitdict['delta_ra']**2+u.linefitdict['delta_dec']**2) \n",
    "#rad=r*distance*np.pi/648000 # converting arcsecs to parsec "
   ]
  }
 ],
 "metadata": {
  "kernelspec": {
   "display_name": "Python 3.10.11 ('base')",
   "language": "python",
   "name": "python3"
  },
  "language_info": {
   "codemirror_mode": {
    "name": "ipython",
    "version": 3
   },
   "file_extension": ".py",
   "mimetype": "text/x-python",
   "name": "python",
   "nbconvert_exporter": "python",
   "pygments_lexer": "ipython3",
   "version": "3.10.11"
  },
  "vscode": {
   "interpreter": {
    "hash": "b943106136f0b7237aa45b13de07160508680759cd2ff79bd892a553daeee42a"
   }
  }
 },
 "nbformat": 4,
 "nbformat_minor": 0
}
