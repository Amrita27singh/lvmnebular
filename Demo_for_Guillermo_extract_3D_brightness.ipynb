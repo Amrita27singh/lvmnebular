{
 "cells": [
  {
   "cell_type": "markdown",
   "metadata": {
    "collapsed": false,
    "pycharm": {
     "name": "#%% md\n"
    }
   },
   "source": [
    "# How to extract 3D structure of the nebulae from the LVM data simulator"
   ]
  },
  {
   "cell_type": "markdown",
   "metadata": {
    "collapsed": false,
    "pycharm": {
     "name": "#%% md\n"
    }
   },
   "source": [
    "1. Initialize the LVM Field"
   ]
  },
  {
   "cell_type": "code",
   "execution_count": 59,
   "metadata": {
    "collapsed": false,
    "pycharm": {
     "name": "#%%\n"
    }
   },
   "outputs": [],
   "source": [
    "import os\n",
    "from lvmdatasimulator.field import LVMField\n",
    "import astropy.units as u\n",
    "import astropy.table as Table\n",
    "from astropy.io import fits\n",
    "import numpy as np\n",
    "import matplotlib.pyplot as plt\n",
    "#os.chdir('/Users/mors/Science/LVM/Simulator_example/')  # Your top-level working directory\n",
    "os.chdir('/home/amrita/LVM/lvmnebular/')"
   ]
  },
  {
   "cell_type": "code",
   "execution_count": 60,
   "metadata": {
    "collapsed": false,
    "pycharm": {
     "name": "#%%\n"
    }
   },
   "outputs": [],
   "source": [
    "#Some random of the LVM Field\n",
    "'''\n",
    "ra = 12.34 # u.degree\n",
    "dec = -20.35 # u.degree\n",
    "fov_size = 35 # u.arcmin\n",
    "fov_pixel = 1 # u.arcsec\n",
    "distance = 50 # * u.kpc\n",
    "sys_vel = 0 #* u.km / u.s\n",
    "turbulent_sigma = 20 #* u.km / u.s\n",
    "preserve_kinematics = False\n",
    "'''\n",
    "#specifing parameters\n",
    "ra = 90.5625 # u.degree\n",
    "dec = 4.998333 # u.degree\n",
    "fov_size = 10 # u.arcmin\n",
    "fov_pixel = 10 # u.arcsec\n",
    "distance = 16.0 * u.kpc\n",
    "sys_vel = 20 #* u.km / u.s\n",
    "turbulent_sigma = 15 #* u.km / u.s\n",
    "preserve_kinematics = False\n",
    "\n",
    "unit_ra = u.degree\n",
    "unit_dec = u.degree\n",
    "unit_size = u.arcmin\n",
    "unit_pixel = u.arcsec\n",
    "\n",
    "name = 'LVM_extract3D'\n",
    "my_lvmfield = LVMField(ra=ra, dec=dec, size=fov_size, pxsize=fov_pixel, name=name,\n",
    "                       unit_ra=unit_ra, unit_dec=unit_dec, unit_size=unit_size, unit_pxsize=unit_pixel,\n",
    "                       ism_params={'distance': distance, 'sys_velocity': sys_vel, 'turbulent_sigma': turbulent_sigma,\n",
    "                                   'preserve_kinematics': preserve_kinematics})"
   ]
  },
  {
   "cell_type": "markdown",
   "metadata": {
    "collapsed": false,
    "pycharm": {
     "name": "#%% md\n"
    }
   },
   "source": [
    "2. Define the properties of the nebula to be simulated\n",
    "Let's simulate only a Bubble in our FOV"
   ]
  },
  {
   "cell_type": "code",
   "execution_count": 61,
   "metadata": {
    "collapsed": false,
    "pycharm": {
     "name": "#%%\n"
    }
   },
   "outputs": [],
   "source": [
    "'''\n",
    "my_nebulae = [{'type': 'Bubble3D',\n",
    "               'max_brightness': 1.e-14,\n",
    "               'thickness': 0.85,\n",
    "               'radius': 10*u.pc,\n",
    "               'expansion_velocity': 15,\n",
    "                'turbulent_sigma': 15,\n",
    "                'sys_velocity': 0,\n",
    "               'model_params': {'Z': 0.6, 'qH': 50, 'nH': 100, 'Geometry': 'Cloud', 'Teff': 35000.},\n",
    "               'model_type': 'cloudy',\n",
    "               'offset_RA':0,\n",
    "               'offset_DEC':-20},\n",
    "              ]\n",
    "'''\n",
    "my_nebulae = [{'type': 'Bubble3D',\n",
    "               'max_brightness': 5e-14,\n",
    "               'thickness': 0.8,\n",
    "               'radius': 18*u.pc,\n",
    "               'expansion_velocity': 10,\n",
    "                'turbulent_sigma': 15,\n",
    "                'sys_velocity': 10,\n",
    "               'model_params': {'Z': 1.0, 'qH': 50., 'nH': 100, 'Geometry': 'Shell', 'Teff': 40000.},\n",
    "               'model_type': 'cloudy',\n",
    "               'offset_RA':0,\n",
    "               'offset_DEC':0},\n",
    "              ]"
   ]
  },
  {
   "cell_type": "markdown",
   "metadata": {
    "collapsed": false,
    "pycharm": {
     "name": "#%% md\n"
    }
   },
   "source": [
    "3. Add this nebula to the LVM Field"
   ]
  },
  {
   "cell_type": "code",
   "execution_count": 62,
   "metadata": {
    "collapsed": false,
    "pycharm": {
     "name": "#%%\n"
    }
   },
   "outputs": [
    {
     "name": "stderr",
     "output_type": "stream",
     "text": [
      "\u001b[0;34m[INFO]: \u001b[0mStart generating 1 nebulae\n",
      "\u001b[1;33m[WARNING]: \u001b[0mUse the closest pre-computed model with id = Shell_921. Its parameters: Geometry = Shell; Z = 1.0; qH = 50.0; LogLsun = 6.5; Teff = 30000.0; nH = 100.0; \n"
     ]
    }
   ],
   "source": [
    "my_lvmfield.add_nebulae(my_nebulae)"
   ]
  },
  {
   "cell_type": "markdown",
   "metadata": {
    "collapsed": false,
    "pycharm": {
     "name": "#%% md\n"
    }
   },
   "source": [
    "4. Perfect! Now you have access to all the properties of the nebulae considered in the simulator."
   ]
  },
  {
   "cell_type": "code",
   "execution_count": 63,
   "metadata": {
    "collapsed": false,
    "pycharm": {
     "name": "#%%\n"
    }
   },
   "outputs": [
    {
     "name": "stdout",
     "output_type": "stream",
     "text": [
      "5e-14 erg / (s arcsec2 cm2)\n",
      "0.8\n",
      "18.0 pc\n",
      "10.0 km / s\n"
     ]
    }
   ],
   "source": [
    "print(my_lvmfield.ism.nebulae_objects[0].max_brightness)\n",
    "print(my_lvmfield.ism.nebulae_objects[0].thickness)\n",
    "print(my_lvmfield.ism.nebulae_objects[0].radius)\n",
    "print(my_lvmfield.ism.nebulae_objects[0].expansion_velocity)\n"
   ]
  },
  {
   "cell_type": "markdown",
   "metadata": {
    "collapsed": false,
    "pycharm": {
     "name": "#%% md\n"
    }
   },
   "source": [
    "One access the relative 3D brightness distribution in cartesian or in spherical coordinates."
   ]
  },
  {
   "cell_type": "code",
   "execution_count": 64,
   "metadata": {
    "collapsed": false,
    "pycharm": {
     "name": "#%%\n"
    }
   },
   "outputs": [
    {
     "name": "stdout",
     "output_type": "stream",
     "text": [
      "(49, 49, 100)\n",
      "(70, 90, 90)\n",
      "2.204585537918871e-06\n"
     ]
    }
   ],
   "source": [
    "print(my_lvmfield.ism.nebulae_objects[0]._brightness_3d_cartesian.shape)  # nz, ny, nx, where nx is along line-of-sight\n",
    "print(my_lvmfield.ism.nebulae_objects[0]._brightness_3d_spherical.shape)  # rad, theta, phi\n",
    "\n",
    "c3D=my_lvmfield.ism.nebulae_objects[0]._brightness_3d_cartesian #\n",
    "print(c3D[10,20,30]) #considering uniform brightness in each shell=1 (default)\n"
   ]
  },
  {
   "cell_type": "code",
   "execution_count": 65,
   "metadata": {
    "collapsed": false,
    "pycharm": {
     "name": "#%%\n"
    }
   },
   "outputs": [
    {
     "name": "stdout",
     "output_type": "stream",
     "text": [
      "(100,)\n",
      "(49,)\n",
      "(49,)\n"
     ]
    }
   ],
   "source": [
    "print(my_lvmfield.ism.nebulae_objects[0]._cartesian_x_grid.shape)  # this one is along line-of-sight\n",
    "print(my_lvmfield.ism.nebulae_objects[0]._cartesian_y_grid.shape)\n",
    "print(my_lvmfield.ism.nebulae_objects[0]._cartesian_z_grid.shape)"
   ]
  },
  {
   "cell_type": "code",
   "execution_count": 66,
   "metadata": {
    "collapsed": false,
    "pycharm": {
     "name": "#%%\n"
    }
   },
   "outputs": [
    {
     "name": "stdout",
     "output_type": "stream",
     "text": [
      "[0.         0.03529879 0.07059759 0.10589638 0.14119518 0.17649397\n",
      " 0.21179276 0.24709156 0.28239035 0.31768914 0.35298794 0.38828673\n",
      " 0.42358553 0.45888432 0.49418311 0.52948191 0.5647807  0.6000795\n",
      " 0.63537829 0.67067708 0.70597588 0.74127467 0.77657346 0.81187226\n",
      " 0.84717105 0.88246985 0.91776864 0.95306743 0.98836623 1.02366502\n",
      " 1.05896382 1.09426261 1.1295614  1.1648602  1.20015899 1.23545779\n",
      " 1.27075658 1.30605537 1.34135417 1.37665296 1.41195175 1.44725055\n",
      " 1.48254934 1.51784814 1.55314693 1.58844572 1.62374452 1.65904331\n",
      " 1.69434211 1.7296409  1.76493969 1.80023849 1.83553728 1.87083607\n",
      " 1.90613487 1.94143366 1.97673246 2.01203125 2.04733004 2.08262884\n",
      " 2.11792763 2.15322643 2.18852522 2.22382401 2.25912281 2.2944216\n",
      " 2.32972039 2.36501919 2.40031798 2.43561678 2.47091557 2.50621436\n",
      " 2.54151316 2.57681195 2.61211075 2.64740954 2.68270833 2.71800713\n",
      " 2.75330592 2.78860471 2.82390351 2.8592023  2.8945011  2.92979989\n",
      " 2.96509868 3.00039748 3.03569627 3.07099507 3.10629386 3.14159265] [ 0.          0.26086957  0.52173913  0.7826087   1.04347826  1.30434783\n",
      "  1.56521739  1.82608696  2.08695652  2.34782609  2.60869565  2.86956522\n",
      "  3.13043478  3.39130435  3.65217391  3.91304348  4.17391304  4.43478261\n",
      "  4.69565217  4.95652174  5.2173913   5.47826087  5.73913043  6.\n",
      "  6.26086957  6.52173913  6.7826087   7.04347826  7.30434783  7.56521739\n",
      "  7.82608696  8.08695652  8.34782609  8.60869565  8.86956522  9.13043478\n",
      "  9.39130435  9.65217391  9.91304348 10.17391304 10.43478261 10.69565217\n",
      " 10.95652174 11.2173913  11.47826087 11.73913043 12.         12.26086957\n",
      " 12.52173913 12.7826087  13.04347826 13.30434783 13.56521739 13.82608696\n",
      " 14.08695652 14.34782609 14.60869565 14.86956522 15.13043478 15.39130435\n",
      " 15.65217391 15.91304348 16.17391304 16.43478261 16.69565217 16.95652174\n",
      " 17.2173913  17.47826087 17.73913043 18.        ] pc [0.         0.07059759 0.14119518 0.21179276 0.28239035 0.35298794\n",
      " 0.42358553 0.49418311 0.5647807  0.63537829 0.70597588 0.77657346\n",
      " 0.84717105 0.91776864 0.98836623 1.05896382 1.1295614  1.20015899\n",
      " 1.27075658 1.34135417 1.41195175 1.48254934 1.55314693 1.62374452\n",
      " 1.69434211 1.76493969 1.83553728 1.90613487 1.97673246 2.04733004\n",
      " 2.11792763 2.18852522 2.25912281 2.32972039 2.40031798 2.47091557\n",
      " 2.54151316 2.61211075 2.68270833 2.75330592 2.82390351 2.8945011\n",
      " 2.96509868 3.03569627 3.10629386 3.17689145 3.24748904 3.31808662\n",
      " 3.38868421 3.4592818  3.52987939 3.60047697 3.67107456 3.74167215\n",
      " 3.81226974 3.88286732 3.95346491 4.0240625  4.09466009 4.16525768\n",
      " 4.23585526 4.30645285 4.37705044 4.44764803 4.51824561 4.5888432\n",
      " 4.65944079 4.73003838 4.80063597 4.87123355 4.94183114 5.01242873\n",
      " 5.08302632 5.1536239  5.22422149 5.29481908 5.36541667 5.43601425\n",
      " 5.50661184 5.57720943 5.64780702 5.71840461 5.78900219 5.85959978\n",
      " 5.93019737 6.00079496 6.07139254 6.14199013 6.21258772 6.28318531]\n"
     ]
    }
   ],
   "source": [
    "print(my_lvmfield.ism.nebulae_objects[0]._theta_grid,\n",
    "      my_lvmfield.ism.nebulae_objects[0]._rad_grid,\n",
    "      my_lvmfield.ism.nebulae_objects[0]._phi_grid)"
   ]
  },
  {
   "cell_type": "markdown",
   "metadata": {
    "collapsed": false,
    "pycharm": {
     "name": "#%% md\n"
    }
   },
   "source": [
    "Similar for 4D, where first dimension is a line ID"
   ]
  },
  {
   "cell_type": "code",
   "execution_count": 67,
   "metadata": {
    "collapsed": false,
    "pycharm": {
     "name": "#%%\n"
    }
   },
   "outputs": [
    {
     "name": "stdout",
     "output_type": "stream",
     "text": [
      "(141, 49, 49, 100)\n",
      "(141, 70, 90, 90)\n"
     ]
    }
   ],
   "source": [
    "print(my_lvmfield.ism.nebulae_objects[0]._brightness_4d_cartesian.shape)\n",
    "print(my_lvmfield.ism.nebulae_objects[0]._brightness_4d_spherical.shape)\n",
    "\n",
    "#print(my_lvmfield.ism.nebulae_objects[0]._brightness_4d_cartesian)\n",
    "#print(my_lvmfield.ism.nebulae_objects[0]._brightness_4d_spherical)\n",
    "\n",
    "#ind5007=100\n",
    "#my_lvmfield.ism.nebulae_objects[0]._brightness_4d_cartesian[ind5007,:,:,:]=pertemcube"
   ]
  },
  {
   "cell_type": "code",
   "execution_count": 68,
   "metadata": {},
   "outputs": [],
   "source": [
    "hdu1=fits.PrimaryHDU(my_lvmfield.ism.nebulae_objects[0]._brightness_3d_cartesian)\n",
    "hdul1=fits.HDUList([hdu1])\n",
    "hdul1.writeto('cube_3D_cart.fits', overwrite=True)"
   ]
  },
  {
   "cell_type": "code",
   "execution_count": 69,
   "metadata": {},
   "outputs": [],
   "source": [
    "hdu=fits.PrimaryHDU(my_lvmfield.ism.nebulae_objects[0]._brightness_4d_spherical)\n",
    "hdul=fits.HDUList([hdu])\n",
    "hdul.writeto('cube_sph.fits', overwrite=True) #storing 4D cube in fits format (spherical coordinate)"
   ]
  },
  {
   "cell_type": "code",
   "execution_count": 70,
   "metadata": {},
   "outputs": [],
   "source": [
    "hdu1=fits.PrimaryHDU(my_lvmfield.ism.nebulae_objects[0]._brightness_4d_cartesian)\n",
    "hdul1=fits.HDUList([hdu1])\n",
    "\n",
    "hdul1.writeto('cube_4D_cart.fits', overwrite=True)"
   ]
  },
  {
   "cell_type": "code",
   "execution_count": 71,
   "metadata": {},
   "outputs": [
    {
     "name": "stdout",
     "output_type": "stream",
     "text": [
      "[ 3613.64  3634.08  3669.46  3671.47  3673.75  3676.36  3679.35  3682.8\n",
      "  3686.83  3691.55  3697.15  3703.85  3704.76  3711.97  3721.63  3721.93\n",
      "  3726.03  3728.81  3734.36  3750.15  3770.63  3797.89  3819.61  3833.48\n",
      "  3835.38  3868.76  3871.69  3888.63  3889.05  3926.41  3933.66  3964.73\n",
      "  3967.47  3970.07  4009.05  4026.2   4068.6   4076.35  4101.73  4120.82\n",
      "  4143.76  4243.97  4287.39  4340.46  4359.33  4363.21  4387.93  4413.78\n",
      "  4416.27  4471.49  4562.6   4571.1   4607.11  4658.01  4666.94  4685.64\n",
      "  4701.62  4711.26  4713.03  4733.84  4740.12  4754.64  4769.52  4777.61\n",
      "  4814.53  4861.33  4881.12  4889.62  4921.93  4924.66  4958.91  4987.33\n",
      "  5006.84  5011.16  5015.68  5047.64  5084.66  5158.78  5197.9   5200.26\n",
      "  5261.62  5270.4   5273.35  5411.98  5517.71  5537.87  5754.61  5875.64\n",
      "  6300.3   6312.06  6363.78  6548.05  6562.81  6583.45  6678.15  6716.44\n",
      "  6730.82  7065.22  7135.79  7155.16  7281.35  7318.92  7319.99  7329.67\n",
      "  7330.73  7637.54  7686.94  7751.11  8045.62  8323.38  8333.74  8345.51\n",
      "  8358.96  8374.43  8392.35  8413.28  8437.91  8467.21  8502.44  8542.09\n",
      "  8545.34  8578.7   8598.35  8616.95  8662.14  8664.98  8750.43  8862.74\n",
      "  8891.91  9014.87  9051.95  9062.39  9068.62  9226.62  9228.97  9463.57\n",
      "  9515.06  9526.01  9530.62  9545.93 10049.3 ]\n"
     ]
    }
   ],
   "source": [
    "print(my_lvmfield.ism.nebulae_objects[0].wl_list)"
   ]
  },
  {
   "cell_type": "code",
   "execution_count": 75,
   "metadata": {},
   "outputs": [
    {
     "name": "stdout",
     "output_type": "stream",
     "text": [
      "0\t3613.64\n",
      "1\t3634.08\n",
      "2\t3669.46\n",
      "3\t3671.47\n",
      "4\t3673.75\n",
      "5\t3676.36\n",
      "6\t3679.35\n",
      "7\t3682.8\n",
      "8\t3686.83\n",
      "9\t3691.55\n",
      "10\t3697.15\n",
      "11\t3703.85\n",
      "12\t3704.76\n",
      "13\t3711.97\n",
      "14\t3721.63\n",
      "15\t3721.93\n",
      "16\t3726.03\n",
      "17\t3728.81\n",
      "18\t3734.36\n",
      "19\t3750.15\n",
      "20\t3770.63\n",
      "21\t3797.89\n",
      "22\t3819.61\n",
      "23\t3833.48\n",
      "24\t3835.38\n",
      "25\t3868.76\n",
      "26\t3871.69\n",
      "27\t3888.63\n",
      "28\t3889.05\n",
      "29\t3926.41\n",
      "30\t3933.66\n",
      "31\t3964.73\n",
      "32\t3967.47\n",
      "33\t3970.07\n",
      "34\t4009.05\n",
      "35\t4026.2\n",
      "36\t4068.6\n",
      "37\t4076.35\n",
      "38\t4101.73\n",
      "39\t4120.82\n",
      "40\t4143.76\n",
      "41\t4243.97\n",
      "42\t4287.39\n",
      "43\t4340.46\n",
      "44\t4359.33\n",
      "45\t4363.21\n",
      "46\t4387.93\n",
      "47\t4413.78\n",
      "48\t4416.27\n",
      "49\t4471.49\n",
      "50\t4562.6\n",
      "51\t4571.1\n",
      "52\t4607.11\n",
      "53\t4658.01\n",
      "54\t4666.94\n",
      "55\t4685.64\n",
      "56\t4701.62\n",
      "57\t4711.26\n",
      "58\t4713.03\n",
      "59\t4733.84\n",
      "60\t4740.12\n",
      "61\t4754.64\n",
      "62\t4769.52\n",
      "63\t4777.61\n",
      "64\t4814.53\n",
      "65\t4861.33\n",
      "66\t4881.12\n",
      "67\t4889.62\n",
      "68\t4921.93\n",
      "69\t4924.66\n",
      "70\t4958.91\n",
      "71\t4987.33\n",
      "72\t5006.84\n",
      "73\t5011.16\n",
      "74\t5015.68\n",
      "75\t5047.64\n",
      "76\t5084.66\n",
      "77\t5158.78\n",
      "78\t5197.9\n",
      "79\t5200.26\n",
      "80\t5261.62\n",
      "81\t5270.4\n",
      "82\t5273.35\n",
      "83\t5411.98\n",
      "84\t5517.71\n",
      "85\t5537.87\n",
      "86\t5754.61\n",
      "87\t5875.64\n",
      "88\t6300.3\n",
      "89\t6312.06\n",
      "90\t6363.78\n",
      "91\t6548.05\n",
      "92\t6562.81\n",
      "93\t6583.45\n",
      "94\t6678.15\n",
      "95\t6716.44\n",
      "96\t6730.82\n",
      "97\t7065.22\n",
      "98\t7135.79\n",
      "99\t7155.16\n",
      "100\t7281.35\n",
      "101\t7318.92\n",
      "102\t7319.99\n",
      "103\t7329.67\n",
      "104\t7330.73\n",
      "105\t7637.54\n",
      "106\t7686.94\n",
      "107\t7751.11\n",
      "108\t8045.62\n",
      "109\t8323.38\n",
      "110\t8333.74\n",
      "111\t8345.51\n",
      "112\t8358.96\n",
      "113\t8374.43\n",
      "114\t8392.35\n",
      "115\t8413.28\n",
      "116\t8437.91\n",
      "117\t8467.21\n",
      "118\t8502.44\n",
      "119\t8542.09\n",
      "120\t8545.34\n",
      "121\t8578.7\n",
      "122\t8598.35\n",
      "123\t8616.95\n",
      "124\t8662.14\n",
      "125\t8664.98\n",
      "126\t8750.43\n",
      "127\t8862.74\n",
      "128\t8891.91\n",
      "129\t9014.87\n",
      "130\t9051.95\n",
      "131\t9062.39\n",
      "132\t9068.62\n",
      "133\t9226.62\n",
      "134\t9228.97\n",
      "135\t9463.57\n",
      "136\t9515.06\n",
      "137\t9526.01\n",
      "138\t9530.62\n",
      "139\t9545.93\n",
      "140\t10049.3\n"
     ]
    }
   ],
   "source": [
    "for i, line in enumerate(my_lvmfield.ism.nebulae_objects[0].wl_list):\n",
    "    \n",
    "    print(\"{}\\t{}\".format(i,line))\n"
   ]
  },
  {
   "cell_type": "code",
   "execution_count": null,
   "metadata": {},
   "outputs": [],
   "source": [
    "'''\n",
    "9532, 9069, 7319, 7320, 7330, 7331, 6731, 6716, 6717, 6584, 6563, 6548, 6312, 5755, 5007, 4959, 4861, 4363, 4069, 4076, 3970, 3729, 3726\n",
    "138,  132,  101,  102,  103,  104,   96,   95,   95,   93,   92,   91,   89,   86,   72,   70,   65,    45,   36,   37,   33,   17,   16 \n",
    "'''"
   ]
  },
  {
   "cell_type": "code",
   "execution_count": 79,
   "metadata": {},
   "outputs": [],
   "source": [
    "\n",
    "\n",
    "with fits.open('cube_4D_cart.fits') as hdul:\n",
    "    data=hdul[0].data\n",
    "\n",
    "#line = np.array(9532, 9069, 7319, 7320, 7330, 7331, 6731, 6716, 6717, 6584, 6563, 6548, 6312, 5755, 5007, 4959, 4861, 4363, 4069, 4076, 3970, 3729, 3726)\n",
    "#lineid=line.astype(str)\n",
    "\n",
    "num = np.array([138,  132,  101,  102,  103,  104,   96,   95,   95,   93,   92,   91,   89,   86,   72,   70,   65,    45,   36,   37,   33,   17,   16])\n",
    "\n",
    "for i in range(num):\n",
    "\n",
    "    hdu1=fits.PrimaryHDU(data[num, :, :, :])\n",
    "    hdul1=fits.HDUList([hdu1])\n",
    "\n",
    "    hdul1.writeto('./Perturbation/'+num+'_3D_cart.fits', overwrite=True)"
   ]
  },
  {
   "cell_type": "code",
   "execution_count": 77,
   "metadata": {},
   "outputs": [
    {
     "ename": "TypeError",
     "evalue": "'module' object is not callable",
     "output_type": "error",
     "traceback": [
      "\u001b[0;31m---------------------------------------------------------------------------\u001b[0m",
      "\u001b[0;31mTypeError\u001b[0m                                 Traceback (most recent call last)",
      "Cell \u001b[0;32mIn[77], line 13\u001b[0m\n\u001b[1;32m      9\u001b[0m     wavelengths[\u001b[38;5;124m'\u001b[39m\u001b[38;5;124mlines\u001b[39m\u001b[38;5;124m'\u001b[39m]\u001b[38;5;241m.\u001b[39mappend(line)\n\u001b[1;32m     11\u001b[0m \u001b[38;5;66;03m#print(wavelengths)\u001b[39;00m\n\u001b[0;32m---> 13\u001b[0m table \u001b[38;5;241m=\u001b[39m \u001b[43mTable\u001b[49m\u001b[43m(\u001b[49m\u001b[43mrows\u001b[49m\u001b[43m \u001b[49m\u001b[38;5;241;43m=\u001b[39;49m\u001b[43m \u001b[49m\u001b[43mwavelengths\u001b[49m\u001b[43m)\u001b[49m\n\u001b[1;32m     14\u001b[0m \u001b[38;5;28mprint\u001b[39m(table)\n\u001b[1;32m     15\u001b[0m table\u001b[38;5;241m.\u001b[39mwrite(\u001b[38;5;124m'\u001b[39m\u001b[38;5;124mlines_4D_cart_cube.fits\u001b[39m\u001b[38;5;124m'\u001b[39m, \u001b[38;5;28mformat\u001b[39m \u001b[38;5;241m=\u001b[39m \u001b[38;5;124m'\u001b[39m\u001b[38;5;124mfits\u001b[39m\u001b[38;5;124m'\u001b[39m, overwrite \u001b[38;5;241m=\u001b[39m \u001b[38;5;28;01mTrue\u001b[39;00m)\n",
      "\u001b[0;31mTypeError\u001b[0m: 'module' object is not callable"
     ]
    }
   ],
   "source": [
    "wavelengths ={\n",
    "        'num': [],\n",
    "        'lines' : []\n",
    "}\n",
    "\n",
    "for i, line in enumerate(my_lvmfield.ism.nebulae_objects[0].wl_list):\n",
    "       \n",
    "    wavelengths['num'].append(i)\n",
    "    wavelengths['lines'].append(line)\n",
    "\n",
    "#print(wavelengths)\n",
    "\n",
    "table = Table(rows = wavelengths)\n",
    "print(table)\n",
    "table.write('lines_4D_cart_cube.fits', format = 'fits', overwrite = True)"
   ]
  }
 ],
 "metadata": {
  "kernelspec": {
   "display_name": "Python 3.10.11 ('base')",
   "language": "python",
   "name": "python3"
  },
  "language_info": {
   "codemirror_mode": {
    "name": "ipython",
    "version": 3
   },
   "file_extension": ".py",
   "mimetype": "text/x-python",
   "name": "python",
   "nbconvert_exporter": "python",
   "pygments_lexer": "ipython3",
   "version": "3.10.11"
  },
  "vscode": {
   "interpreter": {
    "hash": "b943106136f0b7237aa45b13de07160508680759cd2ff79bd892a553daeee42a"
   }
  }
 },
 "nbformat": 4,
 "nbformat_minor": 0
}
